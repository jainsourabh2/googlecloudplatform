{
 "cells": [
  {
   "cell_type": "code",
   "execution_count": null,
   "metadata": {
    "id": "copyright"
   },
   "outputs": [],
   "source": [
    "# Copyright 2022 Google LLC\n",
    "#\n",
    "# Licensed under the Apache License, Version 2.0 (the \"License\");\n",
    "# you may not use this file except in compliance with the License.\n",
    "# You may obtain a copy of the License at\n",
    "#\n",
    "#     https://www.apache.org/licenses/LICENSE-2.0\n",
    "#\n",
    "# Unless required by applicable law or agreed to in writing, software\n",
    "# distributed under the License is distributed on an \"AS IS\" BASIS,\n",
    "# WITHOUT WARRANTIES OR CONDITIONS OF ANY KIND, either express or implied.\n",
    "# See the License for the specific language governing permissions and\n",
    "# limitations under the License."
   ]
  },
  {
   "cell_type": "markdown",
   "metadata": {
    "id": "title"
   },
   "source": [
    "# Training a TensorFlow model on BigQuery data\n",
    "\n",
    "<table align=\"left\">\n",
    "  <td>\n",
    "    <a href=\"https://colab.research.google.com/github/GoogleCloudPlatform/vertex-ai-samples/blob/master/notebooks/official/custom/custom-tabular-bq-managed-dataset.ipynb\">\n",
    "      <img src=\"https://cloud.google.com/ml-engine/images/colab-logo-32px.png\" alt=\"Colab logo\"> Run in Colab\n",
    "    </a>\n",
    "  </td>\n",
    "  <td>\n",
    "    <a href=\"https://github.com/GoogleCloudPlatform/vertex-ai-samples/blob/master/notebooks/official/custom/custom-tabular-bq-managed-dataset.ipynb\">\n",
    "      <img src=\"https://cloud.google.com/ml-engine/images/github-logo-32px.png\" alt=\"GitHub logo\">\n",
    "      View on GitHub\n",
    "    </a>\n",
    "  </td>\n",
    "  <td>\n",
    "    <a href=\"https://console.cloud.google.com/vertex-ai/workbench/deploy-notebook?download_url=https://github.com/GoogleCloudPlatform/vertex-ai-samples/blob/main/notebooks/official/custom/custom-tabular-bq-managed-dataset.ipynb\">\n",
    "      <img src=\"https://lh3.googleusercontent.com/UiNooY4LUgW_oTvpsNhPpQzsstV5W8F7rYgxgGBD85cWJoLmrOzhVs_ksK_vgx40SHs7jCqkTkCk=e14-rj-sc0xffffff-h130-w32\" alt=\"Vertex AI logo\">\n",
    "      Open in Vertex AI Workbench\n",
    "    </a>\n",
    "  </td>  \n",
    "</table>"
   ]
  },
  {
   "cell_type": "markdown",
   "metadata": {
    "id": "overview:custom"
   },
   "source": [
    "## Overview\n",
    "\n",
    "\n",
    "This tutorial demonstrates how to use the Vertex AI SDK for Python to train and deploy a custom tabular classification model for online prediction."
   ]
  },
  {
   "cell_type": "markdown",
   "metadata": {
    "id": "dataset:custom,cifar10,icn"
   },
   "source": [
    "### Dataset\n",
    "\n",
    "The dataset used for this tutorial is the penguins dataset from [BigQuery public datasets](https://cloud.google.com/bigquery/public-data). In this version of the dataset, you will use only the fields `culmen_length_mm`, `culmen_depth_mm`, `flipper_length_mm`, `body_mass_g` to predict the penguins species (`species`)."
   ]
  },
  {
   "cell_type": "markdown",
   "metadata": {
    "id": "objective:custom,training,online_prediction"
   },
   "source": [
    "### Objective\n",
    "\n",
    "In this notebook, you create a custom-trained model from a Python script in a Docker container using the Vertex SDK for Python, and then get a prediction from the deployed model by sending data. Alternatively, you can create custom-trained models using `gcloud` command-line tool, or online using the Cloud Console.\n",
    "\n",
    "The steps performed include:\n",
    "\n",
    "- Create a Vertex AI custom `TrainingPipeline` for training a model.\n",
    "- Train a TensorFlow model.\n",
    "- Deploy the `Model` resource to a serving `Endpoint` resource.\n",
    "- Make a prediction.\n",
    "- Undeploy the `Model` resource."
   ]
  },
  {
   "cell_type": "markdown",
   "metadata": {
    "id": "costs"
   },
   "source": [
    "### Costs\n",
    "\n",
    "This tutorial uses billable components of Google Cloud:\n",
    "\n",
    "* Vertex AI\n",
    "* Cloud Storage\n",
    "\n",
    "Learn about [Vertex AI\n",
    "pricing](https://cloud.google.com/vertex-ai/pricing) and [Cloud Storage\n",
    "pricing](https://cloud.google.com/storage/pricing), and use the [Pricing\n",
    "Calculator](https://cloud.google.com/products/calculator/)\n",
    "to generate a cost estimate based on your projected usage."
   ]
  },
  {
   "cell_type": "markdown",
   "metadata": {
    "id": "install_aip"
   },
   "source": [
    "## Installation\n",
    "\n",
    "Install the latest version of Vertex AI SDK for Python."
   ]
  },
  {
   "cell_type": "code",
   "execution_count": null,
   "metadata": {
    "id": "1fd00fa70a2a"
   },
   "outputs": [],
   "source": [
    "import os\n",
    "\n",
    "# The Google Cloud Notebook product has specific requirements\n",
    "IS_GOOGLE_CLOUD_NOTEBOOK = os.path.exists(\"/opt/deeplearning/metadata/env_version\")\n",
    "\n",
    "# Google Cloud Notebook requires dependencies to be installed with '--user'\n",
    "USER_FLAG = \"\"\n",
    "if IS_GOOGLE_CLOUD_NOTEBOOK:\n",
    "    USER_FLAG = \"--user\""
   ]
  },
  {
   "cell_type": "code",
   "execution_count": null,
   "metadata": {
    "id": "YsxCgt1zlugo"
   },
   "outputs": [],
   "source": [
    "! pip install {USER_FLAG} --upgrade google-cloud-aiplatform"
   ]
  },
  {
   "cell_type": "markdown",
   "metadata": {
    "id": "install_storage"
   },
   "source": [
    "Install the latest version of *google-cloud-storage* library as well."
   ]
  },
  {
   "cell_type": "code",
   "execution_count": null,
   "metadata": {
    "id": "qssss-KSlugo"
   },
   "outputs": [],
   "source": [
    "! pip install {USER_FLAG} -U google-cloud-storage"
   ]
  },
  {
   "cell_type": "markdown",
   "metadata": {
    "id": "Z3hYaR6gLEK-"
   },
   "source": [
    "Install the latest version of *google-cloud-bigquery* library as well."
   ]
  },
  {
   "cell_type": "code",
   "execution_count": null,
   "metadata": {
    "id": "866ffc5cf763"
   },
   "outputs": [],
   "source": [
    "! pip install {USER_FLAG} -U \"google-cloud-bigquery[all]\""
   ]
  },
  {
   "cell_type": "markdown",
   "metadata": {
    "id": "restart"
   },
   "source": [
    "### Restart the kernel\n",
    "\n",
    "Once you've installed everything, you need to restart the notebook kernel so it can find the packages."
   ]
  },
  {
   "cell_type": "code",
   "execution_count": null,
   "metadata": {
    "id": "bzPxhxS5lugp"
   },
   "outputs": [],
   "source": [
    "import os\n",
    "\n",
    "if not os.getenv(\"IS_TESTING\"):\n",
    "    # Automatically restart kernel after installs\n",
    "    import IPython\n",
    "\n",
    "    app = IPython.Application.instance()\n",
    "    app.kernel.do_shutdown(True)"
   ]
  },
  {
   "cell_type": "markdown",
   "metadata": {
    "id": "before_you_begin"
   },
   "source": [
    "## Before you begin\n",
    "\n",
    "### Select a GPU runtime\n",
    "\n",
    "Make sure you're running this notebook in a GPU runtime if you have that option. In Colab, select \"Runtime --> Change runtime type > GPU\"\n",
    "\n",
    "### Set up your Google Cloud project\n",
    "\n",
    "**The following steps are required, regardless of your notebook environment.**\n",
    "\n",
    "1. [Select or create a Google Cloud project](https://console.cloud.google.com/cloud-resource-manager). When you first create an account, you get a $300 free credit towards your compute/storage costs.\n",
    "\n",
    "2. [Make sure that billing is enabled for your project](https://cloud.google.com/billing/docs/how-to/modify-project).\n",
    "\n",
    "3. [Enable the Vertex AI API](https://console.cloud.google.com/flows/enableapi?apiid=aiplatform.googleapis.com).\n",
    "\n",
    "4. If you are running this notebook locally, you will need to install the [Cloud SDK](https://cloud.google.com/sdk).\n",
    "\n",
    "5. Enter your project ID in the cell below. Then run the cell to make sure the\n",
    "Cloud SDK uses the right project for all the commands in this notebook.\n",
    "\n",
    "**Note**: Jupyter runs lines prefixed with `!` as shell commands, and it interpolates Python variables prefixed with `$` into these commands."
   ]
  },
  {
   "cell_type": "markdown",
   "metadata": {
    "id": "project_id"
   },
   "source": [
    "#### Set your project ID\n",
    "\n",
    "**If you don't know your project ID**, you might be able to get your project ID using `gcloud`."
   ]
  },
  {
   "cell_type": "code",
   "execution_count": null,
   "metadata": {
    "id": "autoset_project_id"
   },
   "outputs": [],
   "source": [
    "import os\n",
    "\n",
    "PROJECT_ID = \"\"\n",
    "\n",
    "if not os.getenv(\"IS_TESTING\"):\n",
    "    # Get your Google Cloud project ID from gcloud\n",
    "    shell_output = !gcloud config list --format 'value(core.project)' 2>/dev/null\n",
    "    PROJECT_ID = shell_output[0]\n",
    "    print(\"Project ID: \", PROJECT_ID)"
   ]
  },
  {
   "cell_type": "markdown",
   "metadata": {
    "id": "set_project_id"
   },
   "source": [
    "Otherwise, set your project ID here."
   ]
  },
  {
   "cell_type": "code",
   "execution_count": null,
   "metadata": {
    "id": "USd_pUT0lugr"
   },
   "outputs": [],
   "source": [
    "if PROJECT_ID == \"\" or PROJECT_ID is None:\n",
    "    PROJECT_ID = \"on-prem-project-337210\"  # @param {type:\"string\"}"
   ]
  },
  {
   "cell_type": "markdown",
   "metadata": {
    "id": "timestamp"
   },
   "source": [
    "#### Timestamp\n",
    "\n",
    "If you are in a live tutorial session, you might be using a shared test account or project. To avoid name collisions between users on resources created, create a timestamp for each instance session, and append it onto the name of resources you create in this tutorial."
   ]
  },
  {
   "cell_type": "code",
   "execution_count": null,
   "metadata": {
    "id": "c-pX32xalugs"
   },
   "outputs": [],
   "source": [
    "from datetime import datetime\n",
    "\n",
    "TIMESTAMP = datetime.now().strftime(\"%Y%m%d%H%M%S\")"
   ]
  },
  {
   "cell_type": "markdown",
   "metadata": {
    "id": "gcp_authenticate"
   },
   "source": [
    "### Authenticate your Google Cloud account\n",
    "\n",
    "**If you are using Google Cloud Notebooks**, your environment is already\n",
    "authenticated. Skip this step.\n",
    "\n",
    "**If you are using Colab**, run the cell below and follow the instructions\n",
    "when prompted to authenticate your account via oAuth.\n",
    "\n",
    "**Otherwise**, follow these steps:\n",
    "\n",
    "1. In the Cloud Console, go to the [**Create service account key**\n",
    "   page](https://console.cloud.google.com/apis/credentials/serviceaccountkey).\n",
    "\n",
    "2. Click **Create service account**.\n",
    "\n",
    "3. In the **Service account name** field, enter a name, and\n",
    "   click **Create**.\n",
    "\n",
    "4. In the **Grant this service account access to project** section, click the **Role** drop-down list. Type \"Vertex AI\"\n",
    "into the filter box, and select\n",
    "   **Vertex AI Administrator**. Type \"Storage Object Admin\" into the filter box, and select **Storage Object Admin**.\n",
    "\n",
    "5. Click *Create*. A JSON file that contains your key downloads to your\n",
    "local environment.\n",
    "\n",
    "6. Enter the path to your service account key as the\n",
    "`GOOGLE_APPLICATION_CREDENTIALS` variable in the cell below and run the cell."
   ]
  },
  {
   "cell_type": "code",
   "execution_count": null,
   "metadata": {
    "id": "vF60K5v1lugs"
   },
   "outputs": [],
   "source": [
    "import os\n",
    "import sys\n",
    "\n",
    "# If you are running this notebook in Colab, run this cell and follow the\n",
    "# instructions to authenticate your GCP account. This provides access to your\n",
    "# Cloud Storage bucket and lets you submit training jobs and prediction\n",
    "# requests.\n",
    "\n",
    "# The Google Cloud Notebook product has specific requirements\n",
    "IS_GOOGLE_CLOUD_NOTEBOOK = os.path.exists(\"/opt/deeplearning/metadata/env_version\")\n",
    "\n",
    "# If on Google Cloud Notebooks, then don't execute this code\n",
    "if not IS_GOOGLE_CLOUD_NOTEBOOK:\n",
    "    if \"google.colab\" in sys.modules:\n",
    "        from google.colab import auth as google_auth\n",
    "\n",
    "        google_auth.authenticate_user()\n",
    "\n",
    "    # If you are running this notebook locally, replace the string below with the\n",
    "    # path to your service account key and run this cell to authenticate your GCP\n",
    "    # account.\n",
    "    elif not os.getenv(\"IS_TESTING\"):\n",
    "        %env GOOGLE_APPLICATION_CREDENTIALS ''"
   ]
  },
  {
   "cell_type": "markdown",
   "metadata": {
    "id": "bucket:custom"
   },
   "source": [
    "### Create a Cloud Storage bucket\n",
    "\n",
    "**The following steps are required, regardless of your notebook environment.**\n",
    "\n",
    "When you submit a training job using the Cloud SDK, you upload a Python package\n",
    "containing your training code to a Cloud Storage bucket. Vertex AI runs\n",
    "the code from this package. In this tutorial, Vertex AI also saves the\n",
    "trained model that results from your job in the same bucket. Using this model artifact, you can then\n",
    "create Vertex AI model and endpoint resources in order to serve\n",
    "online predictions.\n",
    "\n",
    "Set the name of your Cloud Storage bucket below. It must be unique across all\n",
    "Cloud Storage buckets.\n",
    "\n",
    "You may also change the `REGION` variable, which is used for operations\n",
    "throughout the rest of this notebook. Make sure to [choose a region where Vertex AI services are\n",
    "available](https://cloud.google.com/vertex-ai/docs/general/locations#available_regions). You may\n",
    "not use a Multi-Regional Storage bucket for training with Vertex AI."
   ]
  },
  {
   "cell_type": "code",
   "execution_count": null,
   "metadata": {
    "id": "bucket"
   },
   "outputs": [],
   "source": [
    "BUCKET_URI = \"gs://customer-demos\"\n",
    "REGION = \"us-central1\"  # @param {type:\"string\"}"
   ]
  },
  {
   "cell_type": "code",
   "execution_count": null,
   "metadata": {
    "id": "autoset_bucket"
   },
   "outputs": [],
   "source": [
    "if BUCKET_URI == \"\" or BUCKET_URI is None or BUCKET_URI == \"gs://[your-bucket-name]\":\n",
    "    BUCKET_URI = \"gs://\" + PROJECT_ID + \"aip-\" + TIMESTAMP\n",
    "\n",
    "if REGION == \"us-central1\":\n",
    "    REGION = \"us-central1\""
   ]
  },
  {
   "cell_type": "markdown",
   "metadata": {
    "id": "create_bucket"
   },
   "source": [
    "**Only if your bucket doesn't already exist**: Run the following cell to create your Cloud Storage bucket."
   ]
  },
  {
   "cell_type": "code",
   "execution_count": null,
   "metadata": {
    "id": "Oz8J0vmSlugt"
   },
   "outputs": [],
   "source": [
    "! gsutil mb -l $REGION $BUCKET_URI\n"
   ]
  },
  {
   "cell_type": "markdown",
   "metadata": {
    "id": "validate_bucket"
   },
   "source": [
    "Finally, validate access to your Cloud Storage bucket by examining its contents:"
   ]
  },
  {
   "cell_type": "code",
   "execution_count": null,
   "metadata": {
    "id": "oadE10x2lugu"
   },
   "outputs": [],
   "source": [
    "! gsutil ls -al $BUCKET_URI"
   ]
  },
  {
   "cell_type": "markdown",
   "metadata": {
    "id": "setup_vars"
   },
   "source": [
    "## Set up variables\n",
    "\n",
    "Next, set up some variables used throughout the tutorial."
   ]
  },
  {
   "cell_type": "markdown",
   "metadata": {
    "id": "import_aip"
   },
   "source": [
    "### Import Vertex AI SDK for Python\n",
    "\n",
    "Import the Vertex AI SDK for Python into your Python environment and initialize it."
   ]
  },
  {
   "cell_type": "code",
   "execution_count": 29,
   "metadata": {
    "id": "cNEiwLd0lugu"
   },
   "outputs": [],
   "source": [
    "import json\n",
    "import os\n",
    "import sys\n",
    "\n",
    "import numpy as np\n",
    "from google.cloud import aiplatform, bigquery\n",
    "from google.cloud.aiplatform import gapic as aip\n",
    "\n",
    "aiplatform.init(project=PROJECT_ID, location=REGION, staging_bucket=BUCKET_URI)"
   ]
  },
  {
   "cell_type": "markdown",
   "metadata": {
    "id": "accelerators:training,prediction"
   },
   "source": [
    "### Set hardware accelerators\n",
    "\n",
    "You can set hardware accelerators for both training and prediction.\n",
    "\n",
    "Set the variables `TRAIN_GPU/TRAIN_NGPU` and `DEPLOY_GPU/DEPLOY_NGPU` to use a container image supporting a GPU and the number of GPUs allocated to the virtual machine (VM) instance. For example, to use a GPU container image with 4 Nvidia Tesla K80 GPUs allocated to each VM, you would specify:\n",
    "\n",
    "    (aip.AcceleratorType.NVIDIA_TESLA_K80, 4)\n",
    "\n",
    "See the [locations where accelerators are available](https://cloud.google.com/vertex-ai/docs/general/locations#accelerators).\n",
    "\n",
    "Otherwise specify `(None, None)` to use a container image to run on a CPU.\n",
    "\n",
    "Learn [which accelerators are available in your region.](https://cloud.google.com/vertex-ai/docs/general/locations#accelerators)"
   ]
  },
  {
   "cell_type": "code",
   "execution_count": null,
   "metadata": {
    "id": "xd5PLXDTlugv"
   },
   "outputs": [],
   "source": [
    "TRAIN_GPU, TRAIN_NGPU = (aip.AcceleratorType.NVIDIA_TESLA_K80, 1)\n",
    "\n",
    "DEPLOY_GPU, DEPLOY_NGPU = (aip.AcceleratorType.NVIDIA_TESLA_K80, 1)"
   ]
  },
  {
   "cell_type": "markdown",
   "metadata": {
    "id": "container:training,prediction"
   },
   "source": [
    "### Set pre-built containers\n",
    "\n",
    "Vertex AI provides pre-built containers to run training and prediction.\n",
    "\n",
    "For the latest list, see [Pre-built containers for training](https://cloud.google.com/vertex-ai/docs/training/pre-built-containers) and [Pre-built containers for prediction](https://cloud.google.com/vertex-ai/docs/predictions/pre-built-containers)"
   ]
  },
  {
   "cell_type": "code",
   "execution_count": null,
   "metadata": {
    "id": "1u1mr18jlugv"
   },
   "outputs": [],
   "source": [
    "TRAIN_VERSION = \"tf-gpu.2-8\"\n",
    "DEPLOY_VERSION = \"tf2-gpu.2-8\"\n",
    "\n",
    "TRAIN_IMAGE = \"us-docker.pkg.dev/vertex-ai/training/{}:latest\".format(TRAIN_VERSION)\n",
    "DEPLOY_IMAGE = \"us-docker.pkg.dev/vertex-ai/prediction/{}:latest\".format(DEPLOY_VERSION)\n",
    "\n",
    "print(\"Training:\", TRAIN_IMAGE, TRAIN_GPU, TRAIN_NGPU)\n",
    "print(\"Deployment:\", DEPLOY_IMAGE, DEPLOY_GPU, DEPLOY_NGPU)"
   ]
  },
  {
   "cell_type": "markdown",
   "metadata": {
    "id": "machine:training,prediction"
   },
   "source": [
    "### Set machine types\n",
    "\n",
    "Next, set the machine types to use for training and prediction.\n",
    "\n",
    "- Set the variables `TRAIN_COMPUTE` and `DEPLOY_COMPUTE` to configure your compute resources for training and prediction.\n",
    " - `machine type`\n",
    "     - `n1-standard`: 3.75GB of memory per vCPU\n",
    "     - `n1-highmem`: 6.5GB of memory per vCPU\n",
    "     - `n1-highcpu`: 0.9 GB of memory per vCPU\n",
    " - `vCPUs`: number of \\[2, 4, 8, 16, 32, 64, 96 \\]\n",
    "\n",
    "*Note: The following is not supported for training:*\n",
    "\n",
    " - `standard`: 2 vCPUs\n",
    " - `highcpu`: 2, 4 and 8 vCPUs\n",
    "\n",
    "*Note: You may also use n2 and e2 machine types for training and deployment, but they do not support GPUs*.\n",
    "\n",
    "Learn [which machine types are available for training](https://cloud.google.com/vertex-ai/docs/training/configure-compute) and [which machine types are available for prediction](https://cloud.google.com/vertex-ai/docs/predictions/configure-compute)"
   ]
  },
  {
   "cell_type": "code",
   "execution_count": null,
   "metadata": {
    "id": "YAXwbqKKlugv"
   },
   "outputs": [],
   "source": [
    "MACHINE_TYPE = \"n1-standard\"\n",
    "\n",
    "VCPU = \"4\"\n",
    "TRAIN_COMPUTE = MACHINE_TYPE + \"-\" + VCPU\n",
    "print(\"Train machine type\", TRAIN_COMPUTE)\n",
    "\n",
    "MACHINE_TYPE = \"n1-standard\"\n",
    "\n",
    "VCPU = \"4\"\n",
    "DEPLOY_COMPUTE = MACHINE_TYPE + \"-\" + VCPU\n",
    "print(\"Deploy machine type\", DEPLOY_COMPUTE)"
   ]
  },
  {
   "cell_type": "markdown",
   "metadata": {
    "id": "59f24e7d2269"
   },
   "source": [
    "## Prepare the data\n",
    "\n",
    "To improve the convergence of the custom deep learning model, normalize the data. To prepare for this, calculate the mean and standard deviation for each numeric column.\n",
    "\n",
    "Pass these summary statistics to the training script to normalize the data before training. Later, during prediction, use these summary statistics again to normalize the testing data."
   ]
  },
  {
   "cell_type": "code",
   "execution_count": null,
   "metadata": {
    "id": "890d562c6291"
   },
   "outputs": [],
   "source": [
    "BQ_SOURCE = \"bq://bigquery-public-data.ml_datasets.penguins\""
   ]
  },
  {
   "cell_type": "code",
   "execution_count": null,
   "metadata": {
    "id": "8e52b7832cd3"
   },
   "outputs": [],
   "source": [
    "# Calculate mean and std across all rows\n",
    "\n",
    "NA_VALUES = [\"NA\", \".\"]\n",
    "\n",
    "# Set up BigQuery clients\n",
    "bqclient = bigquery.Client(project=PROJECT_ID)\n",
    "\n",
    "\n",
    "# Download a table\n",
    "def download_table(bq_table_uri: str):\n",
    "    # Remove bq:// prefix if present\n",
    "    prefix = \"bq://\"\n",
    "    if bq_table_uri.startswith(prefix):\n",
    "        bq_table_uri = bq_table_uri[len(prefix) :]\n",
    "\n",
    "    table = bigquery.TableReference.from_string(bq_table_uri)\n",
    "    rows = bqclient.list_rows(\n",
    "        table,\n",
    "    )\n",
    "    return rows.to_dataframe()\n",
    "\n",
    "\n",
    "# Remove NA values\n",
    "def clean_dataframe(df):\n",
    "    return df.replace(to_replace=NA_VALUES, value=np.NaN).dropna()\n",
    "\n",
    "\n",
    "def calculate_mean_and_std(df):\n",
    "    # Calculate mean and std for each applicable column\n",
    "    mean_and_std = {}\n",
    "    dtypes = list(zip(df.dtypes.index, map(str, df.dtypes)))\n",
    "    # Normalize numeric columns.\n",
    "    for column, dtype in dtypes:\n",
    "        if dtype == \"float32\" or dtype == \"float64\":\n",
    "            mean_and_std[column] = {\n",
    "                \"mean\": df[column].mean(),\n",
    "                \"std\": df[column].std(),\n",
    "            }\n",
    "\n",
    "    return mean_and_std\n",
    "\n",
    "\n",
    "dataframe = download_table(BQ_SOURCE)\n",
    "dataframe = clean_dataframe(dataframe)\n",
    "mean_and_std = calculate_mean_and_std(dataframe)\n",
    "\n",
    "print(\"The mean and stds for each column are: \" + str(mean_and_std))\n",
    "\n",
    "# Write to a file\n",
    "MEAN_AND_STD_JSON_FILE = \"mean_and_std.json\"\n",
    "\n",
    "with open(MEAN_AND_STD_JSON_FILE, \"w\") as outfile:\n",
    "    json.dump(mean_and_std, outfile)\n",
    "\n",
    "# Save to the staging bucket\n",
    "! gsutil cp {MEAN_AND_STD_JSON_FILE} {BUCKET_URI}"
   ]
  },
  {
   "cell_type": "markdown",
   "metadata": {
    "id": "5c7732822757"
   },
   "source": [
    "## Create a managed tabular dataset from BigQuery dataset\n",
    "\n",
    "Your first step in training a model is to create a managed dataset instance."
   ]
  },
  {
   "cell_type": "code",
   "execution_count": null,
   "metadata": {
    "id": "1d26b159106f"
   },
   "outputs": [],
   "source": [
    "dataset = aiplatform.TabularDataset.create(\n",
    "    display_name=\"sample-penguins\", bq_source=BQ_SOURCE\n",
    ")"
   ]
  },
  {
   "cell_type": "markdown",
   "metadata": {
    "id": "train_custom_model"
   },
   "source": [
    "## Train a model\n",
    "\n",
    "There are two ways you can train a model using a container image:\n",
    "\n",
    "- **Use a Vertex AI pre-built container**. If you use a pre-built training container, you must additionally specify a Python package to install into the container image. This Python package contains your training code.\n",
    "\n",
    "- **Use your own custom container image**. If you use your own container, the container image must contain your training code."
   ]
  },
  {
   "cell_type": "markdown",
   "metadata": {
    "id": "train_custom_job_args"
   },
   "source": [
    "### Define the command args for the training script\n",
    "\n",
    "Prepare the command-line arguments to pass to your training script.\n",
    "- `args`: The command line arguments to pass to the corresponding Python module. In this example, they are:\n",
    "  - `\"--epochs=\" + EPOCHS`: The number of epochs for training.\n",
    "  - `\"--batch_size=\" + BATCH_SIZE`: The number of batch size for training.\n",
    "  - `\"--distribute=\" + TRAIN_STRATEGY` : The training distribution strategy to use for single or distributed training.\n",
    "     - `\"single\"`: single device.\n",
    "     - `\"mirror\"`: all GPU devices on a single compute instance.\n",
    "     - `\"multi\"`: all GPU devices on all compute instances.\n",
    "  - `\"--mean_and_std_json_file=\" + FILE_PATH`: The file on Google Cloud Storage with pre-calculated means and standard deviations."
   ]
  },
  {
   "cell_type": "code",
   "execution_count": null,
   "metadata": {
    "id": "1npiDcUtlugw"
   },
   "outputs": [],
   "source": [
    "JOB_NAME = \"custom_job_\" + TIMESTAMP\n",
    "\n",
    "if not TRAIN_NGPU or TRAIN_NGPU < 2:\n",
    "    TRAIN_STRATEGY = \"single\"\n",
    "else:\n",
    "    TRAIN_STRATEGY = \"mirror\"\n",
    "\n",
    "EPOCHS = 20\n",
    "BATCH_SIZE = 10\n",
    "\n",
    "CMDARGS = [\n",
    "    \"--epochs=\" + str(EPOCHS),\n",
    "    \"--batch_size=\" + str(BATCH_SIZE),\n",
    "    \"--distribute=\" + TRAIN_STRATEGY,\n",
    "    \"--mean_and_std_json_file=\" + f\"{BUCKET_URI}/{MEAN_AND_STD_JSON_FILE}\",\n",
    "]"
   ]
  },
  {
   "cell_type": "markdown",
   "metadata": {
    "id": "taskpy_contents"
   },
   "source": [
    "#### Training script\n",
    "\n",
    "In the next cell, write the contents of the training script, `task.py`. In summary, the script does the following:\n",
    "\n",
    "- Loads the data from the BigQuery table using the BigQuery Python client library.\n",
    "- Loads the pre-calculated mean and standard deviation from the Google Cloud Storage bucket.\n",
    "- Builds a model using TF.Keras model API.\n",
    "- Compiles the model (`compile()`).\n",
    "- Sets a training distribution strategy according to the argument `args.distribute`.\n",
    "- Trains the model (`fit()`) with epochs and batch size according to the arguments `args.epochs` and `args.batch_size`\n",
    "- Gets the directory where to save the model artifacts from the environment variable `AIP_MODEL_DIR`. This variable is [set by the training service](https://cloud.google.com/vertex-ai/docs/training/code-requirements#environment-variables).\n",
    "- Saves the trained model to the model directory."
   ]
  },
  {
   "cell_type": "code",
   "execution_count": null,
   "metadata": {
    "id": "72rUqXNFlugx"
   },
   "outputs": [],
   "source": [
    "%%writefile task.py\n",
    "\n",
    "import argparse\n",
    "import tensorflow as tf\n",
    "import numpy as np\n",
    "import os\n",
    "\n",
    "import pandas as pd\n",
    "import tensorflow as tf\n",
    "\n",
    "from google.cloud import bigquery\n",
    "from google.cloud import storage\n",
    "\n",
    "# Read environmental variables\n",
    "training_data_uri = os.getenv(\"AIP_TRAINING_DATA_URI\")\n",
    "validation_data_uri = os.getenv(\"AIP_VALIDATION_DATA_URI\")\n",
    "test_data_uri = os.getenv(\"AIP_TEST_DATA_URI\")\n",
    "\n",
    "# Read args\n",
    "parser = argparse.ArgumentParser()\n",
    "parser.add_argument('--epochs', dest='epochs',\n",
    "                    default=10, type=int,\n",
    "                    help='Number of epochs.')\n",
    "parser.add_argument('--batch_size', dest='batch_size',\n",
    "                    default=10, type=int,\n",
    "                    help='Batch size.')\n",
    "parser.add_argument('--distribute', dest='distribute', type=str, default='single',\n",
    "                    help='Distributed training strategy.')\n",
    "parser.add_argument('--mean_and_std_json_file', dest='mean_and_std_json_file', type=str,\n",
    "                    help='GCS URI to the JSON file with pre-calculated column means and standard deviations.')\n",
    "args = parser.parse_args()\n",
    "\n",
    "def download_blob(bucket_name, source_blob_name, destination_file_name):\n",
    "    \"\"\"Downloads a blob from the bucket.\"\"\"\n",
    "    # bucket_name = \"your-bucket-name\"\n",
    "    # source_blob_name = \"storage-object-name\"\n",
    "    # destination_file_name = \"local/path/to/file\"\n",
    "\n",
    "    storage_client = storage.Client()\n",
    "\n",
    "    bucket = storage_client.bucket(bucket_name)\n",
    "\n",
    "    # Construct a client side representation of a blob.\n",
    "    # Note `Bucket.blob` differs from `Bucket.get_blob` as it doesn't retrieve\n",
    "    # any content from Google Cloud Storage. As we don't need additional data,\n",
    "    # using `Bucket.blob` is preferred here.\n",
    "    blob = bucket.blob(source_blob_name)\n",
    "    blob.download_to_filename(destination_file_name)\n",
    "\n",
    "    print(\n",
    "        \"Blob {} downloaded to {}.\".format(\n",
    "            source_blob_name, destination_file_name\n",
    "        )\n",
    "    )\n",
    "\n",
    "def extract_bucket_and_prefix_from_gcs_path(gcs_path: str):\n",
    "    \"\"\"Given a complete GCS path, return the bucket name and prefix as a tuple.\n",
    "\n",
    "    Example Usage:\n",
    "\n",
    "        bucket, prefix = extract_bucket_and_prefix_from_gcs_path(\n",
    "            \"gs://example-bucket/path/to/folder\"\n",
    "        )\n",
    "\n",
    "        # bucket = \"example-bucket\"\n",
    "        # prefix = \"path/to/folder\"\n",
    "\n",
    "    Args:\n",
    "        gcs_path (str):\n",
    "            Required. A full path to a Google Cloud Storage folder or resource.\n",
    "            Can optionally include \"gs://\" prefix or end in a trailing slash \"/\".\n",
    "\n",
    "    Returns:\n",
    "        Tuple[str, Optional[str]]\n",
    "            A (bucket, prefix) pair from provided GCS path. If a prefix is not\n",
    "            present, a None will be returned in its place.\n",
    "    \"\"\"\n",
    "    if gcs_path.startswith(\"gs://\"):\n",
    "        gcs_path = gcs_path[5:]\n",
    "    if gcs_path.endswith(\"/\"):\n",
    "        gcs_path = gcs_path[:-1]\n",
    "\n",
    "    gcs_parts = gcs_path.split(\"/\", 1)\n",
    "    gcs_bucket = gcs_parts[0]\n",
    "    gcs_blob_prefix = None if len(gcs_parts) == 1 else gcs_parts[1]\n",
    "\n",
    "    return (gcs_bucket, gcs_blob_prefix)\n",
    "\n",
    "# Download means and std\n",
    "def download_mean_and_std(mean_and_std_json_file):\n",
    "    \"\"\"Download mean and std for each column\"\"\"\n",
    "    import json\n",
    "    \n",
    "    bucket, file_path = extract_bucket_and_prefix_from_gcs_path(mean_and_std_json_file)\n",
    "    download_blob(bucket_name=bucket, source_blob_name=file_path, destination_file_name=file_path)\n",
    "    \n",
    "    with open(file_path, 'r') as file:\n",
    "        return json.loads(file.read())\n",
    "    \n",
    "mean_and_std = download_mean_and_std(args.mean_and_std_json_file)\n",
    "\n",
    "# Single Machine, single compute device\n",
    "if args.distribute == 'single':\n",
    "    if tf.test.is_gpu_available():\n",
    "        strategy = tf.distribute.OneDeviceStrategy(device=\"/gpu:0\")\n",
    "    else:\n",
    "        strategy = tf.distribute.OneDeviceStrategy(device=\"/cpu:0\")\n",
    "# Single Machine, multiple compute device\n",
    "elif args.distribute == 'mirror':\n",
    "    strategy = tf.distribute.MirroredStrategy()\n",
    "# Multiple Machine, multiple compute device\n",
    "elif args.distribute == 'multi':\n",
    "    strategy = tf.distribute.experimental.MultiWorkerMirroredStrategy()\n",
    "\n",
    "# Set up training variables\n",
    "LABEL_COLUMN = \"species\"\n",
    "UNUSED_COLUMNS = []\n",
    "NA_VALUES = [\"NA\", \".\"]\n",
    "\n",
    "# Possible categorical values\n",
    "SPECIES = ['Adelie Penguin (Pygoscelis adeliae)',\n",
    "           'Chinstrap penguin (Pygoscelis antarctica)',\n",
    "           'Gentoo penguin (Pygoscelis papua)']\n",
    "ISLANDS = ['Dream', 'Biscoe', 'Torgersen']\n",
    "SEXES = ['FEMALE', 'MALE']\n",
    "\n",
    "# Set up BigQuery clients\n",
    "bqclient = bigquery.Client()\n",
    "\n",
    "# Download a table\n",
    "def download_table(bq_table_uri: str):\n",
    "    # Remove bq:// prefix if present\n",
    "    prefix = \"bq://\"\n",
    "    if bq_table_uri.startswith(prefix):\n",
    "        bq_table_uri = bq_table_uri[len(prefix):]\n",
    "\n",
    "    table = bigquery.TableReference.from_string(bq_table_uri)\n",
    "    rows = bqclient.list_rows(\n",
    "        table,\n",
    "    )\n",
    "    return rows.to_dataframe(create_bqstorage_client=False)\n",
    "\n",
    "\n",
    "df_train = download_table(training_data_uri)\n",
    "df_validation = download_table(validation_data_uri)\n",
    "df_test = download_table(test_data_uri)\n",
    "\n",
    "# Remove NA values\n",
    "def clean_dataframe(df):\n",
    "    return df.replace(to_replace=NA_VALUES, value=np.NaN).dropna()\n",
    "\n",
    "\n",
    "df_train = clean_dataframe(df_train)\n",
    "#     df_validation = clean_dataframe(df_validation)\n",
    "df_validation = clean_dataframe(df_validation)\n",
    "\n",
    "_CATEGORICAL_TYPES = {\n",
    "    \"island\": pd.api.types.CategoricalDtype(categories=ISLANDS),\n",
    "    \"species\": pd.api.types.CategoricalDtype(categories=SPECIES),\n",
    "    \"sex\": pd.api.types.CategoricalDtype(categories=SEXES),\n",
    "}\n",
    "\n",
    "\n",
    "def standardize(df, mean_and_std):\n",
    "    \"\"\"Scales numerical columns using their means and standard deviation to get\n",
    "    z-scores: the mean of each numerical column becomes 0, and the standard\n",
    "    deviation becomes 1. This can help the model converge during training.\n",
    "\n",
    "    Args:\n",
    "      df: Pandas df\n",
    "\n",
    "    Returns:\n",
    "      Input df with the numerical columns scaled to z-scores\n",
    "    \"\"\"\n",
    "    dtypes = list(zip(df.dtypes.index, map(str, df.dtypes)))\n",
    "    # Normalize numeric columns.\n",
    "    for column, dtype in dtypes:\n",
    "        if dtype == \"float32\":\n",
    "            df[column] -= mean_and_std[column][\"mean\"]\n",
    "            df[column] /= mean_and_std[column][\"std\"]\n",
    "    return df\n",
    "\n",
    "def preprocess(df):\n",
    "    \"\"\"Converts categorical features to numeric. Removes unused columns.\n",
    "\n",
    "    Args:\n",
    "      df: Pandas df with raw data\n",
    "\n",
    "    Returns:\n",
    "      df with preprocessed data\n",
    "    \"\"\"\n",
    "    df = df.drop(columns=UNUSED_COLUMNS)\n",
    "\n",
    "    # Drop rows with NaN's\n",
    "    df = df.dropna()\n",
    "\n",
    "    # Convert integer valued (numeric) columns to floating point\n",
    "    numeric_columns = df.select_dtypes([\"int32\", \"float32\", \"float64\"]).columns\n",
    "    df[numeric_columns] = df[numeric_columns].astype(\"float32\")\n",
    "\n",
    "    # Convert categorical columns to numeric\n",
    "    cat_columns = df.select_dtypes([\"object\"]).columns\n",
    "\n",
    "    df[cat_columns] = df[cat_columns].apply(\n",
    "        lambda x: x.astype(_CATEGORICAL_TYPES[x.name])\n",
    "    )\n",
    "    df[cat_columns] = df[cat_columns].apply(lambda x: x.cat.codes)\n",
    "    return df\n",
    "\n",
    "\n",
    "def convert_dataframe_to_dataset(\n",
    "    df_train,\n",
    "    df_validation,\n",
    "    mean_and_std\n",
    "):\n",
    "    df_train = preprocess(df_train)\n",
    "    df_validation = preprocess(df_validation)\n",
    "\n",
    "    df_train_x, df_train_y = df_train, df_train.pop(LABEL_COLUMN)\n",
    "    df_validation_x, df_validation_y = df_validation, df_validation.pop(LABEL_COLUMN)\n",
    "\n",
    "    # Join train_x and eval_x to normalize on overall means and standard\n",
    "    # deviations. Then separate them again.\n",
    "    all_x = pd.concat([df_train_x, df_validation_x], keys=[\"train\", \"eval\"])\n",
    "    all_x = standardize(all_x, mean_and_std)\n",
    "    df_train_x, df_validation_x = all_x.xs(\"train\"), all_x.xs(\"eval\")\n",
    "\n",
    "    y_train = np.asarray(df_train_y).astype(\"float32\")\n",
    "    y_validation = np.asarray(df_validation_y).astype(\"float32\")\n",
    "\n",
    "    # Convert to numpy representation\n",
    "    x_train = np.asarray(df_train_x)\n",
    "    x_test = np.asarray(df_validation_x)\n",
    "\n",
    "    # Convert to one-hot representation\n",
    "    y_train = tf.keras.utils.to_categorical(y_train, num_classes=len(SPECIES))\n",
    "    y_validation = tf.keras.utils.to_categorical(y_validation, num_classes=len(SPECIES))\n",
    "\n",
    "    dataset_train = tf.data.Dataset.from_tensor_slices((x_train, y_train))\n",
    "    dataset_validation = tf.data.Dataset.from_tensor_slices((x_test, y_validation))\n",
    "    return (dataset_train, dataset_validation)\n",
    "\n",
    "# Create datasets\n",
    "dataset_train, dataset_validation = convert_dataframe_to_dataset(df_train, df_validation, mean_and_std)\n",
    "\n",
    "# Shuffle train set\n",
    "dataset_train = dataset_train.shuffle(len(df_train))\n",
    "\n",
    "def create_model(num_features):\n",
    "    # Create model\n",
    "    Dense = tf.keras.layers.Dense\n",
    "    model = tf.keras.Sequential(\n",
    "        [\n",
    "            Dense(\n",
    "                100,\n",
    "                activation=tf.nn.relu,\n",
    "                kernel_initializer=\"uniform\",\n",
    "                input_dim=num_features,\n",
    "            ),\n",
    "            Dense(75, activation=tf.nn.relu),\n",
    "            Dense(50, activation=tf.nn.relu),\n",
    "            Dense(25, activation=tf.nn.relu),\n",
    "            Dense(3, activation=tf.nn.softmax),\n",
    "        ]\n",
    "    )\n",
    "    \n",
    "    # Compile Keras model\n",
    "    optimizer = tf.keras.optimizers.RMSprop(lr=0.001)\n",
    "    model.compile(\n",
    "        loss=\"categorical_crossentropy\", metrics=[\"accuracy\"], optimizer=optimizer\n",
    "    )\n",
    "    \n",
    "    return model\n",
    "\n",
    "# Create the model\n",
    "with strategy.scope():\n",
    "    model = create_model(num_features=dataset_train._flat_shapes[0].dims[0].value)\n",
    "\n",
    "# Set up datasets\n",
    "NUM_WORKERS = strategy.num_replicas_in_sync\n",
    "# Here the batch size scales up by number of workers since\n",
    "# `tf.data.Dataset.batch` expects the global batch size.\n",
    "GLOBAL_BATCH_SIZE = args.batch_size * NUM_WORKERS\n",
    "dataset_train = dataset_train.batch(GLOBAL_BATCH_SIZE)\n",
    "dataset_validation = dataset_validation.batch(GLOBAL_BATCH_SIZE)\n",
    "\n",
    "# Train the model\n",
    "model.fit(dataset_train, epochs=args.epochs, validation_data=dataset_validation)\n",
    "\n",
    "tf.saved_model.save(model, os.getenv(\"AIP_MODEL_DIR\"))\n",
    "\n",
    "df_test.head()"
   ]
  },
  {
   "cell_type": "markdown",
   "metadata": {
    "id": "train_custom_job"
   },
   "source": [
    "### Train the model\n",
    "\n",
    "Define your custom `TrainingPipeline` on Vertex AI.\n",
    "\n",
    "Use the `CustomTrainingJob` class to define the `TrainingPipeline`. The class takes the following parameters:\n",
    "\n",
    "- `display_name`: The user-defined name of this training pipeline.\n",
    "- `script_path`: The local path to the training script.\n",
    "- `container_uri`: The URI of the training container image.\n",
    "- `requirements`: The list of Python package dependencies of the script.\n",
    "- `model_serving_container_image_uri`: The URI of a container that can serve predictions for your model — either a pre-built container or a custom container.\n",
    "\n",
    "Use the `run` function to start training. The function takes the following parameters:\n",
    "\n",
    "- `args`: The command line arguments to be passed to the Python script.\n",
    "- `replica_count`: The number of worker replicas.\n",
    "- `model_display_name`: The display name of the `Model` if the script produces a managed `Model`.\n",
    "- `machine_type`: The type of machine to use for training.\n",
    "- `accelerator_type`: The hardware accelerator type.\n",
    "- `accelerator_count`: The number of accelerators to attach to a worker replica.\n",
    "\n",
    "The `run` function creates a training pipeline that trains and creates a `Model` object. After the training pipeline completes, the `run` function returns the `Model` object."
   ]
  },
  {
   "cell_type": "code",
   "execution_count": 30,
   "metadata": {
    "id": "mxIxvDdglugx"
   },
   "outputs": [
    {
     "name": "stdout",
     "output_type": "stream",
     "text": [
      "Training script copied to:\n",
      "gs://customer-demos/aiplatform-2022-06-07-09:58:07.323-aiplatform_custom_trainer_script-0.1.tar.gz.\n",
      "Training Output directory:\n",
      "gs://customer-demos/aiplatform-custom-training-2022-06-07-09:58:07.457 \n",
      "No dataset split provided. The service will use a default split.\n",
      "View Training:\n",
      "https://console.cloud.google.com/ai/platform/locations/us-central1/training/4518429290450124800?project=533775010529\n",
      "CustomTrainingJob projects/533775010529/locations/us-central1/trainingPipelines/4518429290450124800 current state:\n",
      "PipelineState.PIPELINE_STATE_RUNNING\n",
      "CustomTrainingJob projects/533775010529/locations/us-central1/trainingPipelines/4518429290450124800 current state:\n",
      "PipelineState.PIPELINE_STATE_RUNNING\n",
      "CustomTrainingJob projects/533775010529/locations/us-central1/trainingPipelines/4518429290450124800 current state:\n",
      "PipelineState.PIPELINE_STATE_RUNNING\n",
      "CustomTrainingJob projects/533775010529/locations/us-central1/trainingPipelines/4518429290450124800 current state:\n",
      "PipelineState.PIPELINE_STATE_RUNNING\n",
      "CustomTrainingJob projects/533775010529/locations/us-central1/trainingPipelines/4518429290450124800 current state:\n",
      "PipelineState.PIPELINE_STATE_RUNNING\n",
      "View backing custom job:\n",
      "https://console.cloud.google.com/ai/platform/locations/us-central1/training/1427024805609078784?project=533775010529\n",
      "CustomTrainingJob projects/533775010529/locations/us-central1/trainingPipelines/4518429290450124800 current state:\n",
      "PipelineState.PIPELINE_STATE_RUNNING\n",
      "CustomTrainingJob run completed. Resource name: projects/533775010529/locations/us-central1/trainingPipelines/4518429290450124800\n",
      "Model available at projects/533775010529/locations/us-central1/models/4223659568892215296\n"
     ]
    }
   ],
   "source": [
    "job = aiplatform.CustomTrainingJob(\n",
    "    display_name=JOB_NAME,\n",
    "    script_path=\"task.py\",\n",
    "    container_uri=TRAIN_IMAGE,\n",
    "    requirements=[\"google-cloud-bigquery>=2.20.0\", \"db-dtypes\"],\n",
    "    model_serving_container_image_uri=DEPLOY_IMAGE,\n",
    ")\n",
    "\n",
    "MODEL_DISPLAY_NAME = \"penguins-\" + TIMESTAMP\n",
    "\n",
    "# Start the training\n",
    "if TRAIN_GPU:\n",
    "    model = job.run(\n",
    "        dataset=dataset,\n",
    "        model_display_name=MODEL_DISPLAY_NAME,\n",
    "        bigquery_destination=f\"bq://{PROJECT_ID}\",\n",
    "        args=CMDARGS,\n",
    "        replica_count=1,\n",
    "        machine_type=TRAIN_COMPUTE,\n",
    "        accelerator_type=TRAIN_GPU.name,\n",
    "        accelerator_count=TRAIN_NGPU,\n",
    "    )\n",
    "else:\n",
    "    model = job.run(\n",
    "        dataset=dataset,\n",
    "        model_display_name=MODEL_DISPLAY_NAME,\n",
    "        bigquery_destination=f\"bq://{PROJECT_ID}\",\n",
    "        args=CMDARGS,\n",
    "        replica_count=1,\n",
    "        machine_type=TRAIN_COMPUTE,\n",
    "        accelerator_count=0,\n",
    "    )"
   ]
  },
  {
   "cell_type": "markdown",
   "metadata": {
    "id": "deploy_model:dedicated"
   },
   "source": [
    "### Deploy the model\n",
    "\n",
    "Before you use your model to make predictions, you must deploy it to an `Endpoint`. You can do this by calling the `deploy` function on the `Model` resource. This will do two things:\n",
    "\n",
    "1. Create an `Endpoint` resource for deploying the `Model` resource to.\n",
    "2. Deploy the `Model` resource to the `Endpoint` resource.\n",
    "\n",
    "\n",
    "The function takes the following parameters:\n",
    "\n",
    "- `deployed_model_display_name`: A human readable name for the deployed model.\n",
    "- `traffic_split`: Percent of traffic at the endpoint that goes to this model, which is specified as a dictionary of one or more key/value pairs.\n",
    "   - If only one model, then specify `{ \"0\": 100 }`, where \"0\" refers to this model being uploaded and 100 means 100% of the traffic.\n",
    "   - If there are existing models on the endpoint, for which the traffic will be split, then use `model_id` to specify `{ \"0\": percent, model_id: percent, ... }`, where `model_id` is the ID of an existing `DeployedModel` on the endpoint. The percentages must add up to 100.\n",
    "- `machine_type`: The type of machine to use for training.\n",
    "- `accelerator_type`: The hardware accelerator type.\n",
    "- `accelerator_count`: The number of accelerators to attach to a worker replica.\n",
    "- `starting_replica_count`: The number of compute instances to initially provision.\n",
    "- `max_replica_count`: The maximum number of compute instances to scale to. In this tutorial, only one instance is provisioned.\n",
    "\n",
    "### Traffic split\n",
    "\n",
    "The `traffic_split` parameter is specified as a Python dictionary. You can deploy more than one instance of your model to an endpoint, and then set the percentage of traffic that goes to each instance.\n",
    "\n",
    "You can use a traffic split to introduce a new model gradually into production. For example, if you had one existing model in production with 100% of the traffic, you could deploy a new model to the same endpoint, direct 10% of traffic to it, and reduce the original model's traffic to 90%. This allows you to monitor the new model's performance while minimizing the distruption to the majority of users.\n",
    "\n",
    "### Compute instance scaling\n",
    "\n",
    "You can specify a single instance (or node) to serve your online prediction requests. This tutorial uses a single node, so the variables `MIN_NODES` and `MAX_NODES` are both set to `1`.\n",
    "\n",
    "If you want to use multiple nodes to serve your online prediction requests, set `MAX_NODES` to the maximum number of nodes you want to use. Vertex AI autoscales the number of nodes used to serve your predictions, up to the maximum number you set. Refer to the [pricing page](https://cloud.google.com/vertex-ai/pricing#prediction-prices) to understand the costs of autoscaling with multiple nodes.\n",
    "\n",
    "### Endpoint\n",
    "\n",
    "The method will block until the model is deployed and eventually return an `Endpoint` object. If this is the first time a model is deployed to the endpoint, it may take a few additional minutes to complete provisioning of resources."
   ]
  },
  {
   "cell_type": "code",
   "execution_count": null,
   "metadata": {
    "id": "WMH7GrYMlugy"
   },
   "outputs": [],
   "source": [
    "DEPLOYED_NAME = \"penguins_deployed-\" + TIMESTAMP\n",
    "\n",
    "TRAFFIC_SPLIT = {\"0\": 100}\n",
    "\n",
    "MIN_NODES = 1\n",
    "MAX_NODES = 1\n",
    "\n",
    "if DEPLOY_GPU:\n",
    "    endpoint = model.deploy(\n",
    "        deployed_model_display_name=DEPLOYED_NAME,\n",
    "        traffic_split=TRAFFIC_SPLIT,\n",
    "        machine_type=DEPLOY_COMPUTE,\n",
    "        accelerator_type=DEPLOY_GPU.name,\n",
    "        accelerator_count=DEPLOY_NGPU,\n",
    "        min_replica_count=MIN_NODES,\n",
    "        max_replica_count=MAX_NODES,\n",
    "    )\n",
    "else:\n",
    "    endpoint = model.deploy(\n",
    "        deployed_model_display_name=DEPLOYED_NAME,\n",
    "        traffic_split=TRAFFIC_SPLIT,\n",
    "        machine_type=DEPLOY_COMPUTE,\n",
    "        accelerator_type=DEPLOY_COMPUTE.name,\n",
    "        accelerator_count=0,\n",
    "        min_replica_count=MIN_NODES,\n",
    "        max_replica_count=MAX_NODES,\n",
    "    )"
   ]
  },
  {
   "cell_type": "markdown",
   "metadata": {
    "id": "make_prediction"
   },
   "source": [
    "## Make an online prediction request\n",
    "\n",
    "Send an online prediction request to your deployed model."
   ]
  },
  {
   "cell_type": "markdown",
   "metadata": {
    "id": "get_test_item:test"
   },
   "source": [
    "### Prepare test data\n",
    "\n",
    "Prepare test data by normalizing it and converting categorical values to numeric values.\n",
    "You must normalize these values in the same way that your normalized training data.\n",
    "\n",
    "In this example, perform testing with the same dataset that you used for training. In practice, you generally want to use a separate test dataset to verify your results."
   ]
  },
  {
   "cell_type": "code",
   "execution_count": 32,
   "metadata": {
    "id": "e3a2449cfcf1"
   },
   "outputs": [],
   "source": [
    "import pandas as pd\n",
    "from google.cloud import bigquery\n",
    "\n",
    "UNUSED_COLUMNS = []\n",
    "LABEL_COLUMN = \"species\"\n",
    "\n",
    "# Possible categorical values\n",
    "SPECIES = [\n",
    "    \"Adelie Penguin (Pygoscelis adeliae)\",\n",
    "    \"Chinstrap penguin (Pygoscelis antarctica)\",\n",
    "    \"Gentoo penguin (Pygoscelis papua)\",\n",
    "]\n",
    "ISLANDS = [\"Dream\", \"Biscoe\", \"Torgersen\"]\n",
    "SEXES = [\"FEMALE\", \"MALE\"]\n",
    "\n",
    "_CATEGORICAL_TYPES = {\n",
    "    \"island\": pd.api.types.CategoricalDtype(categories=ISLANDS),\n",
    "    \"species\": pd.api.types.CategoricalDtype(categories=SPECIES),\n",
    "    \"sex\": pd.api.types.CategoricalDtype(categories=SEXES),\n",
    "}\n",
    "\n",
    "\n",
    "def standardize(df, mean_and_std):\n",
    "    \"\"\"Scales numerical columns using their means and standard deviation to get\n",
    "    z-scores: the mean of each numerical column becomes 0, and the standard\n",
    "    deviation becomes 1. This can help the model converge during training.\n",
    "\n",
    "    Args:\n",
    "      df: Pandas df\n",
    "\n",
    "    Returns:\n",
    "      Input df with the numerical columns scaled to z-scores\n",
    "    \"\"\"\n",
    "    dtypes = list(zip(df.dtypes.index, map(str, df.dtypes)))\n",
    "    # Normalize numeric columns.\n",
    "    for column, dtype in dtypes:\n",
    "        if dtype == \"float32\":\n",
    "            df[column] -= mean_and_std[column][\"mean\"]\n",
    "            df[column] /= mean_and_std[column][\"std\"]\n",
    "    return df\n",
    "\n",
    "\n",
    "def preprocess(df, mean_and_std):\n",
    "    \"\"\"Converts categorical features to numeric. Removes unused columns.\n",
    "\n",
    "    Args:\n",
    "      df: Pandas df with raw data\n",
    "\n",
    "    Returns:\n",
    "      df with preprocessed data\n",
    "    \"\"\"\n",
    "    df = df.drop(columns=UNUSED_COLUMNS)\n",
    "\n",
    "    # Drop rows with NaN's\n",
    "    df = df.dropna()\n",
    "\n",
    "    # Convert integer valued (numeric) columns to floating point\n",
    "    numeric_columns = df.select_dtypes([\"int32\", \"float32\", \"float64\"]).columns\n",
    "    df[numeric_columns] = df[numeric_columns].astype(\"float32\")\n",
    "\n",
    "    # Convert categorical columns to numeric\n",
    "    cat_columns = df.select_dtypes([\"object\"]).columns\n",
    "\n",
    "    df[cat_columns] = df[cat_columns].apply(\n",
    "        lambda x: x.astype(_CATEGORICAL_TYPES[x.name])\n",
    "    )\n",
    "    df[cat_columns] = df[cat_columns].apply(lambda x: x.cat.codes)\n",
    "    return df\n",
    "\n",
    "\n",
    "def convert_dataframe_to_list(df, mean_and_std):\n",
    "    df = preprocess(df, mean_and_std)\n",
    "\n",
    "    df_x, df_y = df, df.pop(LABEL_COLUMN)\n",
    "\n",
    "    # Normalize on overall means and standard deviations.\n",
    "    df = standardize(df, mean_and_std)\n",
    "\n",
    "    y = np.asarray(df_y).astype(\"float32\")\n",
    "\n",
    "    # Convert to numpy representation\n",
    "    x = np.asarray(df_x)\n",
    "\n",
    "    # Convert to one-hot representation\n",
    "    return x.tolist(), y.tolist()\n",
    "\n",
    "\n",
    "x_test, y_test = convert_dataframe_to_list(dataframe, mean_and_std)"
   ]
  },
  {
   "cell_type": "markdown",
   "metadata": {
    "id": "send_prediction_request:image"
   },
   "source": [
    "### Send the prediction request\n",
    "\n",
    "Now that you have test data, you can use it to send a prediction request. Use the `Endpoint` object's `predict` function, which takes the following parameters:\n",
    "\n",
    "- `instances`: A list of penguin measurement instances. According to your custom model, each instance should be an array of numbers. You prepared this list in the previous step.\n",
    "\n",
    "The `predict` function returns a list, where each element in the list corresponds to the an instance in the request. In the output for each prediction, you will see the following:\n",
    "\n",
    "- Confidence level for the prediction (`predictions`), between 0 and 1, for each of the ten classes.\n",
    "\n",
    "You can then run a quick evaluation on the prediction results:\n",
    "1. `np.argmax`: Convert each list of confidence levels to a label\n",
    "2. Compare the predicted labels to the actual labels\n",
    "3. Calculate `accuracy` as `correct/total`"
   ]
  },
  {
   "cell_type": "code",
   "execution_count": 33,
   "metadata": {
    "id": "6e20473b09f5"
   },
   "outputs": [
    {
     "name": "stdout",
     "output_type": "stream",
     "text": [
      "[[0.0, -1.351845622062683, 0.6272150874137878, -1.210562825202942, -0.9091439843177795, 0.0], [0.0, -0.7666938900947571, 0.9826833605766296, -1.210562825202942, 0.5500921010971069, 1.0], [0.0, -0.5655476450920105, 0.8811207413673401, -1.210562825202942, -0.38133519887924194, 1.0], [0.0, 0.45846736431121826, 0.3733094036579132, -0.6397770643234253, -0.8780964016914368, 0.0], [0.0, -1.2238435745239258, -0.18528321385383606, -0.6397770643234253, -1.4990479946136475, 0.0], [0.0, -0.14497007429599762, 0.6779963970184326, -0.6397770643234253, -0.13295458257198334, 1.0], [0.0, 0.5316115617752075, -0.2868448793888092, -0.6397770643234253, -1.8716188669204712, 0.0], [0.0, 1.1899068355560303, 0.6272150874137878, -0.06899122148752213, -1.002286672592163, 0.0], [0.0, 1.0070469379425049, 0.9319020509719849, -0.06899122148752213, -0.5055254697799683, 1.0], [0.0, -0.6935496926307678, 1.4904946088790894, -0.06899122148752213, -0.2881924510002136, 1.0], [0.0, -0.5838340520858765, 0.8811207413673401, 0.5017945766448975, 0.11542603373527527, 1.0], [0.0, -0.9129816889762878, 0.7795590162277222, -1.1392146348953247, -0.6918109655380249, 1.0], [0.0, -1.2787014245986938, -0.1345018893480301, -1.1392146348953247, -1.4990479946136475, 0.0], [0.0, 0.549897313117981, 0.06862244009971619, -1.1392146348953247, -0.6297158002853394, 0.0], [0.0, -1.8272809982299805, -0.03293923661112785, -1.1392146348953247, -1.002286672592163, 0.0], [0.0, -1.2787014245986938, -0.33762621879577637, -1.1392146348953247, -1.002286672592163, 0.0], [0.0, 0.3121795952320099, 0.06862244009971619, -0.5684288144111633, -0.7539061307907104, 0.0], [0.0, 1.2081925868988037, 1.1350263357162476, -0.5684288144111633, -0.5055254697799683, 1.0], [0.0, -0.7849796414375305, 0.3733094036579132, -0.5684288144111633, 0.053330883383750916, 1.0], [0.0, -1.132413625717163, 0.47487205266952515, -0.5684288144111633, -0.5676206350326538, 1.0], [0.0, 0.4767530560493469, 0.32252809405326843, -0.5684288144111633, -0.5055254697799683, 0.0], [0.0, 1.336194634437561, 1.0334646701812744, -0.5684288144111633, -0.6918109655380249, 1.0], [0.0, -0.6935496926307678, -0.03293923661112785, -0.5684288144111633, -1.002286672592163, 0.0], [0.0, -1.3152735233306885, 0.6779963970184326, -0.5684288144111633, -0.8780964016914368, 0.0], [0.0, 1.0253326892852783, 0.5256533622741699, -0.5684288144111633, -0.536573052406311, 1.0], [0.0, 1.4641966819763184, 0.47487205266952515, 0.002357008634135127, -0.1950497329235077, 1.0], [0.0, -0.45583200454711914, 0.6779963970184326, 0.002357008634135127, -0.25714489817619324, 1.0], [0.0, 1.1899068355560303, 1.2365890741348267, 0.002357008634135127, -0.1950497329235077, 1.0], [0.0, 1.8664884567260742, 1.8459620475769043, 0.002357008634135127, 0.11542603373527527, 1.0], [0.0, 1.3544809818267822, 0.9319020509719849, 0.002357008634135127, -0.3192400336265564, 1.0], [0.0, 1.2447646856307983, 0.6779963970184326, 0.002357008634135127, 0.3017114996910095, 1.0], [0.0, -1.9918551445007324, -0.5407505631446838, -1.6386522054672241, -1.623238205909729, 0.0], [0.0, -1.2421293258666992, 0.47487205266952515, -1.6386522054672241, -0.38133519887924194, 1.0], [0.0, -0.8215517401695251, -0.23606356978416443, -1.6386522054672241, -1.1885721683502197, 0.0], [0.0, 0.3853231370449066, 0.5256533622741699, -1.6386522054672241, -1.1885721683502197, 0.0], [0.0, -1.4615613222122192, 0.6779963970184326, -1.0678664445877075, -1.3748576641082764, 0.0], [0.0, -0.8032660484313965, 0.47487205266952515, -1.0678664445877075, 0.3017114996910095, 1.0], [0.0, 1.4093388319015503, 1.592056393623352, -0.49708059430122375, -0.536573052406311, 1.0], [0.0, -0.49240410327911377, 1.592056393623352, -0.49708059430122375, -0.8160012364387512, 1.0], [0.0, 0.2938931882381439, 1.1350263357162476, -0.49708059430122375, -0.847048819065094, 0.0], [0.0, 1.1350489854812622, 0.8303393721580505, 0.07370523363351822, -0.5055254697799683, 1.0], [0.0, -1.5164190530776978, 0.42409074306488037, 0.07370523363351822, -0.8160012364387512, 0.0], [0.0, -0.09011225402355194, 0.47487205266952515, 0.07370523363351822, -1.002286672592163, 0.0], [0.0, 0.915617048740387, 1.185807704925537, 0.6444910764694214, -0.3192400336265564, 1.0], [0.0, 1.2447646856307983, 0.9319020509719849, 0.6444910764694214, -0.13295458257198334, 1.0], [0.0, 1.4641966819763184, 1.7951816320419312, 0.6444910764694214, 0.7363775968551636, 1.0], [0.0, 0.4036095440387726, 0.17018508911132812, -0.9965181946754456, -0.6918109655380249, 0.0], [0.0, 1.3727667331695557, 0.7795590162277222, -0.9965181946754456, -1.1885721683502197, 1.0], [0.0, -0.5655476450920105, -0.2868448793888092, -0.9965181946754456, -1.2506673336029053, 0.0], [0.0, -0.27297213673591614, -0.23606356978416443, -0.9965181946754456, -1.0643818378448486, 0.0], [0.0, -1.077555775642395, 0.2209664136171341, -0.9965181946754456, -0.9712391495704651, 0.0], [0.0, -0.27297213673591614, 0.06862244009971619, -0.9965181946754456, -1.0643818378448486, 0.0], [0.0, -1.4615613222122192, -0.03293923661112785, -0.9965181946754456, -0.6297158002853394, 0.0], [0.0, -0.6204061508178711, 0.017842086032032967, -0.9965181946754456, -0.9091439843177795, 1.0], [0.0, -1.424989104270935, 0.06862244009971619, -0.9965181946754456, -1.1264770030975342, 0.0], [0.0, -0.14497007429599762, -0.2868448793888092, -0.9965181946754456, -1.623238205909729, 0.0], [0.0, 0.9521891474723816, 0.5256533622741699, -0.4257323443889618, 0.23961634933948517, 1.0], [0.0, 0.6596129536628723, 0.5764337182044983, -0.4257323443889618, -0.4434303343296051, 0.0], [0.0, 0.3121795952320099, -0.08372055739164352, -0.4257323443889618, -0.6918109655380249, 0.0], [0.0, 0.4950394630432129, 0.3733094036579132, -0.4257323443889618, -1.1264770030975342, 0.0], [0.0, 0.36703741550445557, 0.8811207413673401, -0.4257323443889618, -0.07085942476987839, 0.0], [0.0, -1.3884170055389404, -0.08372055739164352, -0.4257323443889618, -1.0954294204711914, 0.0], [0.0, 1.0436190366744995, 0.7287777066230774, -0.4257323443889618, -0.7539061307907104, 1.0], [0.0, -1.4615613222122192, 0.32252809405326843, -0.4257323443889618, -0.9401915669441223, 0.0], [0.0, -0.5838340520858765, 0.6272150874137878, -0.4257323443889618, -0.38133519887924194, 1.0], [0.0, 0.9704748392105103, 1.3889319896697998, 0.1450534611940384, -0.1950497329235077, 1.0], [0.0, 1.226478934288025, 1.2873703241348267, 0.1450534611940384, -0.1950497329235077, 1.0], [0.0, 1.281336784362793, 0.8303393721580505, 0.1450534611940384, -0.13295458257198334, 1.0], [0.0, -0.3278299570083618, 0.6779963970184326, -1.4959557056427002, -0.8160012364387512, 0.0], [0.0, -0.8215517401695251, 0.32252809405326843, -0.9251699447631836, -1.1264770030975342, 0.0], [0.0, -2.174715042114258, -0.8454375267028809, -0.9251699447631836, -1.436952829360962, 0.0], [0.0, 0.2573217749595642, 0.7795590162277222, -0.9251699447631836, -0.847048819065094, 0.0], [0.0, 1.2630510330200195, 0.9826833605766296, -0.3543841242790222, -0.8160012364387512, 1.0], [0.0, -0.6752640008926392, 0.6779963970184326, -0.3543841242790222, 0.17752118408679962, 1.0], [0.0, 0.27560749650001526, -0.08372055739164352, -0.3543841242790222, -0.8780964016914368, 0.0], [0.0, 1.0984768867492676, 1.185807704925537, -0.3543841242790222, -0.38133519887924194, 1.0], [0.0, -0.8764095306396484, 1.9983059167861938, -0.3543841242790222, -0.07085942476987839, 1.0], [0.0, 0.019603390246629715, 1.2873703241348267, -0.3543841242790222, 0.23961634933948517, 1.0], [0.0, 1.2630510330200195, 0.3733094036579132, -0.3543841242790222, -0.6607633829116821, 0.0], [0.0, 0.915617048740387, 1.2365890741348267, 0.7871875166893005, 0.11542603373527527, 1.0], [0.0, -1.1689857244491577, 1.0842450857162476, -1.424607515335083, -1.1264770030975342, 0.0], [0.0, -0.2912578284740448, 0.06862244009971619, -1.424607515335083, -0.7539061307907104, 0.0], [0.0, 2.5613558292388916, 0.32252809405326843, -1.424607515335083, -0.6297158002853394, 0.0], [0.0, -1.0409836769104004, 1.0334646701812744, -0.8538216948509216, -0.3192400336265564, 1.0], [0.0, -1.2969870567321777, 0.7287777066230774, -0.8538216948509216, -0.8780964016914368, 0.0], [0.0, 0.5133251547813416, -0.33762621879577637, -0.8538216948509216, -0.6918109655380249, 0.0], [0.0, 1.500768780708313, 0.8303393721580505, -0.28303590416908264, -0.9401915669441223, 1.0], [0.0, 1.336194634437561, 0.5256533622741699, -0.28303590416908264, -0.5676206350326538, 1.0], [0.0, 1.5921987295150757, 1.3381507396697998, -0.28303590416908264, -0.5986682176589966, 1.0], [0.0, 1.4641966819763184, 0.9319020509719849, -0.28303590416908264, -0.07085942476987839, 1.0], [0.0, 1.1533347368240356, 1.4397133588790894, -0.28303590416908264, -1.1264770030975342, 1.0], [0.0, 1.738486409187317, 1.3889319896697998, 0.28774991631507874, 0.36380666494369507, 1.0], [0.0, -0.5289762020111084, 0.47487205266952515, 0.28774991631507874, 0.11542603373527527, 1.0], [0.0, 1.6104843616485596, 1.4397133588790894, 0.28774991631507874, 0.4259018003940582, 1.0], [0.0, -1.3701313734054565, 0.42409074306488037, -1.3532593250274658, -1.3127624988555908, 0.0], [0.0, -0.5289762020111084, 0.9319020509719849, -1.3532593250274658, -0.9712391495704651, 1.0], [0.0, -1.4615613222122192, 0.3733094036579132, -0.7824735045433044, -0.9401915669441223, 0.0], [0.0, -0.5289762020111084, 0.17018508911132812, -0.7824735045433044, -0.38133519887924194, 1.0], [0.0, -1.4067034721374512, 1.185807704925537, -0.7824735045433044, -0.5055254697799683, 1.0], [0.0, -0.8764095306396484, 0.7287777066230774, -0.7824735045433044, 0.053330883383750916, 1.0], [0.0, -0.9312673807144165, 0.8303393721580505, -0.7824735045433044, -0.7539061307907104, 0.0], [0.0, -0.8032660484313965, 0.8303393721580505, -0.7824735045433044, 0.4879969656467438, 1.0], [0.0, -0.6021197438240051, -0.08372055739164352, -0.7824735045433044, -0.5986682176589966, 1.0], [0.0, 0.3487517237663269, -0.03293923661112785, -0.7824735045433044, -0.7849537134170532, 0.0], [0.0, -1.077555775642395, 0.7287777066230774, -0.7824735045433044, -0.6297158002853394, 0.0], [0.0, -0.9495537877082825, 1.4397133588790894, -0.7824735045433044, -0.3192400336265564, 1.0], [0.0, 0.4401816427707672, 0.7287777066230774, -0.7824735045433044, -0.9401915669441223, 0.0], [0.0, 1.116762638092041, 0.3733094036579132, -0.7824735045433044, -1.002286672592163, 0.0], [0.0, 0.2207496613264084, 0.32252809405326843, -0.21168766915798187, -0.3192400336265564, 0.0], [0.0, 1.336194634437561, 1.3889319896697998, -0.21168766915798187, -0.6297158002853394, 1.0], [0.0, 1.061904788017273, 0.06862244009971619, -0.21168766915798187, -0.6607633829116821, 0.0], [0.0, 1.1350489854812622, 0.7795590162277222, -0.21168766915798187, -0.536573052406311, 0.0], [0.0, 1.445910930633545, 1.185807704925537, 0.3590981364250183, -0.3192400336265564, 1.0], [0.0, 0.2207496613264084, -0.2868448793888092, -0.7111252546310425, -1.1885721683502197, 0.0], [0.0, 0.8241870999336243, 0.17018508911132812, -0.7111252546310425, -1.002286672592163, 1.0], [0.0, -0.30954423546791077, 2.0490872859954834, -0.7111252546310425, -0.07085942476987839, 1.0], [0.0, -1.2238435745239258, 0.32252809405326843, -0.7111252546310425, -1.0643818378448486, 0.0], [0.0, -1.5347055196762085, 0.17018508911132812, -0.7111252546310425, -1.281714916229248, 0.0], [0.0, 0.4401816427707672, 0.32252809405326843, -0.7111252546310425, -0.6297158002853394, 0.0], [0.0, 0.6413272023200989, -0.18528321385383606, -0.1403394490480423, -0.38133519887924194, 0.0], [0.0, 0.7510428428649902, -0.38840752840042114, -0.1403394490480423, -1.0954294204711914, 0.0], [0.0, -1.1872714757919312, 0.6779963970184326, -0.1403394490480423, 0.3327590823173523, 1.0], [0.0, 2.1590640544891357, 1.3381507396697998, 0.4304463863372803, -0.25714489817619324, 1.0], [1.0, -0.7849796414375305, 0.8811207413673401, -1.210562825202942, -0.8160012364387512, 1.0], [1.0, -1.3884170055389404, -0.03293923661112785, -1.210562825202942, -1.6853333711624146, 0.0], [1.0, -0.4375462830066681, 0.42409074306488037, -0.6397770643234253, -0.3192400336265564, 1.0], [1.0, -1.644421100616455, 0.3733094036579132, -0.6397770643234253, -0.5986682176589966, 0.0], [1.0, -0.5289762020111084, 0.5256533622741699, -0.6397770643234253, -0.1950497329235077, 1.0], [1.0, -0.36440205574035645, 1.185807704925537, -0.06899122148752213, -0.1950497329235077, 1.0], [1.0, -0.03525443375110626, -1.6579357385635376, 0.5017945766448975, 0.11542603373527527, 0.0], [1.0, -0.12668436765670776, -1.6071544885635376, 0.5017945766448975, 0.456949383020401, 0.0], [1.0, 0.0013176815118640661, -1.8102787733078003, 0.5017945766448975, 0.17752118408679962, 0.0], [1.0, -0.23640000820159912, -1.7594980001449585, 0.5017945766448975, -0.3192400336265564, 0.0], [1.0, 0.23903536796569824, -1.708716630935669, 0.5017945766448975, -0.008764269761741161, 0.0], [1.0, -0.14497007429599762, -1.3532488346099854, 0.5017945766448975, 0.3017114996910095, 0.0], [1.0, 0.8607591986656189, -0.7438753247261047, 0.5017945766448975, 1.419424295425415, 1.0], [1.0, 1.1899068355560303, -0.997780978679657, 1.0725804567337036, 0.984758198261261, 0.0], [1.0, 0.9887612462043762, -0.69309401512146, 1.0725804567337036, 0.8916154503822327, 1.0], [1.0, 1.0253326892852783, -1.099343180656433, 1.0725804567337036, 0.674282431602478, 1.0], [1.0, 0.4401816427707672, -1.099343180656433, 1.0725804567337036, 0.6121872663497925, 0.0], [1.0, 0.915617048740387, -0.5407505631446838, 1.0725804567337036, 1.6678048372268677, 1.0], [1.0, 0.6778993606567383, -1.099343180656433, 1.0725804567337036, 0.674282431602478, 0.0], [1.0, 1.0070469379425049, -0.5407505631446838, 1.6433662176132202, 1.7919951677322388, 1.0], [1.0, 1.0984768867492676, -0.6423131823539734, 1.6433662176132202, 1.419424295425415, 1.0], [1.0, 1.1716210842132568, -0.9469996690750122, 1.6433662176132202, 1.6678048372268677, 1.0], [1.0, -1.5164190530776978, -0.1345018893480301, -1.1392146348953247, -1.3127624988555908, 0.0], [1.0, -1.1689857244491577, -0.08372055739164352, -1.1392146348953247, -0.7539061307907104, 0.0], [1.0, -1.0592694282531738, 0.47487205266952515, -1.1392146348953247, -0.3192400336265564, 1.0], [1.0, -0.6204061508178711, 0.8303393721580505, -0.5684288144111633, -0.5055254697799683, 1.0], [1.0, -0.7849796414375305, 0.27174773812294006, -0.5684288144111633, -1.2506673336029053, 0.0], [1.0, -1.114127278327942, 0.7287777066230774, -0.5684288144111633, -1.5921907424926758, 0.0], [1.0, 0.7510428428649902, -1.0485618114471436, 0.5731428265571594, 1.6057096719741821, 1.0], [1.0, 0.4036095440387726, -1.3532488346099854, 0.5731428265571594, 0.7363775968551636, 0.0], [1.0, -0.12668436765670776, -1.9118413925170898, 0.5731428265571594, 0.23961634933948517, 0.0], [1.0, -0.21811430156230927, -1.5055923461914062, 0.5731428265571594, 0.6121872663497925, 0.0], [1.0, 0.6413272023200989, -1.5055923461914062, 0.5731428265571594, 0.4879969656467438, 0.0], [1.0, -0.07182654738426208, -1.6579357385635376, 1.1439286470413208, 0.8605678677558899, 0.0], [1.0, 0.9704748392105103, -0.7438753247261047, 1.1439286470413208, 2.0403757095336914, 1.0], [1.0, 0.45846736431121826, -1.2009053230285645, 1.1439286470413208, 1.2331387996673584, 0.0], [1.0, 0.45846736431121826, -1.4040300846099854, 1.1439286470413208, 0.8605678677558899, 0.0], [1.0, 0.4036095440387726, -1.556373119354248, 1.1439286470413208, 0.2085687667131424, 0.0], [1.0, 1.116762638092041, -1.099343180656433, 1.7147144079208374, 0.984758198261261, 1.0], [1.0, 1.2996224164962769, -0.33762621879577637, 1.7147144079208374, 1.295233964920044, 1.0], [1.0, 1.0253326892852783, -0.5915318727493286, 1.7147144079208374, 1.8540903329849243, 1.0], [1.0, 1.1899068355560303, -0.6423131823539734, 1.7147144079208374, 1.4815194606781006, 1.0], [1.0, -0.9129816889762878, 0.17018508911132812, -1.0678664445877075, -0.8160012364387512, 0.0], [1.0, -0.8032660484313965, 0.27174773812294006, -1.0678664445877075, -0.8780964016914368, 0.0], [1.0, -1.1689857244491577, 0.9826833605766296, -0.49708059430122375, -0.5676206350326538, 1.0], [1.0, 0.33046531677246094, -1.3024674654006958, 0.6444910764694214, -0.008764269761741161, 0.0], [1.0, 0.45846736431121826, -1.8610601425170898, 0.6444910764694214, 0.4259018003940582, 0.0], [1.0, 0.23903536796569824, -1.7594980001449585, 0.6444910764694214, 0.11542603373527527, 0.0], [1.0, 0.8607591986656189, -1.556373119354248, 0.6444910764694214, 0.3017114996910095, 0.0], [1.0, -0.36440205574035645, -1.8610601425170898, 0.6444910764694214, -0.07085942476987839, 0.0], [1.0, 0.20246325433254242, -1.4040300846099854, 0.6444910764694214, 0.23961634933948517, 0.0], [1.0, 0.27560749650001526, -1.6579357385635376, 0.6444910764694214, -0.008764269761741161, 0.0], [1.0, 0.7693292498588562, -1.4548109769821167, 0.6444910764694214, 0.4879969656467438, 0.0], [1.0, 0.4767530560493469, -1.5055923461914062, 0.6444910764694214, 0.7984727025032043, 0.0], [1.0, -0.4192598760128021, -1.251686692237854, 0.6444910764694214, 0.6121872663497925, 0.0], [1.0, 1.1350489854812622, -1.4548109769821167, 1.215276837348938, 1.8540903329849243, 1.0], [1.0, 0.6413272023200989, -1.099343180656433, 1.215276837348938, 0.9226630330085754, 0.0], [1.0, 1.336194634437561, -1.5055923461914062, 1.215276837348938, 1.3573291301727295, 1.0], [1.0, 1.0984768867492676, -0.997780978679657, 1.215276837348938, 1.8540903329849243, 1.0], [1.0, -0.1083979606628418, -1.4040300846099854, 1.215276837348938, 0.4879969656467438, 0.0], [1.0, 1.2447646856307983, -0.7438753247261047, 1.7860627174377441, 1.2331387996673584, 1.0], [1.0, -1.5895633697509766, 0.8811207413673401, -0.9965181946754456, -0.5055254697799683, 0.0], [1.0, -0.6386918425559998, 0.3733094036579132, -0.9965181946754456, -1.2506673336029053, 0.0], [1.0, -1.7358510494232178, 0.47487205266952515, -0.9965181946754456, -1.623238205909729, 0.0], [1.0, -0.49240410327911377, 1.9983059167861938, -0.4257323443889618, 0.23961634933948517, 1.0], [1.0, -1.5529911518096924, -0.4899692237377167, -0.4257323443889618, -1.0643818378448486, 0.0], [1.0, -0.5472619533538818, 1.4397133588790894, 0.1450534611940384, 0.6432348489761353, 1.0], [1.0, 0.8059014081954956, -1.4040300846099854, 0.1450534611940384, 0.5190445184707642, 0.0], [1.0, 0.2573217749595642, -1.3024674654006958, 0.7158392667770386, 0.7363775968551636, 0.0], [1.0, 0.3853231370449066, -2.0134036540985107, 0.7158392667770386, 0.36380666494369507, 0.0], [1.0, 0.0744619071483612, 0.06862244009971619, 1.2866251468658447, 1.295233964920044, 1.0], [1.0, 0.33046531677246094, -1.5055923461914062, 1.2866251468658447, 0.6121872663497925, 0.0], [1.0, 1.720200777053833, -0.69309401512146, 1.2866251468658447, 1.6057096719741821, 1.0], [1.0, 0.8241870999336243, -1.099343180656433, 1.2866251468658447, 0.7984727025032043, 0.0], [1.0, 0.4950394630432129, -0.9469996690750122, 1.2866251468658447, 1.2331387996673584, 1.0], [1.0, -1.114127278327942, 0.7287777066230774, -2.066741466522217, -1.3127624988555908, 0.0], [1.0, -0.9495537877082825, 0.017842086032032967, -1.4959557056427002, -0.5055254697799683, 1.0], [1.0, -1.1506993770599365, 0.7795590162277222, -1.4959557056427002, -0.7539061307907104, 1.0], [1.0, -0.6386918425559998, 0.8811207413673401, -1.4959557056427002, -0.3192400336265564, 1.0], [1.0, -0.5289762020111084, 0.9826833605766296, -0.9251699447631836, -0.13295458257198334, 1.0], [1.0, -0.7118360996246338, 0.8811207413673401, -0.9251699447631836, 0.11542603373527527, 1.0], [1.0, -0.23640000820159912, 0.5764337182044983, -0.3543841242790222, -0.16400215029716492, 1.0], [1.0, 0.6413272023200989, -1.6071544885635376, 0.7871875166893005, 0.8295202851295471, 0.0], [1.0, 0.6230415105819702, -1.3024674654006958, 0.7871875166893005, 0.6432348489761353, 0.0], [1.0, 0.27560749650001526, -1.3532488346099854, 0.7871875166893005, 0.674282431602478, 0.0], [1.0, 0.2207496613264084, -1.2009053230285645, 0.7871875166893005, 1.2331387996673584, 0.0], [1.0, 0.1658918410539627, -1.708716630935669, 0.7871875166893005, 0.674282431602478, 0.0], [1.0, 0.9339027404785156, -1.3532488346099854, 0.7871875166893005, 0.5190445184707642, 0.0], [1.0, 0.8059014081954956, -0.4391888678073883, 1.357973337173462, 1.4815194606781006, 1.0], [1.0, 1.0984768867492676, -0.9469996690750122, 1.357973337173462, 1.6678048372268677, 1.0], [1.0, 0.18417754769325256, -0.8962188363075256, 1.357973337173462, 1.0468533039093018, 1.0], [1.0, 0.27560749650001526, -1.099343180656433, 1.357973337173462, 0.984758198261261, 1.0], [1.0, 0.8241870999336243, -1.556373119354248, 1.357973337173462, 1.3573291301727295, 1.0], [1.0, 1.2996224164962769, -0.4391888678073883, 1.357973337173462, 2.226661205291748, 1.0], [1.0, 0.9339027404785156, -1.2009053230285645, 1.357973337173462, 1.1710436344146729, 0.0], [1.0, -0.09011225402355194, -1.5055923461914062, 1.357973337173462, 0.6121872663497925, 0.0], [1.0, 0.9339027404785156, -1.099343180656433, 1.9287590980529785, 1.6057096719741821, 1.0], [1.0, 2.1773505210876465, -0.08372055739164352, 1.9287590980529785, 1.7299000024795532, 1.0], [1.0, 1.2447646856307983, 0.06862244009971619, 1.9287590980529785, 1.7299000024795532, 1.0], [1.0, 1.500768780708313, -0.03293923661112785, 1.9287590980529785, 1.4815194606781006, 1.0], [1.0, -1.077555775642395, -0.08372055739164352, -1.424607515335083, -1.281714916229248, 0.0], [1.0, -1.3701313734054565, -0.2868448793888092, -1.424607515335083, -1.6853333711624146, 0.0], [1.0, -1.4798469543457031, 1.0334646701812744, -0.8538216948509216, -0.5055254697799683, 0.0], [1.0, -0.3278299570083618, 1.185807704925537, -0.28303590416908264, 0.08437845855951309, 1.0], [1.0, -0.14497007429599762, 0.9319020509719849, -0.28303590416908264, 0.7053300142288208, 1.0], [1.0, -0.2546864151954651, -1.7594980001449585, 0.8585357069969177, 0.9226630330085754, 0.0], [1.0, 0.1658918410539627, -1.9626222848892212, 0.8585357069969177, 1.1089484691619873, 0.0], [1.0, 0.45846736431121826, -1.3532488346099854, 0.8585357069969177, 0.23961634933948517, 0.0], [1.0, -0.09011225402355194, -0.997780978679657, 0.8585357069969177, 0.5500921010971069, 0.0], [1.0, 0.8059014081954956, -1.3024674654006958, 0.8585357069969177, 2.0403757095336914, 1.0], [1.0, 1.0801911354064941, -0.5407505631446838, 0.8585357069969177, 1.4815194606781006, 1.0], [1.0, 0.4401816427707672, -0.7946562170982361, 1.429321527481079, 0.984758198261261, 1.0], [1.0, 0.9521891474723816, -0.997780978679657, 1.429321527481079, 2.5992321968078613, 1.0], [1.0, 0.4036095440387726, -1.150124430656433, 1.429321527481079, 1.3573291301727295, 1.0], [1.0, 1.5556265115737915, -0.7946562170982361, 1.429321527481079, 1.5436146259307861, 1.0], [1.0, 0.7693292498588562, -0.7946562170982361, 1.429321527481079, 1.1089484691619873, 1.0], [1.0, 1.061904788017273, -0.6423131823539734, 2.0001072883605957, 2.1645660400390625, 1.0], [1.0, 1.0070469379425049, -0.4899692237377167, 2.0001072883605957, 1.9782806634902954, 1.0], [1.0, -1.132413625717163, 0.5764337182044983, -1.9240450859069824, -1.002286672592163, 0.0], [1.0, -1.644421100616455, 0.3733094036579132, -0.7824735045433044, -0.9401915669441223, 0.0], [1.0, -1.0592694282531738, 1.4397133588790894, -0.7824735045433044, -0.38133519887924194, 1.0], [1.0, -1.132413625717163, 1.4397133588790894, -0.7824735045433044, 0.053330883383750916, 1.0], [1.0, -1.077555775642395, -0.33762621879577637, -0.21168766915798187, -0.4744779169559479, 0.0], [1.0, 0.27560749650001526, -1.7594980001449585, 0.9298839569091797, 0.5500921010971069, 0.0], [1.0, 0.3121795952320099, -1.6579357385635376, 0.9298839569091797, 0.23961634933948517, 0.0], [1.0, -0.5655476450920105, -1.7594980001449585, 0.9298839569091797, 0.5500921010971069, 0.0], [1.0, 0.09274761378765106, -1.251686692237854, 0.9298839569091797, 0.7984727025032043, 0.0], [1.0, 0.5864694118499756, -1.7594980001449585, 0.9298839569091797, 0.8916154503822327, 0.0], [1.0, 0.8790448904037476, -0.4899692237377167, 1.5006698369979858, 2.226661205291748, 1.0], [1.0, 0.5316115617752075, -1.3024674654006958, 1.5006698369979858, 0.8295202851295471, 0.0], [1.0, 0.8607591986656189, -1.0485618114471436, 1.5006698369979858, 1.419424295425415, 1.0], [1.0, 1.1716210842132568, -0.7438753247261047, 1.5006698369979858, 1.9161854982376099, 1.0], [1.0, 0.6047551035881042, -0.9469996690750122, 1.5006698369979858, 1.295233964920044, 1.0], [1.0, 1.1899068355560303, -0.6423131823539734, 1.5006698369979858, 1.6678048372268677, 1.0], [1.0, 1.4824823141098022, -0.08372055739164352, 2.071455717086792, 1.6678048372268677, 1.0], [1.0, 1.0984768867492676, -0.4391888678073883, 2.071455717086792, 1.8540903329849243, 1.0], [1.0, 1.3727667331695557, -0.4391888678073883, 2.071455717086792, 1.6057096719741821, 1.0], [1.0, 2.853931427001953, -0.08372055739164352, 2.071455717086792, 2.2887563705444336, 1.0], [1.0, 0.8424727916717529, -0.5915318727493286, 2.071455717086792, 1.9782806634902954, 1.0], [1.0, 1.061904788017273, -0.18528321385383606, 2.071455717086792, 1.8540903329849243, 1.0], [1.0, 2.031061887741089, -0.5915318727493286, 2.071455717086792, 2.0403757095336914, 1.0], [1.0, -1.1506993770599365, -0.5915318727493286, -1.2819111347198486, -1.4059052467346191, 0.0], [1.0, -0.6204061508178711, 0.7287777066230774, -1.2819111347198486, -0.8160012364387512, 1.0], [1.0, -0.4741176962852478, 0.7287777066230774, -0.7111252546310425, -0.6297158002853394, 1.0], [1.0, 0.2938931882381439, 1.592056393623352, -0.7111252546310425, 0.4879969656467438, 1.0], [1.0, -0.8032660484313965, 1.7951816320419312, -0.7111252546310425, -0.38133519887924194, 0.0], [1.0, -0.9861258864402771, 0.017842086032032967, -0.1403394490480423, -0.5676206350326538, 0.0], [1.0, 0.20246325433254242, -1.3532488346099854, 0.4304463863372803, 1.0468533039093018, 0.0], [1.0, 0.5133251547813416, -0.8962188363075256, 1.0012321472167969, 1.1710436344146729, 1.0], [1.0, 0.6961850523948669, -1.099343180656433, 1.0012321472167969, 1.7919951677322388, 1.0], [1.0, 0.20246325433254242, -1.3532488346099854, 1.0012321472167969, 0.984758198261261, 0.0], [1.0, 0.6596129536628723, -1.3532488346099854, 1.0012321472167969, 1.4815194606781006, 1.0], [1.0, 0.5133251547813416, -0.5407505631446838, 1.0012321472167969, 1.6057096719741821, 1.0], [1.0, 0.42189523577690125, -0.69309401512146, 1.0012321472167969, 1.0468533039093018, 1.0], [1.0, 0.2207496613264084, -0.69309401512146, 1.0012321472167969, 1.3573291301727295, 1.0], [1.0, 0.2207496613264084, -1.708716630935669, 1.0012321472167969, 0.674282431602478, 0.0], [1.0, -0.1998278945684433, -2.0641844272613525, 1.0012321472167969, 0.984758198261261, 0.0], [1.0, 0.3853231370449066, -1.0485618114471436, 1.0012321472167969, 1.1089484691619873, 1.0], [1.0, 0.5133251547813416, -1.4548109769821167, 1.0012321472167969, 0.7984727025032043, 0.0], [1.0, 0.5864694118499756, -0.8454375267028809, 1.0012321472167969, 0.9537106156349182, 0.0], [1.0, 1.226478934288025, -1.099343180656433, 1.572018027305603, 1.6678048372268677, 1.0], [1.0, 0.2207496613264084, -0.38840752840042114, 1.572018027305603, 2.1645660400390625, 1.0], [1.0, 1.8847742080688477, -0.7438753247261047, 2.142803907394409, 1.7919951677322388, 1.0], [2.0, -0.6935496926307678, -0.08372055739164352, -1.781348705291748, -0.9401915669441223, 0.0], [2.0, -1.7541368007659912, 0.6272150874137878, -1.210562825202942, -1.0954294204711914, 0.0], [2.0, -1.2421293258666992, 1.1350263357162476, -1.210562825202942, -0.38133519887924194, 1.0], [2.0, -1.351845622062683, 0.32252809405326843, -1.1392146348953247, -0.6297158002853394, 0.0], [2.0, -1.6261354684829712, 1.1350263357162476, -0.5684288144111633, -0.008764269761741161, 1.0], [2.0, -1.333559274673462, 1.0842450857162476, -0.5684288144111633, -0.9401915669441223, 0.0], [2.0, -1.6078490018844604, -0.6423131823539734, -1.0678664445877075, -1.436952829360962, 0.0], [2.0, -0.8215517401695251, 0.11940376460552216, -1.0678664445877075, -0.5055254697799683, 0.0], [2.0, 0.36703741550445557, 2.201430320739746, -0.49708059430122375, -0.008764269761741161, 1.0], [2.0, -0.4741176962852478, 0.6779963970184326, 0.07370523363351822, -0.4123827815055847, 1.0], [2.0, 0.019603390246629715, 0.42409074306488037, 0.6444910764694214, -0.25714489817619324, 1.0], [2.0, -1.424989104270935, -0.5407505631446838, -0.9965181946754456, -0.8160012364387512, 0.0], [2.0, -1.424989104270935, 0.017842086032032967, -0.9965181946754456, -1.3127624988555908, 0.0], [2.0, -1.333559274673462, 0.8303393721580505, -0.9965181946754456, -0.5055254697799683, 0.0], [2.0, -0.45583200454711914, 0.5764337182044983, -0.4257323443889618, 0.11542603373527527, 1.0], [2.0, -0.3461163640022278, 0.9826833605766296, -0.4257323443889618, -0.25714489817619324, 1.0], [2.0, -0.6752640008926392, 0.42409074306488037, -0.4257323443889618, -1.1885721683502197, 0.0], [2.0, -0.8764095306396484, 1.2365890741348267, -0.4257323443889618, 0.5811396837234497, 1.0], [2.0, -0.9678394794464111, 0.9319020509719849, -0.4257323443889618, -0.9401915669441223, 0.0], [2.0, -0.21811430156230927, 0.6779963970184326, -0.4257323443889618, 0.053330883383750916, 1.0], [2.0, -0.9861258864402771, -0.08372055739164352, -0.9251699447631836, -1.623238205909729, 0.0], [2.0, -0.1998278945684433, 0.2209664136171341, -0.3543841242790222, 0.6121872663497925, 1.0], [2.0, -0.8032660484313965, 0.017842086032032967, -0.3543841242790222, -0.8160012364387512, 0.0], [2.0, -0.8946959376335144, 0.7795590162277222, -1.424607515335083, -0.5676206350326538, 1.0], [2.0, -0.9312673807144165, 0.32252809405326843, -1.424607515335083, -0.7228585481643677, 0.0], [2.0, -1.5164190530776978, -0.08372055739164352, -0.8538216948509216, -1.0643818378448486, 0.0], [2.0, -0.5289762020111084, 0.7287777066230774, -0.8538216948509216, -1.0954294204711914, 1.0], [2.0, -1.7175654172897339, 0.017842086032032967, -0.8538216948509216, -1.2506673336029053, 0.0], [2.0, -0.27297213673591614, 1.7951816320419312, -0.28303590416908264, 0.36380666494369507, 1.0], [2.0, -0.1632564812898636, 1.0334646701812744, -0.28303590416908264, -0.8780964016914368, 1.0], [2.0, 0.33046531677246094, 0.8811207413673401, -0.28303590416908264, -0.07085942476987839, 1.0], [2.0, -0.5289762020111084, 0.2209664136171341, -1.3532593250274658, -1.2506673336029053, 0.0], [2.0, -1.4798469543457031, -0.2868448793888092, -0.7824735045433044, -1.436952829360962, 0.0], [2.0, -1.9187109470367432, 0.9319020509719849, -0.7824735045433044, -0.7539061307907104, 0.0], [2.0, -0.7849796414375305, 0.6272150874137878, -0.7824735045433044, -0.38133519887924194, 1.0], [2.0, -1.5529911518096924, 0.17018508911132812, -0.7824735045433044, -0.6297158002853394, 0.0], [2.0, -0.8581238389015198, 1.7444002628326416, -0.7824735045433044, -0.6918109655380249, 1.0], [2.0, -1.0044115781784058, 0.3733094036579132, -0.7824735045433044, -1.0954294204711914, 0.0], [2.0, -1.1506993770599365, 1.3381507396697998, -0.21168766915798187, -0.8780964016914368, 1.0], [2.0, -1.7175654172897339, 1.9983059167861938, -0.21168766915798187, 0.23961634933948517, 1.0], [2.0, -0.40097418427467346, 1.1350263357162476, -0.21168766915798187, 0.3017114996910095, 1.0], [2.0, -0.9861258864402771, 2.0490872859954834, -0.7111252546310425, -0.5055254697799683, 1.0], [2.0, -0.9495537877082825, 0.2209664136171341, -0.7111252546310425, -1.157524585723877, 0.0], [2.0, -0.5655476450920105, -0.18528321385383606, -0.7111252546310425, -0.6297158002853394, 0.0], [2.0, -0.9129816889762878, -0.03293923661112785, -0.7111252546310425, -1.436952829360962, 0.0], [2.0, -0.6204061508178711, 0.9319020509719849, -0.1403394490480423, -0.25714489817619324, 1.0], [2.0, -1.2238435745239258, 1.6936190128326416, -0.1403394490480423, -0.536573052406311, 1.0]]\n",
      "Correct predictions = 331, Total predictions = 333, Accuracy = 0.993993993993994\n"
     ]
    }
   ],
   "source": [
    "predictions = endpoint.predict(instances=x_test)\n",
    "y_predicted = np.argmax(predictions.predictions, axis=1)\n",
    "print(x_test)\n",
    "correct = sum(y_predicted == np.array(y_test))\n",
    "accuracy = len(y_predicted)\n",
    "print(\n",
    "    f\"Correct predictions = {correct}, Total predictions = {accuracy}, Accuracy = {correct/accuracy}\"\n",
    ")"
   ]
  },
  {
   "cell_type": "markdown",
   "metadata": {
    "id": "undeploy_model"
   },
   "source": [
    "## Undeploy the model\n",
    "\n",
    "To undeploy your `Model` resource from the serving `Endpoint` resource, use the endpoint's `undeploy` method with the following parameter:\n",
    "\n",
    "- `deployed_model_id`: The model deployment identifier returned by the endpoint service when the `Model` resource was deployed. You can retrieve the deployed models using the endpoint's `deployed_models` property.\n",
    "\n",
    "Since this is the only deployed model on the `Endpoint` resource, you can omit `traffic_split`."
   ]
  },
  {
   "cell_type": "code",
   "execution_count": null,
   "metadata": {
    "id": "khPSAO1tlug0"
   },
   "outputs": [],
   "source": [
    "deployed_model_id = endpoint.list_models()[0].id\n",
    "endpoint.undeploy(deployed_model_id=deployed_model_id)"
   ]
  },
  {
   "cell_type": "markdown",
   "metadata": {
    "id": "cleanup:custom"
   },
   "source": [
    "## Cleaning up\n",
    "\n",
    "To clean up all Google Cloud resources used in this project, you can [delete the Google Cloud project](https://cloud.google.com/resource-manager/docs/creating-managing-projects#shutting_down_projects) you used for the tutorial.\n",
    "\n",
    "Otherwise, you can delete the individual resources you created in this tutorial:\n",
    "\n",
    "- Training Job\n",
    "- Model\n",
    "- Endpoint\n",
    "- Cloud Storage Bucket"
   ]
  },
  {
   "cell_type": "code",
   "execution_count": null,
   "metadata": {
    "id": "NNmebHf7lug0"
   },
   "outputs": [],
   "source": [
    "# Warning: Setting this to true will delete everything in your bucket\n",
    "delete_bucket = False\n",
    "\n",
    "# Delete the training job\n",
    "job.delete()\n",
    "\n",
    "# Delete the model\n",
    "model.delete()\n",
    "\n",
    "# Delete the endpoint\n",
    "endpoint.delete()\n",
    "\n",
    "if delete_bucket or os.getenv(\"IS_TESTING\"):\n",
    "    ! gsutil rm -r $BUCKET_URI"
   ]
  }
 ],
 "metadata": {
  "colab": {
   "collapsed_sections": [],
   "name": "custom-tabular-bq-managed-dataset.ipynb",
   "toc_visible": true
  },
  "environment": {
   "kernel": "python3",
   "name": "common-cpu.m90",
   "type": "gcloud",
   "uri": "gcr.io/deeplearning-platform-release/base-cpu:m90"
  },
  "kernelspec": {
   "display_name": "Python 3",
   "language": "python",
   "name": "python3"
  },
  "language_info": {
   "codemirror_mode": {
    "name": "ipython",
    "version": 3
   },
   "file_extension": ".py",
   "mimetype": "text/x-python",
   "name": "python",
   "nbconvert_exporter": "python",
   "pygments_lexer": "ipython3",
   "version": "3.7.12"
  }
 },
 "nbformat": 4,
 "nbformat_minor": 4
}
