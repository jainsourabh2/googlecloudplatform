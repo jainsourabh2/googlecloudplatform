{
 "cells": [
  {
   "cell_type": "markdown",
   "id": "8caa874c",
   "metadata": {},
   "source": [
    "# Classification Model using BQML deploying to Vertex AI (Manual) "
   ]
  },
  {
   "cell_type": "markdown",
   "id": "1cfb34a9",
   "metadata": {},
   "source": [
    "## Environment Set up\n",
    "This demo uses ecommerce Google Analytics data, publicly available as a BigQuery dataset. "
   ]
  },
  {
   "cell_type": "code",
   "execution_count": 1,
   "id": "f2524e0e",
   "metadata": {},
   "outputs": [],
   "source": [
    "PROJECT_ID = 'hivedemoindia' #replace value\n",
    "LOCATION = 'us-central1'\n",
    "MODEL_NAME = 'web_analytics_clsmod'\n",
    "DATASET_NAME= 'webAnalytics'\n",
    "\n",
    "BUCKET_NAME = f'{PROJECT_ID}_{MODEL_NAME}'\n",
    "DATASET_ID = f'{PROJECT_ID}.{DATASET_NAME}'"
   ]
  },
  {
   "cell_type": "code",
   "execution_count": 2,
   "id": "c5437d65",
   "metadata": {},
   "outputs": [
    {
     "ename": "Conflict",
     "evalue": "409 POST https://storage.googleapis.com/storage/v1/b?project=hivedemoindia&prettyPrint=false: Your previous request to create the named bucket succeeded and you already own it.",
     "output_type": "error",
     "traceback": [
      "\u001b[0;31m---------------------------------------------------------------------------\u001b[0m",
      "\u001b[0;31mConflict\u001b[0m                                  Traceback (most recent call last)",
      "\u001b[0;32m/tmp/ipykernel_20252/3942298423.py\u001b[0m in \u001b[0;36m<module>\u001b[0;34m\u001b[0m\n\u001b[1;32m      3\u001b[0m \u001b[0mstorage_client\u001b[0m \u001b[0;34m=\u001b[0m \u001b[0mstorage\u001b[0m\u001b[0;34m.\u001b[0m\u001b[0mClient\u001b[0m\u001b[0;34m(\u001b[0m\u001b[0;34m)\u001b[0m\u001b[0;34m\u001b[0m\u001b[0;34m\u001b[0m\u001b[0m\n\u001b[1;32m      4\u001b[0m \u001b[0mbucket\u001b[0m \u001b[0;34m=\u001b[0m \u001b[0mstorage_client\u001b[0m\u001b[0;34m.\u001b[0m\u001b[0mbucket\u001b[0m\u001b[0;34m(\u001b[0m\u001b[0mBUCKET_NAME\u001b[0m\u001b[0;34m)\u001b[0m\u001b[0;34m\u001b[0m\u001b[0;34m\u001b[0m\u001b[0m\n\u001b[0;32m----> 5\u001b[0;31m \u001b[0mnew_bucket\u001b[0m \u001b[0;34m=\u001b[0m \u001b[0mstorage_client\u001b[0m\u001b[0;34m.\u001b[0m\u001b[0mcreate_bucket\u001b[0m\u001b[0;34m(\u001b[0m\u001b[0mbucket\u001b[0m\u001b[0;34m,\u001b[0m \u001b[0mlocation\u001b[0m\u001b[0;34m=\u001b[0m\u001b[0mLOCATION\u001b[0m\u001b[0;34m)\u001b[0m\u001b[0;34m\u001b[0m\u001b[0;34m\u001b[0m\u001b[0m\n\u001b[0m",
      "\u001b[0;32m/opt/conda/lib/python3.7/site-packages/google/cloud/storage/client.py\u001b[0m in \u001b[0;36mcreate_bucket\u001b[0;34m(self, bucket_or_name, requester_pays, project, user_project, location, data_locations, predefined_acl, predefined_default_object_acl, timeout, retry)\u001b[0m\n\u001b[1;32m    995\u001b[0m             \u001b[0mtimeout\u001b[0m\u001b[0;34m=\u001b[0m\u001b[0mtimeout\u001b[0m\u001b[0;34m,\u001b[0m\u001b[0;34m\u001b[0m\u001b[0;34m\u001b[0m\u001b[0m\n\u001b[1;32m    996\u001b[0m             \u001b[0mretry\u001b[0m\u001b[0;34m=\u001b[0m\u001b[0mretry\u001b[0m\u001b[0;34m,\u001b[0m\u001b[0;34m\u001b[0m\u001b[0;34m\u001b[0m\u001b[0m\n\u001b[0;32m--> 997\u001b[0;31m             \u001b[0m_target_object\u001b[0m\u001b[0;34m=\u001b[0m\u001b[0mbucket\u001b[0m\u001b[0;34m,\u001b[0m\u001b[0;34m\u001b[0m\u001b[0;34m\u001b[0m\u001b[0m\n\u001b[0m\u001b[1;32m    998\u001b[0m         )\n\u001b[1;32m    999\u001b[0m \u001b[0;34m\u001b[0m\u001b[0m\n",
      "\u001b[0;32m/opt/conda/lib/python3.7/site-packages/google/cloud/storage/client.py\u001b[0m in \u001b[0;36m_post_resource\u001b[0;34m(self, path, data, query_params, headers, timeout, retry, _target_object)\u001b[0m\n\u001b[1;32m    612\u001b[0m             \u001b[0mtimeout\u001b[0m\u001b[0;34m=\u001b[0m\u001b[0mtimeout\u001b[0m\u001b[0;34m,\u001b[0m\u001b[0;34m\u001b[0m\u001b[0;34m\u001b[0m\u001b[0m\n\u001b[1;32m    613\u001b[0m             \u001b[0mretry\u001b[0m\u001b[0;34m=\u001b[0m\u001b[0mretry\u001b[0m\u001b[0;34m,\u001b[0m\u001b[0;34m\u001b[0m\u001b[0;34m\u001b[0m\u001b[0m\n\u001b[0;32m--> 614\u001b[0;31m             \u001b[0m_target_object\u001b[0m\u001b[0;34m=\u001b[0m\u001b[0m_target_object\u001b[0m\u001b[0;34m,\u001b[0m\u001b[0;34m\u001b[0m\u001b[0;34m\u001b[0m\u001b[0m\n\u001b[0m\u001b[1;32m    615\u001b[0m         )\n\u001b[1;32m    616\u001b[0m \u001b[0;34m\u001b[0m\u001b[0m\n",
      "\u001b[0;32m/opt/conda/lib/python3.7/site-packages/google/cloud/storage/_http.py\u001b[0m in \u001b[0;36mapi_request\u001b[0;34m(self, *args, **kwargs)\u001b[0m\n\u001b[1;32m     71\u001b[0m             \u001b[0;32mif\u001b[0m \u001b[0mretry\u001b[0m\u001b[0;34m:\u001b[0m\u001b[0;34m\u001b[0m\u001b[0;34m\u001b[0m\u001b[0m\n\u001b[1;32m     72\u001b[0m                 \u001b[0mcall\u001b[0m \u001b[0;34m=\u001b[0m \u001b[0mretry\u001b[0m\u001b[0;34m(\u001b[0m\u001b[0mcall\u001b[0m\u001b[0;34m)\u001b[0m\u001b[0;34m\u001b[0m\u001b[0;34m\u001b[0m\u001b[0m\n\u001b[0;32m---> 73\u001b[0;31m         \u001b[0;32mreturn\u001b[0m \u001b[0mcall\u001b[0m\u001b[0;34m(\u001b[0m\u001b[0;34m)\u001b[0m\u001b[0;34m\u001b[0m\u001b[0;34m\u001b[0m\u001b[0m\n\u001b[0m",
      "\u001b[0;32m/opt/conda/lib/python3.7/site-packages/google/api_core/retry.py\u001b[0m in \u001b[0;36mretry_wrapped_func\u001b[0;34m(*args, **kwargs)\u001b[0m\n\u001b[1;32m    286\u001b[0m                 \u001b[0msleep_generator\u001b[0m\u001b[0;34m,\u001b[0m\u001b[0;34m\u001b[0m\u001b[0;34m\u001b[0m\u001b[0m\n\u001b[1;32m    287\u001b[0m                 \u001b[0mself\u001b[0m\u001b[0;34m.\u001b[0m\u001b[0m_deadline\u001b[0m\u001b[0;34m,\u001b[0m\u001b[0;34m\u001b[0m\u001b[0;34m\u001b[0m\u001b[0m\n\u001b[0;32m--> 288\u001b[0;31m                 \u001b[0mon_error\u001b[0m\u001b[0;34m=\u001b[0m\u001b[0mon_error\u001b[0m\u001b[0;34m,\u001b[0m\u001b[0;34m\u001b[0m\u001b[0;34m\u001b[0m\u001b[0m\n\u001b[0m\u001b[1;32m    289\u001b[0m             )\n\u001b[1;32m    290\u001b[0m \u001b[0;34m\u001b[0m\u001b[0m\n",
      "\u001b[0;32m/opt/conda/lib/python3.7/site-packages/google/api_core/retry.py\u001b[0m in \u001b[0;36mretry_target\u001b[0;34m(target, predicate, sleep_generator, deadline, on_error)\u001b[0m\n\u001b[1;32m    188\u001b[0m     \u001b[0;32mfor\u001b[0m \u001b[0msleep\u001b[0m \u001b[0;32min\u001b[0m \u001b[0msleep_generator\u001b[0m\u001b[0;34m:\u001b[0m\u001b[0;34m\u001b[0m\u001b[0;34m\u001b[0m\u001b[0m\n\u001b[1;32m    189\u001b[0m         \u001b[0;32mtry\u001b[0m\u001b[0;34m:\u001b[0m\u001b[0;34m\u001b[0m\u001b[0;34m\u001b[0m\u001b[0m\n\u001b[0;32m--> 190\u001b[0;31m             \u001b[0;32mreturn\u001b[0m \u001b[0mtarget\u001b[0m\u001b[0;34m(\u001b[0m\u001b[0;34m)\u001b[0m\u001b[0;34m\u001b[0m\u001b[0;34m\u001b[0m\u001b[0m\n\u001b[0m\u001b[1;32m    191\u001b[0m \u001b[0;34m\u001b[0m\u001b[0m\n\u001b[1;32m    192\u001b[0m         \u001b[0;31m# pylint: disable=broad-except\u001b[0m\u001b[0;34m\u001b[0m\u001b[0;34m\u001b[0m\u001b[0;34m\u001b[0m\u001b[0m\n",
      "\u001b[0;32m/opt/conda/lib/python3.7/site-packages/google/cloud/_http/__init__.py\u001b[0m in \u001b[0;36mapi_request\u001b[0;34m(self, method, path, query_params, data, content_type, headers, api_base_url, api_version, expect_json, _target_object, timeout, extra_api_info)\u001b[0m\n\u001b[1;32m    492\u001b[0m \u001b[0;34m\u001b[0m\u001b[0m\n\u001b[1;32m    493\u001b[0m         \u001b[0;32mif\u001b[0m \u001b[0;32mnot\u001b[0m \u001b[0;36m200\u001b[0m \u001b[0;34m<=\u001b[0m \u001b[0mresponse\u001b[0m\u001b[0;34m.\u001b[0m\u001b[0mstatus_code\u001b[0m \u001b[0;34m<\u001b[0m \u001b[0;36m300\u001b[0m\u001b[0;34m:\u001b[0m\u001b[0;34m\u001b[0m\u001b[0;34m\u001b[0m\u001b[0m\n\u001b[0;32m--> 494\u001b[0;31m             \u001b[0;32mraise\u001b[0m \u001b[0mexceptions\u001b[0m\u001b[0;34m.\u001b[0m\u001b[0mfrom_http_response\u001b[0m\u001b[0;34m(\u001b[0m\u001b[0mresponse\u001b[0m\u001b[0;34m)\u001b[0m\u001b[0;34m\u001b[0m\u001b[0;34m\u001b[0m\u001b[0m\n\u001b[0m\u001b[1;32m    495\u001b[0m \u001b[0;34m\u001b[0m\u001b[0m\n\u001b[1;32m    496\u001b[0m         \u001b[0;32mif\u001b[0m \u001b[0mexpect_json\u001b[0m \u001b[0;32mand\u001b[0m \u001b[0mresponse\u001b[0m\u001b[0;34m.\u001b[0m\u001b[0mcontent\u001b[0m\u001b[0;34m:\u001b[0m\u001b[0;34m\u001b[0m\u001b[0;34m\u001b[0m\u001b[0m\n",
      "\u001b[0;31mConflict\u001b[0m: 409 POST https://storage.googleapis.com/storage/v1/b?project=hivedemoindia&prettyPrint=false: Your previous request to create the named bucket succeeded and you already own it."
     ]
    }
   ],
   "source": [
    "from google.cloud import storage\n",
    "\n",
    "storage_client = storage.Client()\n",
    "bucket = storage_client.bucket(BUCKET_NAME)\n",
    "new_bucket = storage_client.create_bucket(bucket, location=LOCATION)"
   ]
  },
  {
   "cell_type": "markdown",
   "id": "257f96ff",
   "metadata": {},
   "source": [
    "## Create Database "
   ]
  },
  {
   "cell_type": "code",
   "execution_count": 3,
   "id": "a04687ee",
   "metadata": {},
   "outputs": [
    {
     "ename": "Conflict",
     "evalue": "409 POST https://bigquery.googleapis.com/bigquery/v2/projects/hivedemoindia/datasets?prettyPrint=false: Already Exists: Dataset hivedemoindia:webAnalytics",
     "output_type": "error",
     "traceback": [
      "\u001b[0;31m---------------------------------------------------------------------------\u001b[0m",
      "\u001b[0;31mConflict\u001b[0m                                  Traceback (most recent call last)",
      "\u001b[0;32m/tmp/ipykernel_20252/897424290.py\u001b[0m in \u001b[0;36m<module>\u001b[0;34m\u001b[0m\n\u001b[1;32m      4\u001b[0m \u001b[0mdataset\u001b[0m \u001b[0;34m=\u001b[0m \u001b[0mbigquery\u001b[0m\u001b[0;34m.\u001b[0m\u001b[0mDataset\u001b[0m\u001b[0;34m(\u001b[0m\u001b[0mDATASET_ID\u001b[0m\u001b[0;34m)\u001b[0m\u001b[0;34m\u001b[0m\u001b[0;34m\u001b[0m\u001b[0m\n\u001b[1;32m      5\u001b[0m \u001b[0mdataset\u001b[0m\u001b[0;34m.\u001b[0m\u001b[0mlocation\u001b[0m \u001b[0;34m=\u001b[0m \u001b[0;34m\"US\"\u001b[0m\u001b[0;34m\u001b[0m\u001b[0;34m\u001b[0m\u001b[0m\n\u001b[0;32m----> 6\u001b[0;31m \u001b[0mdataset\u001b[0m \u001b[0;34m=\u001b[0m \u001b[0mclient\u001b[0m\u001b[0;34m.\u001b[0m\u001b[0mcreate_dataset\u001b[0m\u001b[0;34m(\u001b[0m\u001b[0mdataset\u001b[0m\u001b[0;34m,\u001b[0m \u001b[0mtimeout\u001b[0m\u001b[0;34m=\u001b[0m\u001b[0;36m30\u001b[0m\u001b[0;34m)\u001b[0m\u001b[0;34m\u001b[0m\u001b[0;34m\u001b[0m\u001b[0m\n\u001b[0m\u001b[1;32m      7\u001b[0m \u001b[0;34m\u001b[0m\u001b[0m\n\u001b[1;32m      8\u001b[0m \u001b[0mprint\u001b[0m\u001b[0;34m(\u001b[0m\u001b[0;34m\"Created dataset {}.{}\"\u001b[0m\u001b[0;34m.\u001b[0m\u001b[0mformat\u001b[0m\u001b[0;34m(\u001b[0m\u001b[0mclient\u001b[0m\u001b[0;34m.\u001b[0m\u001b[0mproject\u001b[0m\u001b[0;34m,\u001b[0m \u001b[0mdataset\u001b[0m\u001b[0;34m.\u001b[0m\u001b[0mdataset_id\u001b[0m\u001b[0;34m)\u001b[0m\u001b[0;34m)\u001b[0m\u001b[0;34m\u001b[0m\u001b[0;34m\u001b[0m\u001b[0m\n",
      "\u001b[0;32m/opt/conda/lib/python3.7/site-packages/google/cloud/bigquery/client.py\u001b[0m in \u001b[0;36mcreate_dataset\u001b[0;34m(self, dataset, exists_ok, retry, timeout)\u001b[0m\n\u001b[1;32m    637\u001b[0m                 \u001b[0mpath\u001b[0m\u001b[0;34m=\u001b[0m\u001b[0mpath\u001b[0m\u001b[0;34m,\u001b[0m\u001b[0;34m\u001b[0m\u001b[0;34m\u001b[0m\u001b[0m\n\u001b[1;32m    638\u001b[0m                 \u001b[0mdata\u001b[0m\u001b[0;34m=\u001b[0m\u001b[0mdata\u001b[0m\u001b[0;34m,\u001b[0m\u001b[0;34m\u001b[0m\u001b[0;34m\u001b[0m\u001b[0m\n\u001b[0;32m--> 639\u001b[0;31m                 \u001b[0mtimeout\u001b[0m\u001b[0;34m=\u001b[0m\u001b[0mtimeout\u001b[0m\u001b[0;34m,\u001b[0m\u001b[0;34m\u001b[0m\u001b[0;34m\u001b[0m\u001b[0m\n\u001b[0m\u001b[1;32m    640\u001b[0m             )\n\u001b[1;32m    641\u001b[0m             \u001b[0;32mreturn\u001b[0m \u001b[0mDataset\u001b[0m\u001b[0;34m.\u001b[0m\u001b[0mfrom_api_repr\u001b[0m\u001b[0;34m(\u001b[0m\u001b[0mapi_response\u001b[0m\u001b[0;34m)\u001b[0m\u001b[0;34m\u001b[0m\u001b[0;34m\u001b[0m\u001b[0m\n",
      "\u001b[0;32m/opt/conda/lib/python3.7/site-packages/google/cloud/bigquery/client.py\u001b[0m in \u001b[0;36m_call_api\u001b[0;34m(self, retry, span_name, span_attributes, job_ref, headers, **kwargs)\u001b[0m\n\u001b[1;32m    780\u001b[0m                 \u001b[0mname\u001b[0m\u001b[0;34m=\u001b[0m\u001b[0mspan_name\u001b[0m\u001b[0;34m,\u001b[0m \u001b[0mattributes\u001b[0m\u001b[0;34m=\u001b[0m\u001b[0mspan_attributes\u001b[0m\u001b[0;34m,\u001b[0m \u001b[0mclient\u001b[0m\u001b[0;34m=\u001b[0m\u001b[0mself\u001b[0m\u001b[0;34m,\u001b[0m \u001b[0mjob_ref\u001b[0m\u001b[0;34m=\u001b[0m\u001b[0mjob_ref\u001b[0m\u001b[0;34m\u001b[0m\u001b[0;34m\u001b[0m\u001b[0m\n\u001b[1;32m    781\u001b[0m             ):\n\u001b[0;32m--> 782\u001b[0;31m                 \u001b[0;32mreturn\u001b[0m \u001b[0mcall\u001b[0m\u001b[0;34m(\u001b[0m\u001b[0;34m)\u001b[0m\u001b[0;34m\u001b[0m\u001b[0;34m\u001b[0m\u001b[0m\n\u001b[0m\u001b[1;32m    783\u001b[0m \u001b[0;34m\u001b[0m\u001b[0m\n\u001b[1;32m    784\u001b[0m         \u001b[0;32mreturn\u001b[0m \u001b[0mcall\u001b[0m\u001b[0;34m(\u001b[0m\u001b[0;34m)\u001b[0m\u001b[0;34m\u001b[0m\u001b[0;34m\u001b[0m\u001b[0m\n",
      "\u001b[0;32m/opt/conda/lib/python3.7/site-packages/google/api_core/retry.py\u001b[0m in \u001b[0;36mretry_wrapped_func\u001b[0;34m(*args, **kwargs)\u001b[0m\n\u001b[1;32m    286\u001b[0m                 \u001b[0msleep_generator\u001b[0m\u001b[0;34m,\u001b[0m\u001b[0;34m\u001b[0m\u001b[0;34m\u001b[0m\u001b[0m\n\u001b[1;32m    287\u001b[0m                 \u001b[0mself\u001b[0m\u001b[0;34m.\u001b[0m\u001b[0m_deadline\u001b[0m\u001b[0;34m,\u001b[0m\u001b[0;34m\u001b[0m\u001b[0;34m\u001b[0m\u001b[0m\n\u001b[0;32m--> 288\u001b[0;31m                 \u001b[0mon_error\u001b[0m\u001b[0;34m=\u001b[0m\u001b[0mon_error\u001b[0m\u001b[0;34m,\u001b[0m\u001b[0;34m\u001b[0m\u001b[0;34m\u001b[0m\u001b[0m\n\u001b[0m\u001b[1;32m    289\u001b[0m             )\n\u001b[1;32m    290\u001b[0m \u001b[0;34m\u001b[0m\u001b[0m\n",
      "\u001b[0;32m/opt/conda/lib/python3.7/site-packages/google/api_core/retry.py\u001b[0m in \u001b[0;36mretry_target\u001b[0;34m(target, predicate, sleep_generator, deadline, on_error)\u001b[0m\n\u001b[1;32m    188\u001b[0m     \u001b[0;32mfor\u001b[0m \u001b[0msleep\u001b[0m \u001b[0;32min\u001b[0m \u001b[0msleep_generator\u001b[0m\u001b[0;34m:\u001b[0m\u001b[0;34m\u001b[0m\u001b[0;34m\u001b[0m\u001b[0m\n\u001b[1;32m    189\u001b[0m         \u001b[0;32mtry\u001b[0m\u001b[0;34m:\u001b[0m\u001b[0;34m\u001b[0m\u001b[0;34m\u001b[0m\u001b[0m\n\u001b[0;32m--> 190\u001b[0;31m             \u001b[0;32mreturn\u001b[0m \u001b[0mtarget\u001b[0m\u001b[0;34m(\u001b[0m\u001b[0;34m)\u001b[0m\u001b[0;34m\u001b[0m\u001b[0;34m\u001b[0m\u001b[0m\n\u001b[0m\u001b[1;32m    191\u001b[0m \u001b[0;34m\u001b[0m\u001b[0m\n\u001b[1;32m    192\u001b[0m         \u001b[0;31m# pylint: disable=broad-except\u001b[0m\u001b[0;34m\u001b[0m\u001b[0;34m\u001b[0m\u001b[0;34m\u001b[0m\u001b[0m\n",
      "\u001b[0;32m/opt/conda/lib/python3.7/site-packages/google/cloud/_http/__init__.py\u001b[0m in \u001b[0;36mapi_request\u001b[0;34m(self, method, path, query_params, data, content_type, headers, api_base_url, api_version, expect_json, _target_object, timeout, extra_api_info)\u001b[0m\n\u001b[1;32m    492\u001b[0m \u001b[0;34m\u001b[0m\u001b[0m\n\u001b[1;32m    493\u001b[0m         \u001b[0;32mif\u001b[0m \u001b[0;32mnot\u001b[0m \u001b[0;36m200\u001b[0m \u001b[0;34m<=\u001b[0m \u001b[0mresponse\u001b[0m\u001b[0;34m.\u001b[0m\u001b[0mstatus_code\u001b[0m \u001b[0;34m<\u001b[0m \u001b[0;36m300\u001b[0m\u001b[0;34m:\u001b[0m\u001b[0;34m\u001b[0m\u001b[0;34m\u001b[0m\u001b[0m\n\u001b[0;32m--> 494\u001b[0;31m             \u001b[0;32mraise\u001b[0m \u001b[0mexceptions\u001b[0m\u001b[0;34m.\u001b[0m\u001b[0mfrom_http_response\u001b[0m\u001b[0;34m(\u001b[0m\u001b[0mresponse\u001b[0m\u001b[0;34m)\u001b[0m\u001b[0;34m\u001b[0m\u001b[0;34m\u001b[0m\u001b[0m\n\u001b[0m\u001b[1;32m    495\u001b[0m \u001b[0;34m\u001b[0m\u001b[0m\n\u001b[1;32m    496\u001b[0m         \u001b[0;32mif\u001b[0m \u001b[0mexpect_json\u001b[0m \u001b[0;32mand\u001b[0m \u001b[0mresponse\u001b[0m\u001b[0;34m.\u001b[0m\u001b[0mcontent\u001b[0m\u001b[0;34m:\u001b[0m\u001b[0;34m\u001b[0m\u001b[0;34m\u001b[0m\u001b[0m\n",
      "\u001b[0;31mConflict\u001b[0m: 409 POST https://bigquery.googleapis.com/bigquery/v2/projects/hivedemoindia/datasets?prettyPrint=false: Already Exists: Dataset hivedemoindia:webAnalytics"
     ]
    }
   ],
   "source": [
    "from google.cloud import bigquery\n",
    "\n",
    "client = bigquery.Client()\n",
    "dataset = bigquery.Dataset(DATASET_ID)\n",
    "dataset.location = \"US\"\n",
    "dataset = client.create_dataset(dataset, timeout=30) \n",
    "\n",
    "print(\"Created dataset {}.{}\".format(client.project, dataset.dataset_id))"
   ]
  },
  {
   "cell_type": "markdown",
   "id": "c76f424a",
   "metadata": {},
   "source": [
    "## Explore Data"
   ]
  },
  {
   "cell_type": "code",
   "execution_count": 4,
   "id": "bde3e1df",
   "metadata": {},
   "outputs": [
    {
     "name": "stdout",
     "output_type": "stream",
     "text": [
      "   total_visitors  total_purchasers  conversion_rate\n",
      "0          741721             20015         0.026985\n"
     ]
    }
   ],
   "source": [
    "from google.cloud import bigquery\n",
    "query_job = client.query(\n",
    "    \"\"\"\n",
    "WITH visitors AS(\n",
    "  SELECT\n",
    "    COUNT(DISTINCT fullVisitorId) AS total_visitors\n",
    "  FROM\n",
    "    `data-to-insights.ecommerce.web_analytics` ),\n",
    "  purchasers AS(\n",
    "  SELECT\n",
    "    COUNT(DISTINCT fullVisitorId) AS total_purchasers\n",
    "  FROM\n",
    "    `data-to-insights.ecommerce.web_analytics`\n",
    "  WHERE\n",
    "    totals.transactions IS NOT NULL )\n",
    "SELECT\n",
    "  total_visitors,\n",
    "  total_purchasers,\n",
    "  total_purchasers / total_visitors AS conversion_rate\n",
    "FROM\n",
    "  visitors,\n",
    "  purchasers\"\"\"\n",
    ")\n",
    "\n",
    "results = query_job.result().to_dataframe()\n",
    "print(results.head())"
   ]
  },
  {
   "cell_type": "code",
   "execution_count": 5,
   "id": "dea646ad",
   "metadata": {},
   "outputs": [
    {
     "name": "stdout",
     "output_type": "stream",
     "text": [
      "   total_visitors  will_buy_on_return_visit\n",
      "0          729848                         0\n",
      "1           11873                         1\n"
     ]
    }
   ],
   "source": [
    "# visitors who bought on a return visit (could have bought on first as well\n",
    "query_job = client.query(\n",
    "    \"\"\"\n",
    "WITH all_visitor_stats AS (\n",
    "    SELECT\n",
    "      fullvisitorid, \n",
    "      IF(COUNTIF(totals.transactions > 0 AND totals.newVisits IS NULL) > 0, 1, 0) AS will_buy_on_return_visit\n",
    "    FROM `data-to-insights.ecommerce.web_analytics`\n",
    "    GROUP BY fullvisitorid\n",
    "    )\n",
    "SELECT\n",
    "    COUNT(DISTINCT fullvisitorid) AS total_visitors,\n",
    "      will_buy_on_return_visit\n",
    "    FROM all_visitor_stats\n",
    "    GROUP BY will_buy_on_return_visit\"\"\"\n",
    ")\n",
    "\n",
    "results = query_job.result().to_dataframe()\n",
    "print(results.head(5))"
   ]
  },
  {
   "cell_type": "markdown",
   "id": "8f45de9b",
   "metadata": {},
   "source": [
    "## Create BQML Classification Model\n",
    "Predict if visitors \"will buy in future\" or \"won't buy in future\", using logistic_reg in a classification model."
   ]
  },
  {
   "cell_type": "code",
   "execution_count": 6,
   "id": "e59f1f21",
   "metadata": {},
   "outputs": [
    {
     "name": "stdout",
     "output_type": "stream",
     "text": [
      "Query: RUNNING\n",
      "Query: DONE \n",
      " * Note: DONE does not ensure sucessful completion - check UI\n"
     ]
    }
   ],
   "source": [
    "from google.cloud import bigquery\n",
    "client = bigquery.Client()\n",
    "\n",
    "model_build = f\"\"\"\n",
    "CREATE OR REPLACE MODEL {DATASET_NAME}.{MODEL_NAME}\n",
    "OPTIONS(\n",
    "    model_type='logistic_reg',\n",
    "    labels = ['will_buy_on_return_visit']\n",
    "    )\n",
    "AS\n",
    "SELECT\n",
    "  * EXCEPT(fullVisitorId)\n",
    "FROM\n",
    "  # features\n",
    "  (SELECT\n",
    "    fullVisitorId,\n",
    "    IFNULL(totals.bounces, 0) AS bounces,\n",
    "    IFNULL(totals.timeOnSite, 0) AS time_on_site\n",
    "  FROM\n",
    "    `data-to-insights.ecommerce.web_analytics`\n",
    "  WHERE\n",
    "    totals.newVisits = 1\n",
    "    AND date BETWEEN '20160801' AND '20170430') # train on first 9 months\n",
    "  JOIN\n",
    "  (SELECT\n",
    "    fullvisitorid,\n",
    "    IF(COUNTIF(totals.transactions > 0 AND totals.newVisits IS NULL) > 0, 1, 0) AS will_buy_on_return_visit\n",
    "  FROM\n",
    "      `data-to-insights.ecommerce.web_analytics`\n",
    "  GROUP BY fullvisitorid)\n",
    "  USING (fullVisitorId);\n",
    "\"\"\"\n",
    "\n",
    "query_job = client.query(model_build)\n",
    "query_state = client.get_job(query_job.job_id, location=query_job.location).state\n",
    "\n",
    "print(f'Query: {query_state}')\n",
    "\n",
    "while query_state == 'RUNNING': \n",
    "    query_state = client.get_job(query_job.job_id, location=query_job.location).state\n",
    "print(f'Query: {query_state} \\n * Note: DONE does not ensure sucessful completion - check UI')"
   ]
  },
  {
   "cell_type": "markdown",
   "id": "3ab5ac8c",
   "metadata": {},
   "source": [
    "## Evaluation "
   ]
  },
  {
   "cell_type": "code",
   "execution_count": 7,
   "id": "2c82e459",
   "metadata": {},
   "outputs": [
    {
     "name": "stdout",
     "output_type": "stream",
     "text": [
      "    roc_auc model_quality\n",
      "0  0.723839        decent\n"
     ]
    }
   ],
   "source": [
    "from google.cloud import bigquery\n",
    "query_job = client.query(f\"\"\"\n",
    "SELECT\n",
    "  roc_auc,\n",
    "  CASE\n",
    "    WHEN roc_auc > .9 THEN 'good'\n",
    "    WHEN roc_auc > .8 THEN 'fair'\n",
    "    WHEN roc_auc > .7 THEN 'decent'\n",
    "    WHEN roc_auc > .6 THEN 'not great'\n",
    "  ELSE 'poor' END AS model_quality\n",
    "FROM\n",
    "  ML.EVALUATE(MODEL {DATASET_NAME}.{MODEL_NAME},  (\n",
    "SELECT\n",
    "  * EXCEPT(fullVisitorId)\n",
    "FROM\n",
    "  # features\n",
    "  (SELECT\n",
    "    fullVisitorId,\n",
    "    IFNULL(totals.bounces, 0) AS bounces,\n",
    "    IFNULL(totals.timeOnSite, 0) AS time_on_site\n",
    "  FROM\n",
    "    `data-to-insights.ecommerce.web_analytics`\n",
    "  WHERE\n",
    "    totals.newVisits = 1\n",
    "    AND date BETWEEN '20170501' AND '20170630') # eval on 2 months\n",
    "  JOIN\n",
    "  (SELECT\n",
    "    fullvisitorid,\n",
    "    IF(COUNTIF(totals.transactions > 0 AND totals.newVisits IS NULL) > 0, 1, 0) AS will_buy_on_return_visit\n",
    "  FROM\n",
    "      `data-to-insights.ecommerce.web_analytics`\n",
    "  GROUP BY fullvisitorid)\n",
    "  USING (fullVisitorId)\n",
    "));\"\"\")\n",
    "results = query_job.result().to_dataframe()\n",
    "\n",
    "print(results.head(5))"
   ]
  },
  {
   "cell_type": "markdown",
   "id": "27fdd21c",
   "metadata": {},
   "source": [
    "## Export Model to Vertex AI \n",
    "**Export to GCS then upload to Vertex AI**"
   ]
  },
  {
   "cell_type": "code",
   "execution_count": 8,
   "id": "07816282",
   "metadata": {},
   "outputs": [
    {
     "name": "stdout",
     "output_type": "stream",
     "text": [
      "Waiting on bqjob_r6624221a0d004763_00000183ac3f4111_1 ... (25s) Current status: DONE   \n"
     ]
    }
   ],
   "source": [
    "!bq extract -m {PROJECT_ID}:{DATASET_NAME}.{MODEL_NAME} gs://{BUCKET_NAME}/{MODEL_NAME}"
   ]
  },
  {
   "cell_type": "markdown",
   "id": "ceb4537f",
   "metadata": {},
   "source": [
    "**Upload model to Vertex**"
   ]
  },
  {
   "cell_type": "code",
   "execution_count": 9,
   "id": "cfc36761",
   "metadata": {},
   "outputs": [
    {
     "name": "stdout",
     "output_type": "stream",
     "text": [
      "Creating Model\n",
      "Create Model backing LRO: projects/688817582093/locations/us-central1/models/8737928857098649600/operations/669723871192023040\n",
      "Model created. Resource name: projects/688817582093/locations/us-central1/models/8737928857098649600@1\n",
      "To use this Model in another session:\n",
      "model = aiplatform.Model('projects/688817582093/locations/us-central1/models/8737928857098649600@1')\n",
      "web_analytics_clsmod\n",
      "projects/688817582093/locations/us-central1/models/8737928857098649600\n"
     ]
    }
   ],
   "source": [
    "from google.cloud import aiplatform\n",
    "aiplatform.init(project=PROJECT_ID, location=LOCATION)\n",
    "model = aiplatform.Model.upload(\n",
    "        display_name=MODEL_NAME,\n",
    "        artifact_uri= f'gs://{BUCKET_NAME}/{MODEL_NAME}',\n",
    "        serving_container_image_uri='us-docker.pkg.dev/vertex-ai/prediction/tf2-cpu.2-3:latest' ) \n",
    "model.wait()\n",
    "\n",
    "print(model.display_name)\n",
    "print(model.resource_name)"
   ]
  },
  {
   "cell_type": "markdown",
   "id": "651082cb",
   "metadata": {},
   "source": [
    "**Deploy to an endpoint**"
   ]
  },
  {
   "cell_type": "code",
   "execution_count": null,
   "id": "fea7d400",
   "metadata": {},
   "outputs": [
    {
     "name": "stdout",
     "output_type": "stream",
     "text": [
      "Creating Endpoint\n",
      "Create Endpoint backing LRO: projects/688817582093/locations/us-central1/endpoints/1306892714914086912/operations/8123744204443615232\n",
      "Endpoint created. Resource name: projects/688817582093/locations/us-central1/endpoints/1306892714914086912\n",
      "To use this Endpoint in another session:\n",
      "endpoint = aiplatform.Endpoint('projects/688817582093/locations/us-central1/endpoints/1306892714914086912')\n",
      "Deploying model to Endpoint : projects/688817582093/locations/us-central1/endpoints/1306892714914086912\n",
      "Deploy Endpoint model backing LRO: projects/688817582093/locations/us-central1/endpoints/1306892714914086912/operations/5405258879372099584\n"
     ]
    }
   ],
   "source": [
    "endpoint = aiplatform.Endpoint.create( display_name=f'{MODEL_NAME}_endpt', project=PROJECT_ID, location=LOCATION)\n",
    "\n",
    "model.deploy(\n",
    "        endpoint=endpoint,\n",
    "        traffic_percentage = 100,\n",
    "        machine_type ='n1-highcpu-2')\n",
    "\n",
    "model.wait()\n",
    "print(model.resource_name)"
   ]
  },
  {
   "cell_type": "markdown",
   "id": "34a5d645",
   "metadata": {},
   "source": [
    "## Predict\n",
    "Predict if the visitors will buy on return of visit using the API "
   ]
  },
  {
   "cell_type": "code",
   "execution_count": 4,
   "id": "0c4248ab",
   "metadata": {},
   "outputs": [
    {
     "name": "stdout",
     "output_type": "stream",
     "text": [
      "Writing default-pred.json\n"
     ]
    }
   ],
   "source": [
    "%%writefile default-pred.json\n",
    "{\"instances\": [{\"bounces\" :0,\"time_on_site\":60}, {\"bounces\" :0,\"time_on_site\": 18102}]}"
   ]
  },
  {
   "cell_type": "code",
   "execution_count": 5,
   "id": "38ae1627",
   "metadata": {},
   "outputs": [
    {
     "name": "stdout",
     "output_type": "stream",
     "text": [
      "{\n",
      "  \"predictions\": [\n",
      "    {\n",
      "      \"predicted_will_buy_on_return_visit\": [\n",
      "        \"0\"\n",
      "      ],\n",
      "      \"will_buy_on_return_visit_probs\": [\n",
      "        0.02274886132318673,\n",
      "        0.97725113867681324\n",
      "      ],\n",
      "      \"will_buy_on_return_visit_values\": [\n",
      "        \"1\",\n",
      "        \"0\"\n",
      "      ]\n",
      "    },\n",
      "    {\n",
      "      \"predicted_will_buy_on_return_visit\": [\n",
      "        \"1\"\n",
      "      ],\n",
      "      \"will_buy_on_return_visit_values\": [\n",
      "        \"1\",\n",
      "        \"0\"\n",
      "      ],\n",
      "      \"will_buy_on_return_visit_probs\": [\n",
      "        0.99999050416474577,\n",
      "        9.495835254225149e-06\n",
      "      ]\n",
      "    }\n",
      "  ],\n",
      "  \"deployedModelId\": \"8989242030836154368\",\n",
      "  \"model\": \"projects/688817582093/locations/us-central1/models/8737928857098649600\",\n",
      "  \"modelDisplayName\": \"web_analytics_clsmod\",\n",
      "  \"modelVersionId\": \"1\"\n",
      "}\n"
     ]
    }
   ],
   "source": [
    "ENDPOINT_ID=\"1306892714914086912\"\n",
    "#ENDPOINT_ID=endpoint.resource_name\n",
    "\n",
    "!curl \\\n",
    "-X POST \\\n",
    "-H \"Authorization: Bearer $(gcloud auth print-access-token)\" \\\n",
    "-H \"Content-Type: application/json\" \\\n",
    "https://us-central1-aiplatform.googleapis.com/v1/projects/$PROJECT_ID/locations/us-central1/endpoints/$ENDPOINT_ID:predict \\\n",
    "-d \"@default-pred.json\""
   ]
  },
  {
   "cell_type": "markdown",
   "id": "ceef0361",
   "metadata": {},
   "source": [
    "# Creating a Vertex AI Pipeline"
   ]
  },
  {
   "cell_type": "code",
   "execution_count": null,
   "id": "1f3327cb",
   "metadata": {},
   "outputs": [],
   "source": [
    "Go to bqpipeline_demo.ipynb"
   ]
  },
  {
   "cell_type": "code",
   "execution_count": null,
   "id": "55fbe9bd",
   "metadata": {},
   "outputs": [],
   "source": [
    "#resources: https://www.qwiklabs.com/focuses/1794?parent=catalog\n",
    "#https://cloud.google.com/bigquery-ml/docs/exporting-models?_ga=2.59990958.-2027684164.1621380090\n",
    "#https://docs.google.com/document/d/1wre9hLVx-H8syG-806UPWGJbDVGieIM5VvFKi8lbGtw/edit\n"
   ]
  }
 ],
 "metadata": {
  "environment": {
   "kernel": "python3",
   "name": "common-cpu.m97",
   "type": "gcloud",
   "uri": "gcr.io/deeplearning-platform-release/base-cpu:m97"
  },
  "kernelspec": {
   "display_name": "Python 3",
   "language": "python",
   "name": "python3"
  },
  "language_info": {
   "codemirror_mode": {
    "name": "ipython",
    "version": 3
   },
   "file_extension": ".py",
   "mimetype": "text/x-python",
   "name": "python",
   "nbconvert_exporter": "python",
   "pygments_lexer": "ipython3",
   "version": "3.7.12"
  }
 },
 "nbformat": 4,
 "nbformat_minor": 5
}
