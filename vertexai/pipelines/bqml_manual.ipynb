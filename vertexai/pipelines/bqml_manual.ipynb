{
 "cells": [
  {
   "cell_type": "markdown",
   "id": "8caa874c",
   "metadata": {},
   "source": [
    "# Classification Model using BQML deploying to Vertex AI (Manual) "
   ]
  },
  {
   "cell_type": "markdown",
   "id": "1cfb34a9",
   "metadata": {},
   "source": [
    "## Environment Set up\n",
    "This demo uses ecommerce Google Analytics data, publicly available as a BigQuery dataset. "
   ]
  },
  {
   "cell_type": "code",
   "execution_count": null,
   "id": "f2524e0e",
   "metadata": {},
   "outputs": [],
   "source": [
    "PROJECT_ID = 'on-prem-project-337210' #replace value\n",
    "LOCATION = 'us-central1'\n",
    "MODEL_NAME = 'web_analytics_clsmod'\n",
    "DATASET_NAME= 'webAnalytics'\n",
    "\n",
    "BUCKET_NAME = f'{PROJECT_ID}_{MODEL_NAME}'\n",
    "DATASET_ID = f'{PROJECT_ID}.{DATASET_NAME}'"
   ]
  },
  {
   "cell_type": "code",
   "execution_count": null,
   "id": "c5437d65",
   "metadata": {},
   "outputs": [],
   "source": [
    "from google.cloud import storage\n",
    "\n",
    "storage_client = storage.Client()\n",
    "bucket = storage_client.bucket(BUCKET_NAME)\n",
    "new_bucket = storage_client.create_bucket(bucket, location=LOCATION)"
   ]
  },
  {
   "cell_type": "markdown",
   "id": "257f96ff",
   "metadata": {},
   "source": [
    "## Create Database "
   ]
  },
  {
   "cell_type": "code",
   "execution_count": null,
   "id": "a04687ee",
   "metadata": {},
   "outputs": [],
   "source": [
    "from google.cloud import bigquery\n",
    "\n",
    "client = bigquery.Client()\n",
    "dataset = bigquery.Dataset(DATASET_ID)\n",
    "dataset.location = \"US\"\n",
    "dataset = client.create_dataset(dataset, timeout=30) \n",
    "\n",
    "print(\"Created dataset {}.{}\".format(client.project, dataset.dataset_id))"
   ]
  },
  {
   "cell_type": "markdown",
   "id": "c76f424a",
   "metadata": {},
   "source": [
    "## Explore Data"
   ]
  },
  {
   "cell_type": "code",
   "execution_count": null,
   "id": "bde3e1df",
   "metadata": {},
   "outputs": [],
   "source": [
    "from google.cloud import bigquery\n",
    "query_job = client.query(\n",
    "    \"\"\"\n",
    "WITH visitors AS(\n",
    "  SELECT\n",
    "    COUNT(DISTINCT fullVisitorId) AS total_visitors\n",
    "  FROM\n",
    "    `data-to-insights.ecommerce.web_analytics` ),\n",
    "  purchasers AS(\n",
    "  SELECT\n",
    "    COUNT(DISTINCT fullVisitorId) AS total_purchasers\n",
    "  FROM\n",
    "    `data-to-insights.ecommerce.web_analytics`\n",
    "  WHERE\n",
    "    totals.transactions IS NOT NULL )\n",
    "SELECT\n",
    "  total_visitors,\n",
    "  total_purchasers,\n",
    "  total_purchasers / total_visitors AS conversion_rate\n",
    "FROM\n",
    "  visitors,\n",
    "  purchasers\"\"\"\n",
    ")\n",
    "\n",
    "results = query_job.result().to_dataframe()\n",
    "print(results.head())"
   ]
  },
  {
   "cell_type": "code",
   "execution_count": null,
   "id": "dea646ad",
   "metadata": {},
   "outputs": [],
   "source": [
    "# visitors who bought on a return visit (could have bought on first as well\n",
    "query_job = client.query(\n",
    "    \"\"\"\n",
    "WITH all_visitor_stats AS (\n",
    "    SELECT\n",
    "      fullvisitorid, \n",
    "      IF(COUNTIF(totals.transactions > 0 AND totals.newVisits IS NULL) > 0, 1, 0) AS will_buy_on_return_visit\n",
    "    FROM `data-to-insights.ecommerce.web_analytics`\n",
    "    GROUP BY fullvisitorid\n",
    "    )\n",
    "SELECT\n",
    "    COUNT(DISTINCT fullvisitorid) AS total_visitors,\n",
    "      will_buy_on_return_visit\n",
    "    FROM all_visitor_stats\n",
    "    GROUP BY will_buy_on_return_visit\"\"\"\n",
    ")\n",
    "\n",
    "results = query_job.result().to_dataframe()\n",
    "print(results.head(5))"
   ]
  },
  {
   "cell_type": "markdown",
   "id": "8f45de9b",
   "metadata": {},
   "source": [
    "## Create BQML Classification Model\n",
    "Predict if visitors \"will buy in future\" or \"won't buy in future\", using logistic_reg in a classification model."
   ]
  },
  {
   "cell_type": "code",
   "execution_count": null,
   "id": "e59f1f21",
   "metadata": {},
   "outputs": [],
   "source": [
    "from google.cloud import bigquery\n",
    "client = bigquery.Client()\n",
    "\n",
    "model_build = f\"\"\"\n",
    "CREATE OR REPLACE MODEL {DATASET_NAME}.{MODEL_NAME}\n",
    "OPTIONS(\n",
    "    model_type='logistic_reg',\n",
    "    labels = ['will_buy_on_return_visit']\n",
    "    )\n",
    "AS\n",
    "SELECT\n",
    "  * EXCEPT(fullVisitorId)\n",
    "FROM\n",
    "  # features\n",
    "  (SELECT\n",
    "    fullVisitorId,\n",
    "    IFNULL(totals.bounces, 0) AS bounces,\n",
    "    IFNULL(totals.timeOnSite, 0) AS time_on_site\n",
    "  FROM\n",
    "    `data-to-insights.ecommerce.web_analytics`\n",
    "  WHERE\n",
    "    totals.newVisits = 1\n",
    "    AND date BETWEEN '20160801' AND '20170430') # train on first 9 months\n",
    "  JOIN\n",
    "  (SELECT\n",
    "    fullvisitorid,\n",
    "    IF(COUNTIF(totals.transactions > 0 AND totals.newVisits IS NULL) > 0, 1, 0) AS will_buy_on_return_visit\n",
    "  FROM\n",
    "      `data-to-insights.ecommerce.web_analytics`\n",
    "  GROUP BY fullvisitorid)\n",
    "  USING (fullVisitorId);\n",
    "\"\"\"\n",
    "\n",
    "query_job = client.query(model_build)\n",
    "query_state = client.get_job(query_job.job_id, location=query_job.location).state\n",
    "\n",
    "print(f'Query: {query_state}')\n",
    "\n",
    "while query_state == 'RUNNING': \n",
    "    query_state = client.get_job(query_job.job_id, location=query_job.location).state\n",
    "print(f'Query: {query_state} \\n * Note: DONE does not ensure sucessful completion - check UI')"
   ]
  },
  {
   "cell_type": "markdown",
   "id": "3ab5ac8c",
   "metadata": {},
   "source": [
    "## Evaluation "
   ]
  },
  {
   "cell_type": "code",
   "execution_count": null,
   "id": "2c82e459",
   "metadata": {},
   "outputs": [],
   "source": [
    "from google.cloud import bigquery\n",
    "query_job = client.query(f\"\"\"\n",
    "SELECT\n",
    "  roc_auc,\n",
    "  CASE\n",
    "    WHEN roc_auc > .9 THEN 'good'\n",
    "    WHEN roc_auc > .8 THEN 'fair'\n",
    "    WHEN roc_auc > .7 THEN 'decent'\n",
    "    WHEN roc_auc > .6 THEN 'not great'\n",
    "  ELSE 'poor' END AS model_quality\n",
    "FROM\n",
    "  ML.EVALUATE(MODEL {DATASET_NAME}.{MODEL_NAME},  (\n",
    "SELECT\n",
    "  * EXCEPT(fullVisitorId)\n",
    "FROM\n",
    "  # features\n",
    "  (SELECT\n",
    "    fullVisitorId,\n",
    "    IFNULL(totals.bounces, 0) AS bounces,\n",
    "    IFNULL(totals.timeOnSite, 0) AS time_on_site\n",
    "  FROM\n",
    "    `data-to-insights.ecommerce.web_analytics`\n",
    "  WHERE\n",
    "    totals.newVisits = 1\n",
    "    AND date BETWEEN '20170501' AND '20170630') # eval on 2 months\n",
    "  JOIN\n",
    "  (SELECT\n",
    "    fullvisitorid,\n",
    "    IF(COUNTIF(totals.transactions > 0 AND totals.newVisits IS NULL) > 0, 1, 0) AS will_buy_on_return_visit\n",
    "  FROM\n",
    "      `data-to-insights.ecommerce.web_analytics`\n",
    "  GROUP BY fullvisitorid)\n",
    "  USING (fullVisitorId)\n",
    "));\"\"\")\n",
    "results = query_job.result().to_dataframe()\n",
    "\n",
    "print(results.head(5))"
   ]
  },
  {
   "cell_type": "markdown",
   "id": "27fdd21c",
   "metadata": {},
   "source": [
    "## Export Model to Vertex AI \n",
    "**Export to GCS then upload to Vertex AI**"
   ]
  },
  {
   "cell_type": "code",
   "execution_count": null,
   "id": "07816282",
   "metadata": {},
   "outputs": [],
   "source": [
    "!bq extract -m {PROJECT_ID}:{DATASET_NAME}.{MODEL_NAME} gs://{BUCKET_NAME}/{MODEL_NAME}"
   ]
  },
  {
   "cell_type": "markdown",
   "id": "ceb4537f",
   "metadata": {},
   "source": [
    "**Upload model to Vertex**"
   ]
  },
  {
   "cell_type": "code",
   "execution_count": null,
   "id": "cfc36761",
   "metadata": {},
   "outputs": [],
   "source": [
    "from google.cloud import aiplatform\n",
    "aiplatform.init(project=PROJECT_ID, location=LOCATION)\n",
    "model = aiplatform.Model.upload(\n",
    "        display_name=MODEL_NAME,\n",
    "        artifact_uri= f'gs://{BUCKET_NAME}/{MODEL_NAME}',\n",
    "        serving_container_image_uri='us-docker.pkg.dev/vertex-ai/prediction/tf2-cpu.2-3:latest' ) \n",
    "model.wait()\n",
    "\n",
    "print(model.display_name)\n",
    "print(model.resource_name)"
   ]
  },
  {
   "cell_type": "markdown",
   "id": "651082cb",
   "metadata": {},
   "source": [
    "**Deploy to an endpoint**"
   ]
  },
  {
   "cell_type": "code",
   "execution_count": null,
   "id": "fea7d400",
   "metadata": {},
   "outputs": [],
   "source": [
    "endpoint = aiplatform.Endpoint.create( display_name=f'{MODEL_NAME}_endpt', project=PROJECT_ID, location=LOCATION)\n",
    "\n",
    "model.deploy(\n",
    "        endpoint=endpoint,\n",
    "        traffic_percentage = 100,\n",
    "        machine_type ='n1-highcpu-2')\n",
    "\n",
    "model.wait()\n",
    "print(model.resource_name)"
   ]
  },
  {
   "cell_type": "markdown",
   "id": "34a5d645",
   "metadata": {},
   "source": [
    "## Predict\n",
    "Predict if the visitors will buy on return of visit using the API "
   ]
  },
  {
   "cell_type": "code",
   "execution_count": null,
   "id": "0c4248ab",
   "metadata": {},
   "outputs": [],
   "source": [
    "%%writefile default-pred.json\n",
    "{\"instances\": [{\"bounces\" :0,\"time_on_site\":60}, {\"bounces\" :0,\"time_on_site\": 18102}]}"
   ]
  },
  {
   "cell_type": "code",
   "execution_count": null,
   "id": "38ae1627",
   "metadata": {},
   "outputs": [],
   "source": [
    "#ENDPOINT_ID=\"4510539744765018112\"\n",
    "#ENDPOINT_ID=endpoint.resource_name\n",
    "\n",
    "!curl \\\n",
    "-X POST \\\n",
    "-H \"Authorization: Bearer $(gcloud auth print-access-token)\" \\\n",
    "-H \"Content-Type: application/json\" \\\n",
    "https://us-central1-aiplatform.googleapis.com/v1/projects/$PROJECT_ID/locations/us-central1/endpoints/$ENDPOINT_ID:predict \\\n",
    "-d \"@default-pred.json\""
   ]
  },
  {
   "cell_type": "markdown",
   "id": "ceef0361",
   "metadata": {},
   "source": [
    "# Creating a Vertex AI Pipeline"
   ]
  },
  {
   "cell_type": "code",
   "execution_count": null,
   "id": "1f3327cb",
   "metadata": {},
   "outputs": [],
   "source": [
    "Go to bqpipeline_demo.ipynb"
   ]
  },
  {
   "cell_type": "code",
   "execution_count": null,
   "id": "55fbe9bd",
   "metadata": {},
   "outputs": [],
   "source": [
    "#resources: https://www.qwiklabs.com/focuses/1794?parent=catalog\n",
    "#https://cloud.google.com/bigquery-ml/docs/exporting-models?_ga=2.59990958.-2027684164.1621380090\n",
    "#https://docs.google.com/document/d/1wre9hLVx-H8syG-806UPWGJbDVGieIM5VvFKi8lbGtw/edit\n"
   ]
  }
 ],
 "metadata": {
  "environment": {
   "kernel": "python3",
   "name": "common-cpu.m90",
   "type": "gcloud",
   "uri": "gcr.io/deeplearning-platform-release/base-cpu:m90"
  },
  "kernelspec": {
   "display_name": "Python 3",
   "language": "python",
   "name": "python3"
  },
  "language_info": {
   "codemirror_mode": {
    "name": "ipython",
    "version": 3
   },
   "file_extension": ".py",
   "mimetype": "text/x-python",
   "name": "python",
   "nbconvert_exporter": "python",
   "pygments_lexer": "ipython3",
   "version": "3.7.12"
  }
 },
 "nbformat": 4,
 "nbformat_minor": 5
}
