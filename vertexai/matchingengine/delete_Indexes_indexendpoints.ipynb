{
 "cells": [
  {
   "cell_type": "code",
   "execution_count": null,
   "id": "fd0cf64b-47c7-4edf-a6b6-57d18c12ebce",
   "metadata": {},
   "outputs": [],
   "source": [
    "!curl -X POST \\\n",
    "-H \"Authorization: Bearer \"$(gcloud auth application-default print-access-token) \\\n",
    "-H \"Content-Type: application/json; charset=utf-8\" \\\n",
    "-d @request.json \\\n",
    "\"https://us-central1-aiplatform.googleapis.com/v1/projects/on-prem-project-337210/locations/us-central1/indexEndpoints/5591095792078159872:undeployIndex\""
   ]
  },
  {
   "cell_type": "code",
   "execution_count": null,
   "id": "706e1aa4-f018-4b95-ac10-cdae5fced78f",
   "metadata": {},
   "outputs": [],
   "source": [
    "!curl -X GET \\\n",
    "-H \"Authorization: Bearer \"$(gcloud auth application-default print-access-token) \\\n",
    "\"https://us-central1-aiplatform.googleapis.com/v1/projects/on-prem-project-337210/locations/us-central1/indexEndpoints\""
   ]
  },
  {
   "cell_type": "code",
   "execution_count": null,
   "id": "4e71c2e7-3ee8-487e-8fe0-1daccf8ce6c4",
   "metadata": {},
   "outputs": [],
   "source": [
    "!curl -X DELETE \\\n",
    "-H \"Authorization: Bearer \"$(gcloud auth application-default print-access-token) \\\n",
    "\"https://us-central1-aiplatform.googleapis.com/v1/projects/on-prem-project-337210/locations/us-central1/indexEndpoints/5591095792078159872\""
   ]
  },
  {
   "cell_type": "code",
   "execution_count": null,
   "id": "16630d4c-6217-4f49-8fd6-8f155aaa9043",
   "metadata": {},
   "outputs": [],
   "source": [
    "!curl -X GET \\\n",
    "-H \"Authorization: Bearer \"$(gcloud auth application-default print-access-token) \\\n",
    "\"https://us-central1-aiplatform.googleapis.com/v1/projects/on-prem-project-337210/locations/us-central1/indexes\""
   ]
  },
  {
   "cell_type": "code",
   "execution_count": null,
   "id": "56a75cf4-ae82-40ff-97a7-e05a21d9ee95",
   "metadata": {},
   "outputs": [],
   "source": [
    "!curl -X DELETE \\\n",
    "-H \"Authorization: Bearer \"$(gcloud auth application-default print-access-token) \\\n",
    "\"https://us-central1-aiplatform.googleapis.com/v1/projects/on-prem-project-337210/locations/us-central1/indexes/6726214004408057856\""
   ]
  },
  {
   "cell_type": "code",
   "execution_count": null,
   "id": "edb7c390-685c-4b4c-928f-cb81e664851d",
   "metadata": {},
   "outputs": [],
   "source": []
  }
 ],
 "metadata": {
  "environment": {
   "kernel": "python3",
   "name": "common-cpu.m90",
   "type": "gcloud",
   "uri": "gcr.io/deeplearning-platform-release/base-cpu:m90"
  },
  "kernelspec": {
   "display_name": "Python 3",
   "language": "python",
   "name": "python3"
  },
  "language_info": {
   "codemirror_mode": {
    "name": "ipython",
    "version": 3
   },
   "file_extension": ".py",
   "mimetype": "text/x-python",
   "name": "python",
   "nbconvert_exporter": "python",
   "pygments_lexer": "ipython3",
   "version": "3.7.12"
  }
 },
 "nbformat": 4,
 "nbformat_minor": 5
}
