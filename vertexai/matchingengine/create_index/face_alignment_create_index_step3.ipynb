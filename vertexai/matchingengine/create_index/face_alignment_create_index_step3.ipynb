{
 "cells": [
  {
   "cell_type": "code",
   "execution_count": null,
   "metadata": {
    "id": "ur8xi4C7S06n"
   },
   "outputs": [],
   "source": [
    "# Copyright 2021 Google LLC\n",
    "#\n",
    "# Licensed under the Apache License, Version 2.0 (the \"License\");\n",
    "# you may not use this file except in compliance with the License.\n",
    "# You may obtain a copy of the License at\n",
    "#\n",
    "#     https://www.apache.org/licenses/LICENSE-2.0\n",
    "#\n",
    "# Unless required by applicable law or agreed to in writing, software\n",
    "# distributed under the License is distributed on an \"AS IS\" BASIS,\n",
    "# WITHOUT WARRANTIES OR CONDITIONS OF ANY KIND, either express or implied.\n",
    "# See the License for the specific language governing permissions and\n",
    "# limitations under the License."
   ]
  },
  {
   "cell_type": "code",
   "execution_count": 18,
   "metadata": {},
   "outputs": [
    {
     "name": "stdout",
     "output_type": "stream",
     "text": [
      "/home/jupyter/demos/vertexai/matching-engine\n"
     ]
    }
   ],
   "source": [
    "!pwd"
   ]
  },
  {
   "cell_type": "markdown",
   "metadata": {
    "id": "JAPoU8Sm5E6e"
   },
   "source": [
    "<table align=\"left\">\n",
    "\n",
    "  <td>\n",
    "    <a href=\"https://console.cloud.google.com/vertex-ai/notebooks/deploy-notebook?download_url=https://github.com/GoogleCloudPlatform/vertex-ai-samples/blob/master/notebooks/community/matching_engine/matching_engine_for_indexing.ipynb\">\n",
    "      Run in Google Cloud Notebooks\n",
    "    </a>\n",
    "  </td>\n",
    "  <td>\n",
    "    <a href=\"https://github.com/GoogleCloudPlatform/vertex-ai-samples/blob/master/notebooks/community/matching_engine/matching_engine_for_indexing.ipynb\">\n",
    "      <img src=\"https://cloud.google.com/ml-engine/images/github-logo-32px.png\" alt=\"GitHub logo\">\n",
    "      View on GitHub\n",
    "    </a>\n",
    "  </td>\n",
    "</table>"
   ]
  },
  {
   "cell_type": "markdown",
   "metadata": {
    "id": "tvgnzT1CKxrO"
   },
   "source": [
    "## Overview\n",
    "\n",
    "This example demonstrates how to use the GCP ANN Service. It is a high scale, low latency solution, to find similar vectors (or more specifically \"embeddings\") for a large corpus. Moreover, it is a fully managed offering, further reducing operational overhead. It is built upon [Approximate Nearest Neighbor (ANN) technology](https://ai.googleblog.com/2020/07/announcing-scann-efficient-vector.html) developed by Google Research.\n",
    "\n",
    "### Dataset\n",
    "\n",
    "The dataset used for this tutorial is the [GloVe dataset](https://nlp.stanford.edu/projects/glove/).\n",
    "\n",
    "### Objective\n",
    "\n",
    "In this notebook, you will learn how to create Approximate Nearest Neighbor (ANN) Index, query against indexes, and validate the performance of the index. \n",
    "\n",
    "The steps performed include:\n",
    "\n",
    "* Create ANN Index and Brute Force Index\n",
    "* Create an IndexEndpoint with VPC Network\n",
    "* Deploy ANN Index and Brute Force Index\n",
    "* Perform online query\n",
    "* Compute recall\n",
    "\n",
    "\n",
    "### Costs \n",
    "\n",
    "This tutorial uses billable components of Google Cloud:\n",
    "\n",
    "* Vertex AI\n",
    "* Cloud Storage\n",
    "\n",
    "Learn about [Vertex AI\n",
    "pricing](https://cloud.google.com/vertex-ai/pricing) and [Cloud Storage\n",
    "pricing](https://cloud.google.com/storage/pricing), and use the [Pricing\n",
    "Calculator](https://cloud.google.com/products/calculator/)\n",
    "to generate a cost estimate based on your projected usage."
   ]
  },
  {
   "cell_type": "markdown",
   "metadata": {
    "id": "S5zc4kbEiYCm"
   },
   "source": [
    "## Before you begin\n",
    "\n",
    "* **Prepare a VPC network**.  To reduce any network overhead that might lead to unnecessary increase in overhead latency, it is best to call the ANN endpoints from your VPC via a direct [VPC Peering](https://cloud.google.com/vertex-ai/docs/general/vpc-peering) connection. The following section describes how to setup a VPC Peering connection if you don't have one. This is a one-time initial setup task. You can also reuse existing VPC network and skip this section.\n",
    "* **WARNING:** The match service gRPC API (to create online queries against your deployed index) has to be executed in a Google Cloud Notebook instance that is created with the following requirements:\n",
    "  * **In the same region as where your ANN service is deployed** (for example, if you set `REGION = \"us-central1\"` as same as the tutorial, the notebook instance has to be in `us-central1`).\n",
    "  * **Make sure you select the VPC network you created for ANN service** (instead of using the \"default\" one). That is, you will have to create the VPC network below and then create a new notebook instance that uses that VPC.  \n",
    "  * If you run it in the colab or a Google Cloud Notebook instance in a different VPC network or region, the gRPC API will fail to peer the network (InactiveRPCError)."
   ]
  },
  {
   "cell_type": "code",
   "execution_count": null,
   "metadata": {
    "id": "lW2LneA5mmmP"
   },
   "outputs": [],
   "source": [
    "PROJECT_ID = \"living-media-extraction-poc\"  # @param {type:\"string\"}\n",
    "NETWORK_NAME = \"ucaip-haystack-vpc-network\"  # @param {type:\"string\"}\n",
    "PEERING_RANGE_NAME = \"ucaip-haystack-range\"\n",
    "\n",
    "# Create a VPC network\n",
    "! gcloud compute networks create {NETWORK_NAME} --bgp-routing-mode=regional --subnet-mode=auto --project={PROJECT_ID}\n",
    "\n",
    "# Add necessary firewall rules\n",
    "! gcloud compute firewall-rules create {NETWORK_NAME}-allow-icmp --network {NETWORK_NAME} --priority 65534 --project {PROJECT_ID} --allow icmp\n",
    "\n",
    "! gcloud compute firewall-rules create {NETWORK_NAME}-allow-internal --network {NETWORK_NAME} --priority 65534 --project {PROJECT_ID} --allow all --source-ranges 10.128.0.0/9\n",
    "\n",
    "! gcloud compute firewall-rules create {NETWORK_NAME}-allow-rdp --network {NETWORK_NAME} --priority 65534 --project {PROJECT_ID} --allow tcp:3389\n",
    "\n",
    "! gcloud compute firewall-rules create {NETWORK_NAME}-allow-ssh --network {NETWORK_NAME} --priority 65534 --project {PROJECT_ID} --allow tcp:22\n",
    "\n",
    "# Reserve IP range\n",
    "! gcloud compute addresses create {PEERING_RANGE_NAME} --global --prefix-length=16 --network={NETWORK_NAME} --purpose=VPC_PEERING --project={PROJECT_ID} --description=\"peering range for uCAIP Haystack.\"\n",
    "\n",
    "# Set up peering with service networking\n",
    "! gcloud services vpc-peerings connect --service=servicenetworking.googleapis.com --network={NETWORK_NAME} --ranges={PEERING_RANGE_NAME} --project={PROJECT_ID}"
   ]
  },
  {
   "cell_type": "code",
   "execution_count": 1,
   "metadata": {},
   "outputs": [],
   "source": [
    "PROJECT_ID = \"on-prem-project-337210\"\n",
    "NETWORK_NAME = \"ucaip-haystack-vpc-network\"\n",
    "PEERING_RANGE_NAME = \"ucaip-haystack-range\""
   ]
  },
  {
   "cell_type": "markdown",
   "metadata": {
    "id": "d3uj8x73nDX_"
   },
   "source": [
    "* Authentication: `$ gcloud auth login` rerun this in Google Cloud Notebook terminal when you are logged out and need the credential again."
   ]
  },
  {
   "cell_type": "markdown",
   "metadata": {
    "id": "i7EUnXsZhAGF"
   },
   "source": [
    "### Installation\n",
    "\n",
    "Download and install the latest (preview) version of the Vertex SDK for Python."
   ]
  },
  {
   "cell_type": "code",
   "execution_count": null,
   "metadata": {
    "id": "wyy5Lbnzg5fi"
   },
   "outputs": [],
   "source": [
    "! pip install -U git+https://github.com/googleapis/python-aiplatform.git@main-test --user"
   ]
  },
  {
   "cell_type": "markdown",
   "metadata": {
    "id": "irSMQn6gZ19l"
   },
   "source": [
    "Install the `h5py` to prepare sample dataset, and the `grpcio-tools` for querying against the index. "
   ]
  },
  {
   "cell_type": "code",
   "execution_count": null,
   "metadata": {
    "id": "-h5sqwOEZ5Yq"
   },
   "outputs": [],
   "source": [
    "! pip install -U grpcio-tools --user\n",
    "! pip install -U h5py --user"
   ]
  },
  {
   "cell_type": "markdown",
   "metadata": {
    "id": "hhq5zEbGg0XX"
   },
   "source": [
    "### Restart the kernel\n",
    "\n",
    "After you install the additional packages, you need to restart the notebook kernel so it can find the packages."
   ]
  },
  {
   "cell_type": "code",
   "execution_count": 4,
   "metadata": {
    "id": "EzrelQZ22IZj"
   },
   "outputs": [],
   "source": [
    "# Automatically restart kernel after installs\n",
    "import os\n",
    "\n",
    "if not os.getenv(\"IS_TESTING\"):\n",
    "    # Automatically restart kernel after installs\n",
    "    import IPython\n",
    "\n",
    "    app = IPython.Application.instance()\n",
    "    app.kernel.do_shutdown(True)"
   ]
  },
  {
   "cell_type": "markdown",
   "metadata": {
    "id": "BF1j6f9HApxa"
   },
   "source": [
    "### Set up your Google Cloud project\n",
    "\n",
    "**The following steps are required, regardless of your notebook environment.**\n",
    "\n",
    "1. [Select or create a Google Cloud project](https://console.cloud.google.com/cloud-resource-manager).\n",
    "\n",
    "1. [Make sure that billing is enabled for your project](https://cloud.google.com/billing/docs/how-to/modify-project).\n",
    "\n",
    "1. [Enable the Vertex AI API and Compute Engine API, and Service Networking API](https://console.cloud.google.com/flows/enableapi?apiid=aiplatform.googleapis.com,compute_component,servicenetworking.googleapis.com).\n",
    "\n",
    "1. Enter your project ID in the cell below. Then run the cell to make sure the\n",
    "Cloud SDK uses the right project for all the commands in this notebook.\n",
    "\n",
    "**Note**: Jupyter runs lines prefixed with `!` as shell commands, and it interpolates Python variables prefixed with `$` into these commands."
   ]
  },
  {
   "cell_type": "markdown",
   "metadata": {
    "id": "WReHDGG5g0XY"
   },
   "source": [
    "#### Set your project ID\n",
    "\n",
    "**If you don't know your project ID**, you may be able to get your project ID using `gcloud`."
   ]
  },
  {
   "cell_type": "code",
   "execution_count": 2,
   "metadata": {
    "id": "oM1iC_MfAts1"
   },
   "outputs": [
    {
     "name": "stdout",
     "output_type": "stream",
     "text": [
      "Project ID:  on-prem-project-337210\n"
     ]
    }
   ],
   "source": [
    "import os\n",
    "\n",
    "PROJECT_ID = \"on-prem-project-337210\"\n",
    "\n",
    "# Get your Google Cloud project ID from gcloud\n",
    "if not os.getenv(\"IS_TESTING\"):\n",
    "    shell_output=!gcloud config list --format 'value(core.project)' 2>/dev/null\n",
    "    PROJECT_ID = shell_output[0]\n",
    "    print(\"Project ID: \", PROJECT_ID)"
   ]
  },
  {
   "cell_type": "markdown",
   "metadata": {
    "id": "qJYoRfYng0XZ"
   },
   "source": [
    "Otherwise, set your project ID here."
   ]
  },
  {
   "cell_type": "markdown",
   "metadata": {
    "id": "zgPO1eR3CYjk"
   },
   "source": [
    "### Create a Cloud Storage bucket\n",
    "\n",
    "**The following steps are required, regardless of your notebook environment.**\n",
    "\n",
    "Set the name of your Cloud Storage bucket below. It must be unique across all\n",
    "Cloud Storage buckets.\n",
    "\n",
    "You may also change the `REGION` variable, which is used for operations\n",
    "throughout the rest of this notebook. Make sure to [choose a region where Vertex AI services are\n",
    "available](https://cloud.google.com/vertex-ai/docs/general/locations#available_regions). You may\n",
    "not use a Multi-Regional Storage bucket for training with Vertex AI."
   ]
  },
  {
   "cell_type": "code",
   "execution_count": 3,
   "metadata": {
    "id": "MzGDU7TWdts_"
   },
   "outputs": [],
   "source": [
    "BUCKET_NAME = \"gs://customer-demos/matching-engine\"  # @param {type:\"string\"}\n",
    "REGION = \"us-central1\"  # @param {type:\"string\"}"
   ]
  },
  {
   "cell_type": "markdown",
   "metadata": {
    "id": "-EcIXiGsCePi"
   },
   "source": [
    "**Only if your bucket doesn't already exist**: Run the following cell to create your Cloud Storage bucket."
   ]
  },
  {
   "cell_type": "markdown",
   "metadata": {
    "id": "ucvCsknMCims"
   },
   "source": [
    "Finally, validate access to your Cloud Storage bucket by examining its contents:"
   ]
  },
  {
   "cell_type": "code",
   "execution_count": 4,
   "metadata": {
    "id": "vhOb7YnwClBb"
   },
   "outputs": [
    {
     "name": "stdout",
     "output_type": "stream",
     "text": [
      "         0  2022-05-11T12:26:39Z  gs://customer-demos/matching-engine/#1652271999637434  metageneration=1\n",
      "     25547  2022-05-15T16:56:04Z  gs://customer-demos/matching-engine/vertex_face_embeddings.json#1652633764938247  metageneration=1\n",
      "TOTAL: 2 objects, 25547 bytes (24.95 KiB)\n"
     ]
    }
   ],
   "source": [
    "! gsutil ls -al $BUCKET_NAME"
   ]
  },
  {
   "cell_type": "markdown",
   "metadata": {
    "id": "XoEqT2Y4DJmf"
   },
   "source": [
    "### Import libraries and define constants"
   ]
  },
  {
   "cell_type": "code",
   "execution_count": 5,
   "metadata": {},
   "outputs": [
    {
     "name": "stdout",
     "output_type": "stream",
     "text": [
      "__pycache__\n",
      "dataset\n",
      "delete_Indexes_indexendpoints.ipynb\n",
      "face\n",
      "face_alignment_step1.py\n",
      "face_alignment_step2.py\n",
      "face_detection.npz\n",
      "face_input_generate_embeddings_step4.ipynb\n",
      "face_vertexai_match_create_index_step3.ipynb\n",
      "faces-embeddings.npz\n",
      "match_service.proto\n",
      "model\n",
      "request.json\n",
      "third_party\n",
      "vertex_face_embeddings.json\n"
     ]
    }
   ],
   "source": [
    "!ls"
   ]
  },
  {
   "cell_type": "markdown",
   "metadata": {
    "id": "Y9Uo3tifg1kx"
   },
   "source": [
    "Import the Vertex AI (unified) client library into your Python environment. \n"
   ]
  },
  {
   "cell_type": "code",
   "execution_count": 6,
   "metadata": {
    "id": "f2d05ab4126a"
   },
   "outputs": [],
   "source": [
    "import time\n",
    "\n",
    "import grpc\n",
    "import h5py\n",
    "from google.cloud import aiplatform_v1beta1\n",
    "from google.protobuf import struct_pb2"
   ]
  },
  {
   "cell_type": "code",
   "execution_count": 7,
   "metadata": {
    "id": "pRUOFELefqf1"
   },
   "outputs": [
    {
     "name": "stdout",
     "output_type": "stream",
     "text": [
      "ENDPOINT: us-central1-aiplatform.googleapis.com\n",
      "PROJECT_ID: on-prem-project-337210\n",
      "REGION: us-central1\n",
      "Updated property [core/project].\n",
      "\n",
      "\n",
      "To take a quick anonymous survey, run:\n",
      "  $ gcloud survey\n",
      "\n",
      "Updated property [ai_platform/region].\n"
     ]
    }
   ],
   "source": [
    "REGION = \"us-central1\"\n",
    "ENDPOINT = \"{}-aiplatform.googleapis.com\".format(REGION)\n",
    "NETWORK_NAME = \"ucaip-haystack-vpc-network\"  # @param {type:\"string\"}\n",
    "\n",
    "\n",
    "AUTH_TOKEN = !gcloud auth print-access-token\n",
    "PROJECT_NUMBER = !gcloud projects list --filter=\"PROJECT_ID:'{PROJECT_ID}'\" --format='value(PROJECT_NUMBER)'\n",
    "PROJECT_NUMBER = PROJECT_NUMBER[0]\n",
    "\n",
    "PARENT = \"projects/{}/locations/{}\".format(PROJECT_ID, REGION)\n",
    "\n",
    "print(\"ENDPOINT: {}\".format(ENDPOINT))\n",
    "print(\"PROJECT_ID: {}\".format(PROJECT_ID))\n",
    "print(\"REGION: {}\".format(REGION))\n",
    "\n",
    "!gcloud config set project {PROJECT_ID}\n",
    "!gcloud config set ai_platform/region {REGION}"
   ]
  },
  {
   "cell_type": "markdown",
   "metadata": {
    "id": "lR6Wwv-hCCN-",
    "tags": []
   },
   "source": [
    "## Prepare the Data\n",
    "\n",
    "The GloVe dataset consists of a set of pre-trained embeddings. The embeddings are split into a \"train\" split, and a \"test\" split.\n",
    "We will create a vector search index from the \"train\" split, and use the embedding vectors in the \"test\" split as query vectors to test the vector search index.\n",
    "\n",
    "NOTE: While the data split uses the term \"train\", these are pre-trained embeddings and thus are ready to be indexed for search. The terms \"train\" and \"test\" split are used just to be consistent with usual machine learning terminology.\n",
    "\n",
    "Download the GloVe dataset.\n"
   ]
  },
  {
   "cell_type": "markdown",
   "metadata": {
    "id": "4fAO9CMoCNtq"
   },
   "source": [
    "Read the data into memory.\n"
   ]
  },
  {
   "cell_type": "code",
   "execution_count": 8,
   "metadata": {
    "id": "lZ3JQTS6CN-3"
   },
   "outputs": [
    {
     "name": "stdout",
     "output_type": "stream",
     "text": [
      "Dataset: train=18, test=3\n",
      "Dataset: train labels=18, test labels=3\n",
      "Dataset: train labels=Sachin\n",
      "total train embeddings: 18\n",
      "total train labels: 18\n"
     ]
    }
   ],
   "source": [
    "# # The number of nearest neighbors to be retrieved from database for each query.\n",
    "# k = 10\n",
    "\n",
    "# h5 = h5py.File(\"\"glove-100-angular.hdf5, \"r\")\n",
    "# train = h5[\"train\"]\n",
    "# test = h5[\"test\"]\n",
    "\n",
    "import numpy as np\n",
    "k=4\n",
    "# load dataset\n",
    "data = np.load('faces-embeddings.npz')\n",
    "trainX, trainy, testX, testy = data['arr_0'], data['arr_1'], data['arr_2'], data['arr_3']\n",
    "print('Dataset: train=%d, test=%d' % (trainX.shape[0], testX.shape[0]))\n",
    "print('Dataset: train labels=%d, test labels=%d' % (trainy.shape[0], testy.shape[0]))\n",
    "\n",
    "\n",
    "print('Dataset: train labels=%s' % (trainy[0]))#######\n",
    "print(\"total train embeddings:\",len(trainX))\n",
    "print(\"total train labels:\",len(trainy))\n",
    "\n",
    "faces_dataset_numpy =trainX\n",
    "faces_dataset_numpy.shape\n",
    "#print(faces_dataset_numpy[0])\n",
    "test_query_label=trainy"
   ]
  },
  {
   "cell_type": "markdown",
   "metadata": {
    "id": "aQIQSyF9GtSv"
   },
   "source": [
    "Save the train split in JSONL format.\n"
   ]
  },
  {
   "cell_type": "code",
   "execution_count": 9,
   "metadata": {
    "id": "18wCiTwfG40P"
   },
   "outputs": [],
   "source": [
    "with open(\"vertex_face_embeddings.json\", \"w\") as f:\n",
    "    for i in range(len(trainX)):\n",
    "        f.write('{\"id\":\"' + trainy[i] + \"_\" + str(i) + '\",')\n",
    "        f.write('\"embedding\":[' + \",\".join(str(x) for x in faces_dataset_numpy[i]) + \"]}\")\n",
    "        f.write(\"\\n\")"
   ]
  },
  {
   "cell_type": "markdown",
   "metadata": {
    "id": "QuVl8DrWG8NS"
   },
   "source": [
    "Upload the training data to GCS."
   ]
  },
  {
   "cell_type": "code",
   "execution_count": 10,
   "metadata": {
    "id": "3PgsA_vbI8Vg"
   },
   "outputs": [
    {
     "name": "stdout",
     "output_type": "stream",
     "text": [
      "Copying file://vertex_face_embeddings.json [Content-Type=application/json]...\n",
      "/ [1 files][ 25.0 KiB/ 25.0 KiB]                                                \n",
      "Operation completed over 1 objects/25.0 KiB.                                     \n"
     ]
    }
   ],
   "source": [
    "! gsutil cp vertex_face_embeddings.json {BUCKET_NAME}/vertex_face_embeddings.json"
   ]
  },
  {
   "cell_type": "code",
   "execution_count": 11,
   "metadata": {
    "id": "3RX6g7FaJFes"
   },
   "outputs": [
    {
     "name": "stdout",
     "output_type": "stream",
     "text": [
      "gs://customer-demos/matching-engine/\n",
      "gs://customer-demos/matching-engine/vertex_face_embeddings.json\n"
     ]
    }
   ],
   "source": [
    "! gsutil ls {BUCKET_NAME}"
   ]
  },
  {
   "cell_type": "markdown",
   "metadata": {
    "id": "mglUPwHpJH98"
   },
   "source": [
    "## Create Indexes\n"
   ]
  },
  {
   "cell_type": "markdown",
   "metadata": {
    "id": "qhIBCQ7dDSbW"
   },
   "source": [
    "### Create ANN Index (for Production Usage)"
   ]
  },
  {
   "cell_type": "code",
   "execution_count": 12,
   "metadata": {
    "id": "DDAvm_mj_BVs"
   },
   "outputs": [],
   "source": [
    "index_client = aiplatform_v1beta1.IndexServiceClient(\n",
    "    client_options=dict(api_endpoint=ENDPOINT)\n",
    ")"
   ]
  },
  {
   "cell_type": "code",
   "execution_count": 13,
   "metadata": {
    "id": "qiIg9b5zJLi1"
   },
   "outputs": [],
   "source": [
    "DIMENSIONS = 128\n",
    "DISPLAY_NAME = \"vertexai_face_search_demo\"\n",
    "#DISPLAY_NAME_BRUTE_FORCE = DISPLAY_NAME + \"_brute_force\""
   ]
  },
  {
   "cell_type": "markdown",
   "metadata": {
    "id": "svLYiDf0OD2G"
   },
   "source": [
    "Create the ANN index configuration:\n",
    "\n",
    "Please read the documentation to understand the various configuration parameters that can be used to tune the index\n"
   ]
  },
  {
   "cell_type": "code",
   "execution_count": 14,
   "metadata": {
    "id": "Tfa8IoNrOCJh"
   },
   "outputs": [],
   "source": [
    "treeAhConfig = struct_pb2.Struct(\n",
    "    fields={\n",
    "        \"leafNodeEmbeddingCount\": struct_pb2.Value(number_value=500),\n",
    "        \"leafNodesToSearchPercent\": struct_pb2.Value(number_value=7),\n",
    "    }\n",
    ")\n",
    "\n",
    "algorithmConfig = struct_pb2.Struct(\n",
    "    fields={\"treeAhConfig\": struct_pb2.Value(struct_value=treeAhConfig)}\n",
    ")\n",
    "\n",
    "config = struct_pb2.Struct(\n",
    "    fields={\n",
    "        \"dimensions\": struct_pb2.Value(number_value=DIMENSIONS),\n",
    "        \"approximateNeighborsCount\": struct_pb2.Value(number_value=150),\n",
    "        \"distanceMeasureType\": struct_pb2.Value(string_value=\"SQUARED_L2_DISTANCE\"),\n",
    "        \"algorithmConfig\": struct_pb2.Value(struct_value=algorithmConfig),\n",
    "    }\n",
    ")\n",
    "\n",
    "metadata = struct_pb2.Struct(\n",
    "    fields={\n",
    "        \"config\": struct_pb2.Value(struct_value=config),\n",
    "        \"contentsDeltaUri\": struct_pb2.Value(string_value=BUCKET_NAME),\n",
    "    }\n",
    ")\n",
    "\n",
    "vertex_index_matching_lmedia = {\n",
    "    \"display_name\": DISPLAY_NAME,\n",
    "    \"description\": \"living 100 ANN index\",\n",
    "    \"metadata\": struct_pb2.Value(struct_value=metadata),\n",
    "}"
   ]
  },
  {
   "cell_type": "code",
   "execution_count": 15,
   "metadata": {
    "id": "xzY7TpUSJcTV"
   },
   "outputs": [],
   "source": [
    "vertex_index_matching_lmedia = index_client.create_index(parent=PARENT, index=vertex_index_matching_lmedia)"
   ]
  },
  {
   "cell_type": "code",
   "execution_count": null,
   "metadata": {},
   "outputs": [],
   "source": [
    "!ls"
   ]
  },
  {
   "cell_type": "code",
   "execution_count": null,
   "metadata": {
    "id": "oLBD2xXG_tv7"
   },
   "outputs": [
    {
     "name": "stdout",
     "output_type": "stream",
     "text": [
      "Poll the operation to create index...\n",
      "Poll the operation to create index...\n",
      "Poll the operation to create index...\n",
      "Poll the operation to create index...\n",
      "Poll the operation to create index...\n",
      "Poll the operation to create index...\n",
      "Poll the operation to create index...\n",
      "Poll the operation to create index...\n",
      "Poll the operation to create index...\n",
      "Poll the operation to create index...\n",
      "Poll the operation to create index...\n",
      "Poll the operation to create index...\n",
      "Poll the operation to create index...\n",
      "Poll the operation to create index...\n",
      "Poll the operation to create index...\n",
      "Poll the operation to create index...\n",
      "Poll the operation to create index...\n",
      "Poll the operation to create index...\n",
      "Poll the operation to create index...\n",
      "Poll the operation to create index...\n",
      "Poll the operation to create index...\n",
      "Poll the operation to create index...\n",
      "Poll the operation to create index...\n",
      "Poll the operation to create index...\n",
      "Poll the operation to create index...\n"
     ]
    }
   ],
   "source": [
    "# Poll the operation until it's done successfullly.\n",
    "# This will take ~45 min.\n",
    "\n",
    "while True:\n",
    "    if vertex_index_matching_lmedia.done():\n",
    "        break\n",
    "    print(\"Poll the operation to create index...\")\n",
    "    time.sleep(60)\n",
    "print(\"done\")"
   ]
  },
  {
   "cell_type": "code",
   "execution_count": 18,
   "metadata": {
    "id": "17jrQi501QyX"
   },
   "outputs": [],
   "source": [
    "INDEX_RESOURCE_NAME = vertex_index_matching_lmedia.result().name\n",
    "#INDEX_RESOURCE_NAME = 'projects/533775010529/locations/us-central1/indexes/9173920401883922432'"
   ]
  },
  {
   "cell_type": "markdown",
   "metadata": {
    "id": "mglUPwHpJH98"
   },
   "source": [
    "## Update Indexes\n",
    "\n",
    "Create incremental data file.\n"
   ]
  },
  {
   "cell_type": "code",
   "execution_count": 24,
   "metadata": {
    "id": "DDAvm_mj_BVs"
   },
   "outputs": [],
   "source": [
    "with open(\"face_embeddings.json\", \"w\") as f:\n",
    "    f.write(\n",
    "        '{\"id\":\"0\",\"embedding\":[0,0,0,0,0,0,0,0,0,0,0,0,0,0,0,0,0,0,0,0,0,0,0,0,0,0,0,0,0,0,0,0,0,0,0,0,0,0,0,0,0,0,0,0,0,0,0,0,0,0,0,0,0,0,0,0,0,0,0,0,0,0,0,0,0,0,0,0,0,0,0,0,0,0,0,0,0,0,0,0,0,0,0,0,0,0,0,0,0,0,0,0,0,0,0,0,0,0,0,0]}\\n'\n",
    "    )"
   ]
  },
  {
   "cell_type": "markdown",
   "metadata": {
    "id": "svLYiDf0OD2G"
   },
   "source": [
    "Copy the incremental data file to a new subdirectory.\n"
   ]
  },
  {
   "cell_type": "code",
   "execution_count": 25,
   "metadata": {
    "id": "DDAvm_mj_BVs"
   },
   "outputs": [
    {
     "name": "stdout",
     "output_type": "stream",
     "text": [
      "Copying file://glove100_incremental.json [Content-Type=application/json]...\n",
      "/ [1 files][  225.0 B/  225.0 B]                                                \n",
      "Operation completed over 1 objects/225.0 B.                                      \n"
     ]
    }
   ],
   "source": [
    "! gsutil cp glove100_incremental.json {BUCKET_NAME}/incremental/glove100.json"
   ]
  },
  {
   "cell_type": "markdown",
   "metadata": {
    "id": "svLYiDf0OD2G"
   },
   "source": [
    "Create update index request\n"
   ]
  },
  {
   "cell_type": "code",
   "execution_count": 26,
   "metadata": {
    "id": "DDAvm_mj_BVs"
   },
   "outputs": [],
   "source": [
    "metadata = struct_pb2.Struct(\n",
    "    fields={\n",
    "        \"contentsDeltaUri\": struct_pb2.Value(string_value=BUCKET_NAME + \"/incremental\"),\n",
    "    }\n",
    ")\n",
    "\n",
    "ann_index = {\n",
    "    \"name\": INDEX_RESOURCE_NAME,\n",
    "    \"display_name\": DISPLAY_NAME,\n",
    "    \"description\": \"Glove 100 ANN index\",\n",
    "    \"metadata\": struct_pb2.Value(struct_value=metadata),\n",
    "}"
   ]
  },
  {
   "cell_type": "code",
   "execution_count": 27,
   "metadata": {
    "id": "DDAvm_mj_BVs"
   },
   "outputs": [],
   "source": [
    "ann_index_matching_lmedia = index_client.update_index(index=ann_index_matching_lmedia)"
   ]
  },
  {
   "cell_type": "code",
   "execution_count": null,
   "metadata": {
    "id": "DDAvm_mj_BVs"
   },
   "outputs": [],
   "source": [
    "# Poll the operation until it's done successfullly.\n",
    "# This will take ~45 min.\n",
    "\n",
    "while True:\n",
    "    if vertex_index_matching_lmedia.done():\n",
    "        break\n",
    "    print(\"Poll the operation to update index...\")\n",
    "    time.sleep(60)"
   ]
  },
  {
   "cell_type": "code",
   "execution_count": 51,
   "metadata": {
    "id": "DDAvm_mj_BVs"
   },
   "outputs": [],
   "source": [
    "#INDEX_RESOURCE_NAME = vertex_index_matching_lmedia.result().name\n",
    "INDEX_RESOURCE_NAME = 'projects/533775010529/locations/us-central1/indexes/5016886839588421632'"
   ]
  },
  {
   "cell_type": "markdown",
   "metadata": {
    "id": "qV2xjAnDDObD"
   },
   "source": [
    "## Create an IndexEndpoint with VPC Network"
   ]
  },
  {
   "cell_type": "code",
   "execution_count": 19,
   "metadata": {
    "id": "2AWeQ6e04m36"
   },
   "outputs": [],
   "source": [
    "index_endpoint_client = aiplatform_v1beta1.IndexEndpointServiceClient(\n",
    "    client_options=dict(api_endpoint=ENDPOINT)\n",
    ")"
   ]
  },
  {
   "cell_type": "code",
   "execution_count": 20,
   "metadata": {
    "id": "BpZQoJyxDlbO"
   },
   "outputs": [
    {
     "data": {
      "text/plain": [
       "'projects/533775010529/global/networks/ucaip-haystack-vpc-network'"
      ]
     },
     "execution_count": 20,
     "metadata": {},
     "output_type": "execute_result"
    }
   ],
   "source": [
    "VPC_NETWORK_NAME = \"projects/{}/global/networks/{}\".format(PROJECT_NUMBER, NETWORK_NAME)\n",
    "VPC_NETWORK_NAME"
   ]
  },
  {
   "cell_type": "code",
   "execution_count": 21,
   "metadata": {
    "id": "mColTdkIDoVZ"
   },
   "outputs": [],
   "source": [
    "index_endpoint = {\n",
    "    \"display_name\": \"vertex_index_endpoint_for_demo\",\n",
    "    \"network\": VPC_NETWORK_NAME,\n",
    "}"
   ]
  },
  {
   "cell_type": "code",
   "execution_count": 22,
   "metadata": {
    "id": "QuARXzJVGyQX"
   },
   "outputs": [],
   "source": [
    "r = index_endpoint_client.create_index_endpoint(\n",
    "    parent=PARENT, index_endpoint=index_endpoint\n",
    ")"
   ]
  },
  {
   "cell_type": "code",
   "execution_count": 23,
   "metadata": {
    "id": "YRL1AYF_HpZR"
   },
   "outputs": [
    {
     "data": {
      "text/plain": [
       "name: \"projects/533775010529/locations/us-central1/indexEndpoints/2078288082729172992\""
      ]
     },
     "execution_count": 23,
     "metadata": {},
     "output_type": "execute_result"
    }
   ],
   "source": [
    "r.result()"
   ]
  },
  {
   "cell_type": "code",
   "execution_count": 24,
   "metadata": {
    "id": "PJ3bcZqi-cfM"
   },
   "outputs": [
    {
     "data": {
      "text/plain": [
       "'projects/533775010529/locations/us-central1/indexEndpoints/2078288082729172992'"
      ]
     },
     "execution_count": 24,
     "metadata": {},
     "output_type": "execute_result"
    }
   ],
   "source": [
    "INDEX_ENDPOINT_NAME = r.result().name\n",
    "INDEX_ENDPOINT_NAME\n",
    "\n",
    "#INDEX_ENDPOINT_NAME = 'projects/533775010529/locations/us-central1/indexEndpoints/4976354442942087168'\n"
   ]
  },
  {
   "cell_type": "markdown",
   "metadata": {
    "id": "np2cgVuuIe9k"
   },
   "source": [
    "## Deploy Indexes"
   ]
  },
  {
   "cell_type": "markdown",
   "metadata": {
    "id": "8Ew1UgcIIiJG"
   },
   "source": [
    "### Deploy ANN Index"
   ]
  },
  {
   "cell_type": "code",
   "execution_count": 25,
   "metadata": {
    "id": "nLOYTGygIlMK"
   },
   "outputs": [],
   "source": [
    "DEPLOYED_INDEX_ID = \"ann_deployed_new_multiple_entities\""
   ]
  },
  {
   "cell_type": "code",
   "execution_count": 26,
   "metadata": {
    "id": "M-W5LYQrKTzi"
   },
   "outputs": [],
   "source": [
    "deploy_ann_index = {\n",
    "    \"id\": DEPLOYED_INDEX_ID,\n",
    "    \"display_name\": DEPLOYED_INDEX_ID,\n",
    "    \"index\": INDEX_RESOURCE_NAME,\n",
    "}"
   ]
  },
  {
   "cell_type": "code",
   "execution_count": 27,
   "metadata": {
    "id": "_uK4WOgqN1NG"
   },
   "outputs": [],
   "source": [
    "r = index_endpoint_client.deploy_index(\n",
    "    index_endpoint=INDEX_ENDPOINT_NAME, deployed_index=deploy_ann_index\n",
    ")"
   ]
  },
  {
   "cell_type": "code",
   "execution_count": 28,
   "metadata": {
    "id": "2Lt0jvsSeekz"
   },
   "outputs": [
    {
     "name": "stdout",
     "output_type": "stream",
     "text": [
      "Poll the operation to deploy index...\n",
      "Poll the operation to deploy index...\n",
      "Poll the operation to deploy index...\n",
      "Poll the operation to deploy index...\n",
      "done\n"
     ]
    }
   ],
   "source": [
    "# Poll the operation until it's done successfullly.\n",
    "\n",
    "while True:\n",
    "    if r.done():\n",
    "        break\n",
    "    print(\"Poll the operation to deploy index...\")\n",
    "    time.sleep(60)\n",
    "print(\"done\")"
   ]
  },
  {
   "cell_type": "code",
   "execution_count": 29,
   "metadata": {
    "id": "8ajRpqe2J9aS"
   },
   "outputs": [
    {
     "data": {
      "text/plain": [
       "deployed_index {\n",
       "  id: \"ann_deployed_new_multiple_entities\"\n",
       "}"
      ]
     },
     "execution_count": 29,
     "metadata": {},
     "output_type": "execute_result"
    }
   ],
   "source": [
    "r.result()"
   ]
  },
  {
   "cell_type": "markdown",
   "metadata": {
    "id": "6LCGvBNvBd8D"
   },
   "source": [
    "## Create Online Queries\n",
    "\n",
    "After you built your indexes, you may query against the deployed index through the online querying gRPC API (Match service) within the virtual machine instances from the same region (for example 'us-central1' in this tutorial).  \n",
    "\n",
    "The way a client uses this gRPC API is by folowing steps:\n",
    "\n",
    "* Write `match_service.proto` locally\n",
    "* Clone the repository that contains the dependencies of match_service.proto in the Terminal:\n",
    "\n",
    "`$ mkdir third_party && cd third_party`\n",
    "\n",
    "`$ git clone https://github.com/googleapis/googleapis.git`\n",
    "\n",
    "* Compile the protocal buffer (see below)\n",
    "* Obtain the index endpoint\n",
    "* Use a code-generated stub to make the call, passing the parameter values"
   ]
  },
  {
   "cell_type": "code",
   "execution_count": 30,
   "metadata": {
    "cellView": "code",
    "id": "rUUW3ViQE88D"
   },
   "outputs": [
    {
     "name": "stdout",
     "output_type": "stream",
     "text": [
      "Writing match_service.proto\n"
     ]
    }
   ],
   "source": [
    "%%writefile match_service.proto\n",
    "\n",
    "syntax = \"proto3\";\n",
    "\n",
    "package google.cloud.aiplatform.container.v1beta1;\n",
    "\n",
    "import \"google/rpc/status.proto\";\n",
    "\n",
    "// MatchService is a Google managed service for efficient vector similarity\n",
    "// search at scale.\n",
    "service MatchService {\n",
    "  // Returns the nearest neighbors for the query. If it is a sharded\n",
    "  // deployment, calls the other shards and aggregates the responses.\n",
    "  rpc Match(MatchRequest) returns (MatchResponse) {}\n",
    "\n",
    "  // Returns the nearest neighbors for batch queries. If it is a sharded\n",
    "  // deployment, calls the other shards and aggregates the responses.\n",
    "  rpc BatchMatch(BatchMatchRequest) returns (BatchMatchResponse) {}\n",
    "}\n",
    "\n",
    "// Parameters for a match query.\n",
    "message MatchRequest {\n",
    "  // The ID of the DeploydIndex that will serve the request.\n",
    "  // This MatchRequest is sent to a specific IndexEndpoint of the Control API,\n",
    "  // as per the IndexEndpoint.network. That IndexEndpoint also has\n",
    "  // IndexEndpoint.deployed_indexes, and each such index has an\n",
    "  // DeployedIndex.id field.\n",
    "  // The value of the field below must equal one of the DeployedIndex.id\n",
    "  // fields of the IndexEndpoint that is being called for this request.\n",
    "  string deployed_index_id = 1;\n",
    "\n",
    "  // The embedding values.\n",
    "  repeated float float_val = 2;\n",
    "\n",
    "  // The number of nearest neighbors to be retrieved from database for\n",
    "  // each query. If not set, will use the default from\n",
    "  // the service configuration.\n",
    "  int32 num_neighbors = 3;\n",
    "\n",
    "  // The list of restricts.\n",
    "  repeated Namespace restricts = 4;\n",
    "\n",
    "  // Crowding is a constraint on a neighbor list produced by nearest neighbor\n",
    "  // search requiring that no more than some value k' of the k neighbors\n",
    "  // returned have the same value of crowding_attribute.\n",
    "  // It's used for improving result diversity.\n",
    "  // This field is the maximum number of matches with the same crowding tag.\n",
    "  int32 per_crowding_attribute_num_neighbors = 5;\n",
    "\n",
    "  // The number of neighbors to find via approximate search before\n",
    "  // exact reordering is performed. If not set, the default value from scam\n",
    "  // config is used; if set, this value must be > 0.\n",
    "  int32 approx_num_neighbors = 6;\n",
    "\n",
    "  // The fraction of the number of leaves to search, set at query time allows\n",
    "  // user to tune search performance. This value increase result in both search\n",
    "  // accuracy and latency increase. The value should be between 0.0 and 1.0. If\n",
    "  // not set or set to 0.0, query uses the default value specified in\n",
    "  // NearestNeighborSearchConfig.TreeAHConfig.leaf_nodes_to_search_percent.\n",
    "  int32 leaf_nodes_to_search_percent_override = 7;\n",
    "}\n",
    "\n",
    "// Response of a match query.\n",
    "message MatchResponse {\n",
    "  message Neighbor {\n",
    "    // The ids of the matches.\n",
    "    string id = 1;\n",
    "\n",
    "    // The distances of the matches.\n",
    "    double distance = 2;\n",
    "  }\n",
    "  // All its neighbors.\n",
    "  repeated Neighbor neighbor = 1;\n",
    "}\n",
    "\n",
    "// Parameters for a batch match query.\n",
    "message BatchMatchRequest {\n",
    "  // Batched requests against one index.\n",
    "  message BatchMatchRequestPerIndex {\n",
    "    // The ID of the DeploydIndex that will serve the request.\n",
    "    string deployed_index_id = 1;\n",
    "\n",
    "    // The requests against the index identified by the above deployed_index_id.\n",
    "    repeated MatchRequest requests = 2;\n",
    "\n",
    "    // Selects the optimal batch size to use for low-level batching. Queries\n",
    "    // within each low level batch are executed sequentially while low level\n",
    "    // batches are executed in parallel.\n",
    "    // This field is optional, defaults to 0 if not set. A non-positive number\n",
    "    // disables low level batching, i.e. all queries are executed sequentially.\n",
    "    int32 low_level_batch_size = 3;\n",
    "  }\n",
    "\n",
    "  // The batch requests grouped by indexes.\n",
    "  repeated BatchMatchRequestPerIndex requests = 1;\n",
    "}\n",
    "\n",
    "// Response of a batch match query.\n",
    "message BatchMatchResponse {\n",
    "  // Batched responses for one index.\n",
    "  message BatchMatchResponsePerIndex {\n",
    "    // The ID of the DeployedIndex that produced the responses.\n",
    "    string deployed_index_id = 1;\n",
    "\n",
    "    // The match responses produced by the index identified by the above\n",
    "    // deployed_index_id. This field is set only when the query against that\n",
    "    // index succeed.\n",
    "    repeated MatchResponse responses = 2;\n",
    "\n",
    "    // The status of response for the batch query identified by the above\n",
    "    // deployed_index_id.\n",
    "    google.rpc.Status status = 3;\n",
    "  }\n",
    "\n",
    "  // The batched responses grouped by indexes.\n",
    "  repeated BatchMatchResponsePerIndex responses = 1;\n",
    "}\n",
    "\n",
    "// Namespace specifies the rules for determining the datapoints that are\n",
    "// eligible for each matching query, overall query is an AND across namespaces.\n",
    "message Namespace {\n",
    "  // The string name of the namespace that this proto is specifying,\n",
    "  // such as \"color\", \"shape\", \"geo\", or \"tags\".\n",
    "  string name = 1;\n",
    "\n",
    "  // The allowed tokens in the namespace.\n",
    "  repeated string allow_tokens = 2;\n",
    "\n",
    "  // The denied tokens in the namespace.\n",
    "  // The denied tokens have exactly the same format as the token fields, but\n",
    "  // represents a negation. When a token is denied, then matches will be\n",
    "  // excluded whenever the other datapoint has that token.\n",
    "  //\n",
    "  // For example, if a query specifies {color: red, blue, !purple}, then that\n",
    "  // query will match datapoints that are red or blue, but if those points are\n",
    "  // also purple, then they will be excluded even if they are red/blue.\n",
    "  repeated string deny_tokens = 3;\n",
    "}"
   ]
  },
  {
   "cell_type": "markdown",
   "metadata": {
    "id": "dfh48KLTJkaF"
   },
   "source": [
    "Compile the protocol buffer, and then `match_service_pb2.py` and `match_service_pb2_grpc.py` are generated."
   ]
  },
  {
   "cell_type": "code",
   "execution_count": 60,
   "metadata": {
    "id": "EehHF_AeGmQT"
   },
   "outputs": [],
   "source": [
    "! python -m grpc_tools.protoc -I=. --proto_path=third_party/googleapis --python_out=. --grpc_python_out=. match_service.proto"
   ]
  },
  {
   "cell_type": "markdown",
   "metadata": {
    "id": "8wXTSgz1Bl0x"
   },
   "source": [
    "Obtain the Private Endpoint: "
   ]
  },
  {
   "cell_type": "code",
   "execution_count": 31,
   "metadata": {
    "id": "zwA042IZJv1h"
   },
   "outputs": [
    {
     "data": {
      "text/plain": [
       "'10.79.0.5'"
      ]
     },
     "execution_count": 31,
     "metadata": {},
     "output_type": "execute_result"
    }
   ],
   "source": [
    "DEPLOYED_INDEX_SERVER_IP = (\n",
    "    list(index_endpoint_client.list_index_endpoints(parent=PARENT))[0]\n",
    "    .deployed_indexes[0]\n",
    "    .private_endpoints.match_grpc_address\n",
    ")\n",
    "DEPLOYED_INDEX_SERVER_IP"
   ]
  },
  {
   "cell_type": "markdown",
   "metadata": {
    "id": "IcXa9lSuB9AT"
   },
   "source": [
    "Test your query:"
   ]
  },
  {
   "cell_type": "code",
   "execution_count": 70,
   "metadata": {
    "id": "zhgTqsI1spsH"
   },
   "outputs": [],
   "source": [
    "import time\n",
    "import grpc\n",
    "from google.cloud import aiplatform_v1beta1\n",
    "from google.protobuf import struct_pb2\n",
    "import match_service_pb2\n",
    "import match_service_pb2_grpc\n",
    "DEPLOYED_INDEX_SERVER_IP='10.79.0.5'\n",
    "DEPLOYED_INDEX_ID=\"ann_deployed_new_latest\"\n",
    "channel = grpc.insecure_channel(\"{}:10000\".format(DEPLOYED_INDEX_SERVER_IP))\n",
    "stub = match_service_pb2_grpc.MatchServiceStub(channel)\n"
   ]
  },
  {
   "cell_type": "code",
   "execution_count": null,
   "metadata": {},
   "outputs": [
    {
     "name": "stdout",
     "output_type": "stream",
     "text": [
      "Requirement already satisfied: mtcnn in /opt/conda/lib/python3.7/site-packages (0.1.1)\n",
      "Requirement already satisfied: keras>=2.0.0 in /opt/conda/lib/python3.7/site-packages (from mtcnn) (2.8.0)\n",
      "Requirement already satisfied: opencv-python>=4.1.0 in /opt/conda/lib/python3.7/site-packages (from mtcnn) (4.5.5.64)\n",
      "Requirement already satisfied: numpy>=1.14.5 in /opt/conda/lib/python3.7/site-packages (from opencv-python>=4.1.0->mtcnn) (1.21.6)\n"
     ]
    }
   ],
   "source": [
    "!pip install mtcnn"
   ]
  },
  {
   "cell_type": "code",
   "execution_count": 71,
   "metadata": {
    "id": "A3KYVw5HB-4v"
   },
   "outputs": [
    {
     "ename": "_InactiveRpcError",
     "evalue": "<_InactiveRpcError of RPC that terminated with:\n\tstatus = StatusCode.UNAVAILABLE\n\tdetails = \"failed to connect to all addresses\"\n\tdebug_error_string = \"{\"created\":\"@1652362373.040949108\",\"description\":\"Failed to pick subchannel\",\"file\":\"src/core/ext/filters/client_channel/client_channel.cc\",\"file_line\":3217,\"referenced_errors\":[{\"created\":\"@1652362373.040948042\",\"description\":\"failed to connect to all addresses\",\"file\":\"src/core/lib/transport/error_utils.cc\",\"file_line\":165,\"grpc_status\":14}]}\"\n>",
     "output_type": "error",
     "traceback": [
      "\u001b[0;31m---------------------------------------------------------------------------\u001b[0m",
      "\u001b[0;31m_InactiveRpcError\u001b[0m                         Traceback (most recent call last)",
      "\u001b[0;32m/tmp/ipykernel_3484/4026433464.py\u001b[0m in \u001b[0;36m<module>\u001b[0;34m\u001b[0m\n\u001b[1;32m     28\u001b[0m     \u001b[0mrequest\u001b[0m\u001b[0;34m.\u001b[0m\u001b[0mfloat_val\u001b[0m\u001b[0;34m.\u001b[0m\u001b[0mappend\u001b[0m\u001b[0;34m(\u001b[0m\u001b[0mval\u001b[0m\u001b[0;34m)\u001b[0m\u001b[0;34m\u001b[0m\u001b[0;34m\u001b[0m\u001b[0m\n\u001b[1;32m     29\u001b[0m \u001b[0;34m\u001b[0m\u001b[0m\n\u001b[0;32m---> 30\u001b[0;31m \u001b[0mresponse\u001b[0m \u001b[0;34m=\u001b[0m \u001b[0mstub\u001b[0m\u001b[0;34m.\u001b[0m\u001b[0mMatch\u001b[0m\u001b[0;34m(\u001b[0m\u001b[0mrequest\u001b[0m\u001b[0;34m)\u001b[0m\u001b[0;34m\u001b[0m\u001b[0;34m\u001b[0m\u001b[0m\n\u001b[0m\u001b[1;32m     31\u001b[0m \u001b[0mresponse\u001b[0m\u001b[0;34m\u001b[0m\u001b[0;34m\u001b[0m\u001b[0m\n",
      "\u001b[0;32m~/.local/lib/python3.7/site-packages/grpc/_channel.py\u001b[0m in \u001b[0;36m__call__\u001b[0;34m(self, request, timeout, metadata, credentials, wait_for_ready, compression)\u001b[0m\n\u001b[1;32m    944\u001b[0m         state, call, = self._blocking(request, timeout, metadata, credentials,\n\u001b[1;32m    945\u001b[0m                                       wait_for_ready, compression)\n\u001b[0;32m--> 946\u001b[0;31m         \u001b[0;32mreturn\u001b[0m \u001b[0m_end_unary_response_blocking\u001b[0m\u001b[0;34m(\u001b[0m\u001b[0mstate\u001b[0m\u001b[0;34m,\u001b[0m \u001b[0mcall\u001b[0m\u001b[0;34m,\u001b[0m \u001b[0;32mFalse\u001b[0m\u001b[0;34m,\u001b[0m \u001b[0;32mNone\u001b[0m\u001b[0;34m)\u001b[0m\u001b[0;34m\u001b[0m\u001b[0;34m\u001b[0m\u001b[0m\n\u001b[0m\u001b[1;32m    947\u001b[0m \u001b[0;34m\u001b[0m\u001b[0m\n\u001b[1;32m    948\u001b[0m     def with_call(self,\n",
      "\u001b[0;32m~/.local/lib/python3.7/site-packages/grpc/_channel.py\u001b[0m in \u001b[0;36m_end_unary_response_blocking\u001b[0;34m(state, call, with_call, deadline)\u001b[0m\n\u001b[1;32m    847\u001b[0m             \u001b[0;32mreturn\u001b[0m \u001b[0mstate\u001b[0m\u001b[0;34m.\u001b[0m\u001b[0mresponse\u001b[0m\u001b[0;34m\u001b[0m\u001b[0;34m\u001b[0m\u001b[0m\n\u001b[1;32m    848\u001b[0m     \u001b[0;32melse\u001b[0m\u001b[0;34m:\u001b[0m\u001b[0;34m\u001b[0m\u001b[0;34m\u001b[0m\u001b[0m\n\u001b[0;32m--> 849\u001b[0;31m         \u001b[0;32mraise\u001b[0m \u001b[0m_InactiveRpcError\u001b[0m\u001b[0;34m(\u001b[0m\u001b[0mstate\u001b[0m\u001b[0;34m)\u001b[0m\u001b[0;34m\u001b[0m\u001b[0;34m\u001b[0m\u001b[0m\n\u001b[0m\u001b[1;32m    850\u001b[0m \u001b[0;34m\u001b[0m\u001b[0m\n\u001b[1;32m    851\u001b[0m \u001b[0;34m\u001b[0m\u001b[0m\n",
      "\u001b[0;31m_InactiveRpcError\u001b[0m: <_InactiveRpcError of RPC that terminated with:\n\tstatus = StatusCode.UNAVAILABLE\n\tdetails = \"failed to connect to all addresses\"\n\tdebug_error_string = \"{\"created\":\"@1652362373.040949108\",\"description\":\"Failed to pick subchannel\",\"file\":\"src/core/ext/filters/client_channel/client_channel.cc\",\"file_line\":3217,\"referenced_errors\":[{\"created\":\"@1652362373.040948042\",\"description\":\"failed to connect to all addresses\",\"file\":\"src/core/lib/transport/error_utils.cc\",\"file_line\":165,\"grpc_status\":14}]}\"\n>"
     ]
    }
   ],
   "source": [
    "# Test query\n",
    "query = [ 0.47638232,  0.7031913,  -0.09426352, -1.6759269,  -1.5161405,   2.2671187,\n",
    "  0.23024209,  1.3213857,   0.46947488, -0.65484554, -0.349672,   -0.35069403,\n",
    "  0.44866818, -0.06713469, -2.0380442,   0.39039677,  1.1918312,  -0.19237979,\n",
    "  1.8078632,   1.7020371,   1.0240681,   1.4708706,  -1.0571423,   0.40675738,\n",
    " -1.4315073,   0.4660923,  -0.68549013, -2.0540395,  -0.49951416, -0.12328261,\n",
    " -1.4455066,  -0.18856564, -0.41942516, -0.0844005,   0.28571644, -0.4450052,\n",
    " -0.76744795,  0.6879673,   1.7383614,  -1.0293287,   0.45323,    -1.0447822,\n",
    " -0.343994,   -0.10894796,  0.8267744,  -2.078393,    1.2808806,  -0.1248285,\n",
    "  1.5109948,  -0.22050345,  1.0471966,   1.4740075,  -0.9624044,  -3.180627,\n",
    " -1.1465548,   0.74758,    -0.02445646, -1.089226,   -0.45088083,  1.8180914,\n",
    " -0.18359527, -0.8558626,   1.3302065,  -0.16613738,  0.7130253,  -0.69063926,\n",
    "  1.2394042,  -0.96780926,  0.8238277,   0.1764413,   0.9056591,  -0.22822233,\n",
    " -0.3942813,   0.38060862,  1.6349559,  -1.8648696,  -1.6389544,  -1.4473922,\n",
    "  0.15770671, -0.8820905,   1.0080476,  -0.4136618,   1.2733704,   1.3242897,\n",
    "  0.515979,    1.9586087,   0.90002733, -1.2243577,  -1.3745974,   0.30756918,\n",
    " -0.56663024,  0.81641173,  0.25212407,  0.49709347, -0.7454099,  -0.01047975,\n",
    "  0.7163955,  -0.39616713, -0.42718938,  1.220137,    0.00384053, -0.3365608,\n",
    "  0.34905386,  1.752177,   -1.8956761,  -1.6031564,  -0.7969713,   0.941522,\n",
    " -1.9197286,  -0.01558837,  0.5916418,  -0.7088306,   1.4532896,   1.6064367,\n",
    " -0.329077,   -2.5688303,   0.8240242,   1.7159567,  -0.16501185, -0.27374515,\n",
    "  0.5976707,   0.6173911,  -1.3319573,   1.5971177,  -3.0979125,   0.5034129\n",
    " -1.7959037,  -1.5725234, ]\n",
    "\n",
    "request = match_service_pb2.MatchRequest()\n",
    "request.deployed_index_id = DEPLOYED_INDEX_ID\n",
    "for val in query:\n",
    "    request.float_val.append(val)\n",
    "\n",
    "response = stub.Match(request)\n",
    "response"
   ]
  },
  {
   "cell_type": "code",
   "execution_count": 65,
   "metadata": {},
   "outputs": [
    {
     "name": "stdout",
     "output_type": "stream",
     "text": [
      "<class 'match_service_pb2.MatchResponse'>\n"
     ]
    }
   ],
   "source": [
    "print(type(response))\n",
    "\n"
   ]
  },
  {
   "cell_type": "code",
   "execution_count": 53,
   "metadata": {},
   "outputs": [
    {
     "data": {
      "text/plain": [
       "neighbor {\n",
       "  id: \"Amit Shah_32\"\n",
       "  distance: 2.6977949142456055\n",
       "}\n",
       "neighbor {\n",
       "  id: \"Amit Shah_51\"\n",
       "  distance: 26.50396156311035\n",
       "}\n",
       "neighbor {\n",
       "  id: \"Amit Shah_60\"\n",
       "  distance: 28.669837951660156\n",
       "}\n",
       "neighbor {\n",
       "  id: \"Amit Shah_18\"\n",
       "  distance: 30.226905822753906\n",
       "}\n",
       "neighbor {\n",
       "  id: \"Amit Shah_41\"\n",
       "  distance: 31.619911193847656\n",
       "}\n",
       "neighbor {\n",
       "  id: \"Amit Shah_28\"\n",
       "  distance: 33.00728225708008\n",
       "}\n",
       "neighbor {\n",
       "  id: \"Amit Shah_88\"\n",
       "  distance: 33.01567077636719\n",
       "}\n",
       "neighbor {\n",
       "  id: \"Amit Shah_14\"\n",
       "  distance: 33.430824279785156\n",
       "}\n",
       "neighbor {\n",
       "  id: \"Amit Shah_24\"\n",
       "  distance: 33.62293243408203\n",
       "}\n",
       "neighbor {\n",
       "  id: \"Amit Shah_25\"\n",
       "  distance: 34.01750946044922\n",
       "}"
      ]
     },
     "execution_count": 53,
     "metadata": {},
     "output_type": "execute_result"
    }
   ],
   "source": [
    "# Test query embeddings for amith shah, which is not available in database\n",
    "query = [\n",
    "    1.495779,-0.66170406,-0.14169529,-0.30339828,-0.5435338,0.50911\n",
    ",1.3568522,-0.4374229,0.90619797,1.6209644,-0.19036846,0.24534035\n",
    ",0.4321385,0.4752176,-0.6049675,-0.7750518,0.45845032,-1.3981206\n",
    ",1.0402417,-0.48912388,0.49328068,-1.1898837,-2.2606947,1.3843943\n",
    ",0.94149035,1.0844613,2.0339272,-1.3142763,0.84153384,0.6325912\n",
    ",1.1940684,0.89055884,0.60003215,-0.9711699,-1.2689146,0.1638731\n",
    ",-1.4111251,0.02936853,0.96740484,0.6170994,1.2337803,1.0676495\n",
    ",1.7319858,0.29178783,0.71463686,1.4405005,-2.2085824,0.46231887\n",
    ",0.1541693,-0.1351457,0.01236704,0.70565826,-0.79534984,-1.4985534\n",
    ",0.2971816,1.2317296,1.152956,-1.0975003,0.8770176,-0.7808464\n",
    ",-1.0577081,1.1816063,0.23468532,0.3126467,0.04684041,0.7092123\n",
    ",-1.2087427,-1.1444596,-0.83589107,-0.29516923,0.9114639,-0.27598554\n",
    ",1.485636,-0.3815856,0.6790652,-1.6971464,-0.80177593,-0.957147\n",
    ",-0.99157494,1.1224035,0.32742518,0.7895254,0.70823455,-1.7406285\n",
    ",1.1113447,0.2233966,-1.4414437,1.9586837,0.23336703,0.96924466\n",
    ",-0.52088,1.9744349,1.4874448,2.038791,1.0142369,0.11431214\n",
    ",0.7924406,0.90831774,-1.6923523,0.06625814,0.49092048,-1.5426992\n",
    ",1.4604397,-0.8287355,-1.411466,-1.1012169,0.860731,2.1464238\n",
    ",0.07446912,-0.15823117,1.0608367,-0.88807094,0.27776843,-0.04896355\n",
    ",0.14217156,-0.0058278,1.6506175,2.1949034,1.9302653,-0.8565916\n",
    ",1.6819628,0.3976161,1.1564932,-0.81693643,-0.7882204,-0.10244952\n",
    ",-0.19493397,-0.4020826,\n",
    "    \n",
    "]\n",
    "\n",
    "request = match_service_pb2.MatchRequest()\n",
    "request.deployed_index_id = DEPLOYED_INDEX_ID\n",
    "for val in query:\n",
    "    request.float_val.append(val)\n",
    "\n",
    "response = stub.Match(request)\n",
    "response"
   ]
  },
  {
   "cell_type": "code",
   "execution_count": 14,
   "metadata": {},
   "outputs": [
    {
     "name": "stdout",
     "output_type": "stream",
     "text": [
      "<class 'match_service_pb2.MatchResponse'>\n"
     ]
    }
   ],
   "source": [
    "print(type(response))"
   ]
  },
  {
   "cell_type": "code",
   "execution_count": 5,
   "metadata": {},
   "outputs": [],
   "source": [
    "# mask amith shah\n",
    "query = [\n",
    "    1.18488804e-01,2.89984912e-01,5.66803455e-01,-1.00210452e+00\n",
    ",1.32127494e-01,4.29663152e-01,1.00202608e+00,-1.24064720e+00\n",
    ",-1.28067121e-01,-5.70271075e-01,-8.11766088e-02,1.19131732e+00\n",
    ",2.13471487e-01,5.97652555e-01,-1.88465452e+00,-6.10714734e-01\n",
    ",-1.87095255e-03,1.53546765e-01,1.09359741e+00,-8.14708591e-01\n",
    ",-5.40782928e-01,3.61184120e-01,-3.63611126e+00,-7.70633444e-02\n",
    ",-6.55305445e-01,3.49672765e-01,-6.57574058e-01,-1.33100450e+00\n",
    ",-8.76049638e-01,-1.12344635e+00,7.99252391e-01,4.43308413e-01\n",
    ",4.36599016e-01,-2.01534152e+00,-4.34192300e-01,9.84311879e-01\n",
    ",1.14407051e+00,8.93010944e-03,2.43781114e+00,5.30850068e-02\n",
    ",1.73475587e+00,1.54777563e+00,2.96857119e-01,8.06422114e-01\n",
    ",1.56641260e-01,5.00007272e-01,-1.66081870e+00,1.07725334e+00\n",
    ",-1.16646320e-01,6.68500185e-01,-2.72882640e-01,9.60672259e-01\n",
    ",-1.20111525e+00,-1.41703975e+00,1.66905117e+00,1.22745538e+00\n",
    ",1.17302993e-02,-3.63293201e-01,1.39165437e+00,-1.43926769e-01\n",
    ",1.12461281e+00,-1.08863664e+00,3.46102357e-01,7.51800388e-02\n",
    ",-1.29072040e-01,2.65300179e+00,-8.04959476e-01,-6.86808407e-01\n",
    ",-3.62184197e-01,6.47986382e-02,-5.59881330e-03,2.97925591e-01\n",
    ",-1.98865339e-01,-7.13880181e-01,9.93024230e-01,-1.61429727e+00\n",
    ",-1.64142704e+00,6.97395623e-01,-2.08026230e-01,1.87536025e+00\n",
    ",-3.18071365e-01,-1.10548586e-01,-9.56378728e-02,5.97207904e-01\n",
    ",-6.58443630e-01,1.51544690e+00,-1.02676654e+00,1.20206428e+00\n",
    ",-2.00919211e-01,1.57578349e-01,1.00945845e-01,9.26668644e-01\n",
    ",6.28653228e-01,-2.79278249e-01,6.77886248e-01,1.68880582e-01\n",
    ",9.40699875e-01,-1.29843736e+00,-6.15832269e-01,3.45540702e-01\n",
    ",-1.22514927e+00,3.03435296e-01,-2.46939510e-01,-1.24101043e+00\n",
    ",-1.38681388e+00,-1.88349688e+00,9.39365029e-01,7.21985579e-01\n",
    ",5.84275797e-02,3.96761298e-02,6.13313198e-01,-1.18720937e+00\n",
    ",1.79351258e+00,7.85042703e-01,-1.14075267e+00,6.86704397e-01\n",
    ",1.13140285e+00,2.02790403e+00,-4.20811400e-02,3.23806912e-01\n",
    ",-1.87870753e+00,4.36505049e-01,2.55283475e+00,-1.62204289e+00\n",
    ",-1.06860352e+00,5.49966872e-01,1.42782301e-01,-1.32069099e+00,   \n",
    "]\n",
    "\n",
    "request = match_service_pb2.MatchRequest()\n",
    "request.deployed_index_id = DEPLOYED_INDEX_ID\n",
    "for val in query:\n",
    "    request.float_val.append(val)\n",
    "\n",
    "response = stub.Match(request)"
   ]
  },
  {
   "cell_type": "code",
   "execution_count": 6,
   "metadata": {},
   "outputs": [
    {
     "data": {
      "text/plain": [
       "neighbor {\n",
       "  id: \"Amit Shah_92\"\n",
       "  distance: 44.124298095703125\n",
       "}\n",
       "neighbor {\n",
       "  id: \"Amit Shah_80\"\n",
       "  distance: 75.77590942382812\n",
       "}\n",
       "neighbor {\n",
       "  id: \"Amit Shah_19\"\n",
       "  distance: 80.10911560058594\n",
       "}\n",
       "neighbor {\n",
       "  id: \"Amit Shah_45\"\n",
       "  distance: 83.44609069824219\n",
       "}\n",
       "neighbor {\n",
       "  id: \"Amit Shah_12\"\n",
       "  distance: 83.97708892822266\n",
       "}\n",
       "neighbor {\n",
       "  id: \"Amit Shah_3\"\n",
       "  distance: 86.94171905517578\n",
       "}\n",
       "neighbor {\n",
       "  id: \"Amit Shah_37\"\n",
       "  distance: 87.36231994628906\n",
       "}\n",
       "neighbor {\n",
       "  id: \"Amit Shah_58\"\n",
       "  distance: 89.91946411132812\n",
       "}\n",
       "neighbor {\n",
       "  id: \"Amit Shah_67\"\n",
       "  distance: 91.34013366699219\n",
       "}\n",
       "neighbor {\n",
       "  id: \"Amit Shah_53\"\n",
       "  distance: 91.44570922851562\n",
       "}"
      ]
     },
     "execution_count": 6,
     "metadata": {},
     "output_type": "execute_result"
    }
   ],
   "source": [
    "response"
   ]
  },
  {
   "cell_type": "code",
   "execution_count": 20,
   "metadata": {},
   "outputs": [
    {
     "name": "stdout",
     "output_type": "stream",
     "text": [
      "['Amit Shah']\n"
     ]
    }
   ],
   "source": [
    "faces = []\n",
    "for ne in response.neighbor:\n",
    "    # print(ne)\n",
    "    # print(ne.id, ne.distance)\n",
    "    if ne.distance < 90.0:\n",
    "        face_name_ = ne.id.split('_')[0]\n",
    "        faces.append(face_name_)\n",
    "# return the first entry\n",
    "# print(faces)\n",
    "face = [faces[0]]\n",
    "print(face)"
   ]
  },
  {
   "cell_type": "markdown",
   "metadata": {
    "id": "_mNwdU9_B_Ez"
   },
   "source": [
    "### Batch Query\n",
    "\n",
    "You can run multiple queries in a single RPC call using the BatchMatch API:"
   ]
  },
  {
   "cell_type": "code",
   "execution_count": 21,
   "metadata": {
    "id": "L55vcqox5cQz"
   },
   "outputs": [],
   "source": [
    "\n",
    "def get_request(embedding, deployed_index_id):\n",
    "    request = match_service_pb2.MatchRequest(num_neighbors=1)\n",
    "    request.deployed_index_id = deployed_index_id\n",
    "    for val in embedding:\n",
    "        request.float_val.append(val)\n",
    "    return request"
   ]
  },
  {
   "cell_type": "code",
   "execution_count": 22,
   "metadata": {
    "id": "A3KYVw5HB-4v"
   },
   "outputs": [
    {
     "data": {
      "text/plain": [
       "responses {\n",
       "  deployed_index_id: \"ann_living_media_deployed\"\n",
       "  responses {\n",
       "    neighbor {\n",
       "      id: \"Mithali Raj_687\"\n",
       "      distance: 12.278135299682617\n",
       "    }\n",
       "  }\n",
       "  responses {\n",
       "    neighbor {\n",
       "      id: \"Sidharth Malhotra_623\"\n",
       "      distance: 66.82612609863281\n",
       "    }\n",
       "  }\n",
       "  responses {\n",
       "    neighbor {\n",
       "      id: \"Amit Shah_53\"\n",
       "      distance: 17.26312255859375\n",
       "    }\n",
       "  }\n",
       "  responses {\n",
       "    neighbor {\n",
       "      id: \"Mithali Raj_747\"\n",
       "      distance: 44.14092254638672\n",
       "    }\n",
       "  }\n",
       "  responses {\n",
       "    neighbor {\n",
       "      id: \"Mahendra Singh Dhoni_428\"\n",
       "      distance: 23.116268157958984\n",
       "    }\n",
       "  }\n",
       "  responses {\n",
       "    neighbor {\n",
       "      id: \"Mahendra Singh Dhoni_428\"\n",
       "      distance: 49.259498596191406\n",
       "    }\n",
       "  }\n",
       "  status {\n",
       "  }\n",
       "}"
      ]
     },
     "execution_count": 22,
     "metadata": {},
     "output_type": "execute_result"
    }
   ],
   "source": [
    "# Test query\n",
    "# queries = [9816192,-0.7448069,-1.8027778,-1.7395629,0.16280416,1.2310203,-0.3618377,1.4659195,-0.6501849,1.0882517,0.10971829,-0.5627692,-0.15019046,-0.48551172,-0.41610557,0.5273846,-0.19850771,-0.3284484,0.4305416,1.0691893,-0.2723782,-0.09439357,0.16869284,-1.2967464,1.072695,-0.07779307,0.8316756,0.1254679,1.0575303,1.0772109,1.5256245,1.2180685,1.226398,-1.0671296,-0.86190045,1.1213456,-0.9838395,0.2509745,0.68849146,-1.9389365,0.38959187,-0.10003081,1.1011937,0.016147107,-1.7182889,0.3174295,-0.6336806,1.2639811,0.083934896,0.74825305,-0.77276206,1.618168,-0.7307955,0.3288172,-0.80723184,-0.24376033,-2.3887613,-0.44180405,0.4671563,0.035028607,-1.2847717,-0.13177945,-0.109141394],[0.18413678,0.14467666,1.1700193,-1.7318141,-1.6199924,1.6044966,-1.1750349,0.49471578,-0.1909078,1.2311367,0.07380035,0.14829472,1.1527169,0.35876116,-0.6423862,-0.49840707,1.3095233,-2.007389,1.6367638,0.1726163,0.5062605,0.019260604,0.31504264,1.3287826,-1.1997359,-0.46761233,-0.9253086,-1.5636103,-0.41088992,-0.008263953,0.65959084,-1.5495433,-0.39056176,1.2856237,0.44624385,1.1084298,-0.1120715,-0.5008984,1.3865032,-0.25656816,-0.08751078,-0.09833423,0.65624833,1.0134637,-0.66727865,0.039285205,-0.1820786,0.83991635,-0.3733094,-0.2259379,0.81437176,0.60329145,-1.1501639,-0.9840886,-1.365501,-0.21425706,0.121758,-1.3356931,-0.9387212,-1.7900875,-1.1644254,-0.65272635,-0.036951914,-0.16353361,-0.12553385,-0.9816192,-0.7448069,-1.8027778,-1.7395629,0.16280416,1.2310203,-0.3618377,1.4659195,-0.6501849,1.0882517,0.10971829,-0.5627692,-0.15019046,-0.48551172,-0.41610557,0.5273846,-0.19850771,-0.3284484,0.4305416,1.0691893,-0.2723782,-0.09439357,0.16869284,-1.2967464,1.072695,-0.07779307,0.8316756,0.1254679,1.0575303,1.0772109,1.5256245,1.2180685,1.226398,-1.0671296,-0.86190045,1.1213456,-0.9838395,0.2509745,0.68849146,-1.9389365,0.38959187,-0.10003081,1.1011937,0.016147107,-1.7182889,0.3174295,-0.6336806,1.2639811,0.083934896,0.74825305,-0.77276206,1.618168,-0.7307955,0.3288172,-0.80723184,-0.24376033,-2.3887613,-0.44180405,0.4671563,0.035028607,-1.2847717,-0.13177945,-0.109141394],[-0.6527325,-0.46002162,-0.17663276,-0.81140214,-1.032406,0.54161894,-0.4328485,0.36944166,0.6905523,-0.20041354,0.6864796,0.681825,0.9503024,1.0567664,0.11691467,-0.64779764,-0.9121188,-0.6323731,0.20667775,1.2265365,0.09392789,-0.530397,0.21178347,0.69412977,2.0142603,1.5104163,0.28759924,0.44440737,0.11779354,-1.0549424,0.0741029,0.30513865,-0.17530659,0.64300656,-0.7095175,0.5820626,-0.44098482,-0.44718242,0.29324716,-0.053111784,-0.010820376,0.6508963,-0.46727577,-1.4214003,-0.5304358,-0.39478037,-0.21847266,-0.64085114,-1.1323403,-0.2172702,-0.31059074,0.70603216,-0.32577443,-0.8887467,-0.60617787,0.473167,1.2807322,0.32923022,0.78128844,0.18720192,1.943259,-0.072848186,0.98476636,-0.70947444,-0.39064202,-1.6843693,0.054231454,-0.91281646,0.23715061,-1.3312396,0.20295969,-0.13792513,-0.38381797,0.92857844,0.4874856,-0.7459441,0.75593007,-0.55905926,0.399276,-0.057654556,0.36737126,-0.5129546,-0.6241364,0.17834072,-0.15344253,0.506616,1.0232884,0.5740213,0.6606432,0.48459333,-1.4331911,-1.6764264,0.4804465,0.772825,0.58467114,1.0799781,-0.6199612,0.43116918,0.3785324,-0.11021599,0.74899054,-0.47892073,1.2604288,-0.5757888,0.36970234,-0.148336,-0.57367164,0.318303,0.090885356,-0.884959,1.7383541,-0.26257086,0.56107926,-0.030965535,1.626397,0.6418035,-0.03811022,0.53946364,0.68184286,1.186307,-0.13145073,0.6319256,-1.2999176,0.53756,-0.27358598,1.1925207,0.13187881,-0.035568252],[0.21685691,-0.74236,0.5813849,0.31675515,-1.6762481,2.5330088,-1.0266,0.40983456,0.47244725,0.413979,-0.5419996,0.75381154,1.9768379,0.10541016,-0.37758306,-0.6771785,1.5422283,-0.614758,1.6940457,0.9952977,-0.18833739,0.24632266,0.8098842,0.9005453,-0.47566104,-0.0015658513,-0.2949663,-0.14152941,-0.54262865,-0.6222423,0.18675938,-0.6789349,0.01172789,0.39422706,-0.23747936,-0.13254286,-1.3294531,-0.2114808,0.05801169,-0.065232776,-0.31281516,-0.18682103,0.38905686,0.002024293,-0.027333027,0.16223763,0.494871,-0.43051964,-0.15713158,0.789883,0.30112478,-0.8198618,-0.7788522,-1.3538176,0.45150644,0.22904247,0.28686756,-1.1262417,-0.38479263,-0.94411075,-0.108317934,-0.5213486,1.5195915,-0.33720872,-0.72543025,-1.4418588,-0.7354839,-1.1261866,-1.3995473,-0.447938,0.17401975,-0.4766734,1.4919164,0.14210448,1.6950531,0.18311928,-0.93880665,-0.15865886,0.191989,0.664943,0.5422651,-0.6143166,-0.93413764,0.058260456,1.3316399,-0.058983356,0.6745224,0.25968295,-0.8560741,0.35622123,0.17840774,0.17545128,-0.3987922,0.3876696,1.0912793,0.36760116,0.08524214,1.8528432,-1.3554859,-1.3086898,1.344731,-0.64518857,0.942451,0.53502345,-0.4113335,-0.81055653,-0.28722066,0.45935863,-0.25571945,-2.1783602,0.9379564,0.15091206,-0.2250387,0.88230395,-0.33675513,-1.0246297,0.49273238,-0.08585124,0.78423107,0.13077068,-0.246471,-1.3224143,-0.5338822,0.8675535,-0.027134344,-0.532081,-0.51900625,0.6919282],[-0.09470743,-0.9957243,-0.010976996,0.0803454,0.335115,0.7842994,-0.12350471,1.0259149,1.2593132,0.24778858,0.55998015,0.018294046,1.2738311,0.56743026,-1.0193995,-0.87597585,-0.5192492,-0.37678283,0.6551954,0.7200092,-0.3619045,0.05566327,-0.74476004,1.518461,1.1577336,0.59153545,0.36944008,0.047567844,-0.18735571,-1.3357652,0.29635555,-0.043123763,-0.5242069,0.048581295,-0.91532797,0.5513883,-0.9868867,-0.09840646,-0.0066524595,0.52178425,0.25186944,0.36972278,0.8738141,0.07670653,-0.36123303,-0.15546341,-0.63910425,0.1574087,-0.26002997,-0.7703928,-0.6891219,1.3843614,-1.0664507,-0.5086682,-0.8237348,1.0254394,1.0091256,-1.2604334,-0.39869818,0.42056027,0.90474033,1.213972,0.3922502,0.13676052,-0.044360906,0.13491757,-0.2519035,-0.15900078,-0.49683252,-0.5554099,0.3285706,0.016492829,0.3485614,0.53839874,1.0599217,-0.6861948,-0.115299664,-0.13781114,-0.73526734,1.1489714,0.5011151,-0.56288743,-0.33891213,0.030729627,0.54306877,0.058530353,-0.01975809,0.35059577,0.6704149,0.3758355,-0.08324405,-0.33034164,0.23877743,0.6330583,0.7342317,1.0174036,-0.35716024,0.3647527,-0.42698702,-0.319528,0.76883364,-0.627468,0.72778904,-1.0153054,0.15626603,-0.23017238,-0.0034312205,-0.37003124,0.2094546,-1.4682338,1.677014,-0.36502475,0.38025546,0.04337758,0.7213974,0.52587414,-0.23969233,1.2773775,0.77503777,0.7514368,-0.10919753,0.28309998,-0.63711935,0.5232253,0.21996261,0.00026608258,0.23745285,0.00061229244],[0.3515678,-1.634084,-0.15391451,-0.66750586,-2.040142,1.5595897,-2.1159961,0.32631233,0.60384107,1.0031524,-1.0047858,0.20731995,0.45701063,0.97612274,-0.7701458,-0.15855943,1.8689562,-0.53064585,1.2202824,-0.15252145,0.15184662,-0.3736378,1.5102271,1.7953545,-0.20195398,-0.39792484,-0.9771092,-1.3974319,1.3956796,0.43259653,1.247536,-1.4074383,-0.39765146,1.1410106,0.1711696,0.35628036,-1.8344634,1.0232233,0.2524213,0.042367067,-0.5928182,-0.44811085,1.6109681,0.5388657,0.99062717,-0.7053302,1.2997863,0.13902575,-0.99954116,0.44389668,-0.19396515,0.43770856,-1.5195844,-1.1511279,-1.1326722,0.92540425,0.72627175,-0.5062168,-0.32070747,-0.23028067,-0.3274488,-0.61668164,0.65832114,-0.07312229,-0.35960928,-0.71956366,-0.3567589,-0.06299948,-2.1067898,-1.3199012,0.21221896,-0.4569715,0.9166688,-0.50993437,2.1080365,-0.28577587,-1.1557136,-1.7777491,-1.4655622,-1.7181861,0.44727966,0.012890211,-0.020539634,0.58306766,0.34716433,-0.40816557,-0.42915985,0.31261933,-0.80986464,-0.14053644,-0.30899698,-0.40045553,0.52384543,0.24726394,0.8177648,1.1738976,-0.770011,1.6275287,-0.6742334,-0.63537216,1.110465,-0.5080552,0.9504686,0.30950323,-0.8092762,-0.69433594,-0.87024385,1.5524361,0.10499555,-2.6537018,0.83975315,0.57519656,0.65740883,0.09023847,0.12553553,-2.0168543,1.6492207,-0.0008898154,-0.5718152,-0.5388767,1.0601186,-1.1574098,-0.016015552,0.20193635,-0.08900456,-1.059496,-0.8500817,-0.5618607],[0.24820755,-0.13060969,0.21212643,-0.14288382,-0.2884269,2.333124,-0.6668295,0.18279135,0.059188843,0.35928446,-0.72351176,0.22057416,1.5879958,0.2770859,-0.00081653893,-0.9332528,0.50624967,0.1536665,1.1448402,1.7614877,0.24595991,1.0020515,-0.46187165,0.74953425,0.7263755,0.47215962,-0.68761814,0.5042121,-0.34581268,-0.7705524,0.7807412,-0.41430333,-0.39252847,0.2083332,-0.94408655,-0.3971553,-0.5584936,-0.40949345,-0.47901678,-0.5518322,-0.0680359,-0.3174044,0.7138871,-0.19822884,-0.33166778,-0.49479228,-0.21129082,-0.4700257,0.020489722,-0.60382223,0.17194471,-0.31990975,-0.7897453,-1.1185282,-0.55046546,0.12838268,0.42841578,-1.8105831,0.020382755,-0.601147,0.455275,0.8269739,1.2450651,0.6148923,-1.1102371,-1.2292726,0.06545773,-1.4876488,-0.21257508,-0.1805548,0.63876814,-0.6416253,1.1085165,0.31301367,1.1446965,0.057441488,0.0182534,-0.41614828,0.37311\n",
    "queries = [[2.118546962738037, -0.013021700084209442, -0.3258954584598541, -0.5392261147499084, -2.2430038452148438, 1.4208695888519287, 0.11820642650127411, 0.6939780712127686, -0.0448530875146389, 0.5809880495071411, -0.3057672083377838, -0.2048531174659729, -0.02443012222647667, -0.30874377489089966, -0.6117008924484253, 0.23289434611797333, 1.1948736906051636, 0.38890576362609863, 0.9329477548599243, -0.5442702770233154, 0.08512429893016815, -1.4713857173919678, 1.2732497453689575, 0.30391740798950195, 0.5498077869415283, -1.402136206626892, -0.9531724452972412, -0.9746171236038208, -0.5040358901023865, 0.4149115979671478, -0.06733724474906921, -2.4312832355499268, 0.6912112236022949, 0.5042687654495239, 0.48167726397514343, -1.4445549249649048, -0.35301682353019714, 1.9175089597702026, 0.34120893478393555, 0.9329705238342285, -1.791138768196106, 0.05788864940404892, 0.39945462346076965, -1.0653802156448364, 1.1175309419631958, -0.08843955397605896, -0.551444411277771, 2.8107261657714844, 1.60438072681427, -1.0804386138916016, 0.2638697922229767, -1.1440562009811401, 0.15228256583213806, -0.6644552946090698, 0.6492002606391907, 0.6822055578231812, 0.012730310671031475, 0.12283693253993988, 1.9982033967971802, 0.02643435448408127, -0.3810011148452759, 1.9324805736541748, -0.01996026560664177, 0.6866852641105652, 0.2508283853530884, 0.5875520706176758, -1.801210880279541, 0.2674277424812317, -0.6264219880104065, 0.09610942006111145, -0.021816473454236984, -0.6362850666046143, 0.36334314942359924, -1.277477741241455, 0.8642569780349731, 0.012324061244726181, -0.5763729810714722, 1.006130576133728, 0.012655064463615417, -0.7897902131080627, -0.46759817004203796, -1.5538944005966187, -1.590641736984253, -1.2782098054885864, 2.081791877746582, -0.4090043902397156, -0.6438973546028137, -0.871679961681366, -1.047347068786621, 0.09694898128509521, 1.4852601289749146, 1.4078847169876099, 0.6480395197868347, 0.3184085190296173, -0.6514943242073059, 0.5482276082038879, 0.7690707445144653, 0.1989520788192749, -1.2540867328643799, 0.6331718564033508, 0.6476159691810608, -0.22038942575454712, 2.2349696159362793, 0.8375366926193237, -1.1868784427642822, 0.5579397678375244, -0.5884110331535339, -0.21139860153198242, -1.9572135210037231, -0.08576033264398575, 0.8261260390281677, -0.12310189008712769, -2.1986277103424072, -0.5441850423812866, -1.4979476928710938, 0.002759777009487152, -0.32307133078575134, 0.8101828694343567, -0.07837999612092972, 0.26630929112434387, 0.67682945728302, -0.3607063591480255, -0.6590176820755005, -0.170370951294899, -0.8792850375175476, -0.9447299838066101, -0.719833254814148, -1.4162365198135376], [-0.198530912399292, -1.4971776008605957, 1.5973610877990723, -0.2951831519603729, -0.9029490351676941, -0.06686321645975113, 0.3552708029747009, -0.11342212557792664, 1.7126306295394897, -0.09207148849964142, -0.07844021916389465, -1.2351651191711426, 1.3947306871414185, -1.9453275203704834, 1.1068106889724731, 1.0075297355651855, 0.5453153848648071, 0.9206985831260681, 0.8569179177284241, -0.7873399257659912, 0.4587508738040924, -1.3132740259170532, 0.14322099089622498, 0.5921074748039246, -2.0670690536499023, -1.0416853427886963, 1.3448716402053833, -0.16108520328998566, -0.8483697175979614, 0.432079941034317, -2.932401657104492, 2.459688663482666, -0.8258686661720276, 0.8686158657073975, 0.5511044859886169, -1.783318281173706, 0.07396721839904785, 0.8735816478729248, 0.44333577156066895, 0.3530426323413849, 1.6633132696151733, -0.7063894867897034, 1.7964600324630737, -0.603463351726532, -0.20789773762226105, -0.0013007745146751404, 0.20619869232177734, -0.7750699520111084, 0.5883492827415466, 0.15019279718399048, 0.9311829209327698, -1.5431551933288574, -0.9287973642349243, 1.718420147895813, 0.6573407053947449, -2.3996243476867676, -1.0414104461669922, -0.46951478719711304, -1.6005750894546509, -0.43704429268836975, -0.22813653945922852, -0.28153133392333984, -0.6000317931175232, 0.6324875950813293, -0.04009172320365906, 1.0484422445297241, 1.063758373260498, -0.6588342785835266, -0.5536823272705078, -0.3488430678844452, -0.8003819584846497, -1.047927975654602, 2.413529872894287, 0.12537658214569092, 0.4963311553001404, 0.19660258293151855, -1.6017919778823853, 0.26028430461883545, -0.5735283493995667, -0.8553931713104248, 0.13695591688156128, 0.38814854621887207, -0.9865179657936096, -1.434780240058899, -1.2059746980667114, -0.8359695076942444, 1.4138166904449463, -1.3528293371200562, -2.0466487407684326, 0.5743588805198669, 0.5912349820137024, 1.1902648210525513, -0.17383931577205658, -0.6520994901657104, 0.3107731342315674, 0.5590965747833252, -0.32951074838638306, 1.3114382028579712, -2.4081573486328125, -0.3655891418457031, -0.21614350378513336, -1.2750006914138794, -0.7606200575828552, 0.7481397986412048, 0.3057936131954193, 0.7495997548103333, -1.2548664808273315, -0.48496660590171814, -0.785793662071228, 1.1268714666366577, 0.6837136149406433, -1.5399882793426514, -0.5507254600524902, -0.7333093285560608, -3.049243927001953, -1.021457314491272, -1.2845735549926758, -1.9448356628417969, -1.2638278007507324, -0.8127043843269348, -2.459954261779785, -1.261998176574707, 0.9758577346801758, 0.39707592129707336, -0.3943692445755005, 1.6295435428619385, 0.0942917913198471, 0.2299695461988449], [0.5144336223602295, -0.59465491771698, 0.47790029644966125, -1.124071478843689, 0.35987237095832825, 0.003985036164522171, 1.7364193201065063, -1.0399117469787598, 0.5072877407073975, -0.12367112934589386, 0.019508369266986847, 0.38440099358558655, -0.08985165506601334, 0.558857798576355, -1.9376187324523926, -0.23774568736553192, 0.014065008610486984, -0.3597065806388855, 1.2063082456588745, -0.8582608103752136, 0.7260318994522095, -0.17837077379226685, -2.3147943019866943, -0.22845405340194702, 0.2804839015007019, 0.13565686345100403, 0.9515142440795898, -1.3903874158859253, -0.8552996516227722, 0.4552302062511444, 0.8516110181808472, 1.1382625102996826, 0.19221821427345276, -1.3605124950408936, -0.946489155292511, 0.533363938331604, -0.4780927002429962, -0.14964741468429565, 1.0463478565216064, 0.8830106258392334, 0.8109706044197083, 0.4627421200275421, 0.7363053560256958, 0.31305429339408875, 1.2644541263580322, 0.7847429513931274, -2.9059813022613525, 1.7139768600463867, 0.40776515007019043, 1.0125055313110352, -1.0610730648040771, 1.0477163791656494, -0.9247443675994873, -0.8405344486236572, 0.5040292143821716, 0.566049337387085, -0.0708429366350174, -0.9262195825576782, 0.20068879425525665, -0.3464980721473694, -0.5217214822769165, 0.49184268712997437, -0.6021115779876709, 0.40098708868026733, -0.03209974244236946, 1.8631941080093384, -0.6199786067008972, -0.1612669676542282, -1.1451913118362427, 0.6311489343643188, 0.47913941740989685, 0.5891664028167725, 1.0419557094573975, -1.0672739744186401, 0.7586084604263306, -2.2983269691467285, -0.6192686557769775, -0.20444129407405853, -1.4866111278533936, 1.6216304302215576, -0.9838666319847107, 1.008747935295105, 0.36034002900123596, -1.2295893430709839, 0.7136270403862, 1.254457712173462, -1.8552011251449585, 0.6522489786148071, 0.13948191702365875, 0.442878395318985, 0.7477810382843018, 1.6907156705856323, 1.059187889099121, 0.5934590697288513, 1.269315242767334, 0.25490739941596985, 0.7093484401702881, 0.860188901424408, -1.3150415420532227, 0.07242853939533234, 0.8096097111701965, -0.8270384073257446, 1.3206416368484497, -1.5316851139068604, -1.8607800006866455, -1.1147254705429077, 1.5314866304397583, 1.696233868598938, -0.06571582704782486, -0.6149551272392273, 0.3895835280418396, -1.2106913328170776, 1.2171562910079956, 0.34067144989967346, -0.03507301211357117, 0.5035238265991211, 2.2273781299591064, 2.600999355316162, 0.0824340432882309, -0.1798509806394577, 0.7013037204742432, 1.0687730312347412, 2.223860263824463, -1.9923282861709595, -0.6272052526473999, -0.5817416906356812, -0.8585206866264343, 0.16398993134498596], [-0.5305699110031128, -0.33019667863845825, 0.2535208463668823, -0.6413379311561584, -1.3746345043182373, 1.1445281505584717, -0.30136534571647644, 0.5398967266082764, 0.850663959980011, -0.6012423634529114, -0.23572462797164917, 0.6171404123306274, 1.8305258750915527, 0.19519701600074768, 0.10607700794935226, -0.6423410177230835, 0.6516464948654175, -1.931764841079712, 0.7364111542701721, 0.3943420946598053, -0.7979141473770142, -0.04878056049346924, -0.2171218991279602, 1.6514456272125244, 0.5521128177642822, 1.1352639198303223, 1.5091689825057983, 0.38719630241394043, -0.5386963486671448, -0.9906826615333557, -0.1617065817117691, -0.2070281058549881, 0.1418989598751068, 0.7416083216667175, -0.21564678847789764, 0.35868388414382935, -0.6620075106620789, -0.5156772136688232, 0.34613722562789917, 0.09778879582881927, -0.4159148633480072, 0.6268783807754517, -0.39277318120002747, -0.4102693498134613, -0.5634706020355225, -0.00540882907807827, 0.3322504758834839, -0.4194912910461426, -0.3778737783432007, 0.37787529826164246, -0.31309938430786133, 0.8011848330497742, 0.4268491566181183, -1.1408991813659668, 0.27344703674316406, 0.7439393997192383, 0.37839242815971375, -0.941891610622406, 0.1270265430212021, -0.41752979159355164, 0.36881300806999207, 0.6547180414199829, 0.3418942391872406, 0.44005951285362244, 0.00015724264085292816, -0.22047929465770721, -0.5934036374092102, -0.04990116134285927, -0.7568756937980652, 0.08951980620622635, 0.7472455501556396, -0.12477520108222961, 1.2424392700195312, -0.6979236602783203, 0.36503785848617554, 0.2569558918476105, -0.5571841597557068, -0.2717623710632324, 0.2073078453540802, -0.34325188398361206, -0.1524493247270584, -0.33216115832328796, -0.6235193610191345, 0.5896240472793579, 1.991883635520935, -0.2515711486339569, 1.2989733219146729, -0.053672611713409424, -0.38623565435409546, 0.2321939766407013, -0.11673697084188461, -0.463491827249527, -0.1817193180322647, -0.0601755753159523, 1.0534652471542358, 1.5707383155822754, -0.07083591818809509, 1.386231541633606, -1.0352232456207275, -0.38862869143486023, 1.7287745475769043, 0.09151238948106766, 0.9762588739395142, 0.0351107120513916, -0.6392652988433838, 0.4573873281478882, -0.8318305611610413, 0.4427644610404968, -0.11726007610559464, -1.6157464981079102, 0.761758029460907, -0.31704235076904297, 0.4964231252670288, 0.342804878950119, 0.049234721809625626, 0.7975654602050781, -0.7893702983856201, 0.5739270448684692, 1.4190927743911743, 0.25733527541160583, 0.9395102262496948, -0.7338955402374268, -0.37872421741485596, 0.15401235222816467, 0.9718120694160461, -0.8590283989906311, 1.26738703250885, 0.19586573541164398], [-0.3542868494987488, -0.6068665981292725, 0.008800394833087921, -0.32833331823349, -0.539149820804596, 1.7358015775680542, -0.27205127477645874, -0.04250272735953331, -0.1616007387638092, 0.012407023459672928, -0.4978909492492676, 0.5853409171104431, 1.39695143699646, 0.3450048565864563, 0.12396567314863205, -0.25606560707092285, 0.586153507232666, -0.7410386800765991, 0.9868607521057129, 0.7649319767951965, -0.0323554128408432, 0.07042951136827469, 0.058266349136829376, 0.8268976807594299, 0.32074859738349915, 0.3506060540676117, -0.14635908603668213, -0.008771494030952454, 0.2259146124124527, -0.5829467177391052, 0.7998309135437012, -0.05787966027855873, 0.3712269365787506, 0.5361840724945068, -0.5139668583869934, -0.5763315558433533, -0.6417669653892517, -0.28915584087371826, -0.7026141881942749, -0.017468877136707306, 0.18783405423164368, 0.4957095980644226, 0.5357110500335693, 0.44285356998443604, -0.21409639716148376, -0.5053372383117676, 0.34077388048171997, -0.25472766160964966, 0.43350207805633545, 0.03843454644083977, -0.2654663920402527, -0.15434511005878448, -0.5162573456764221, -1.1263906955718994, 0.09327857196331024, -0.18407461047172546, 0.2847427427768707, -0.255760133266449, -0.2948741912841797, -0.7827463746070862, 0.10024946182966232, 0.20795206725597382, 0.3832985758781433, 0.37954869866371155, -1.3477140665054321, -0.09210792183876038, -0.0275685116648674, -0.15524695813655853, 0.30998602509498596, -0.29387593269348145, 0.39953622221946716, -0.6679903268814087, 0.6855114102363586, -0.06282452493906021, 0.5871788263320923, 0.14554539322853088, -0.10746675729751587, -0.24218963086605072, -0.011273197829723358, 0.5885227918624878, -0.18134242296218872, -0.07179653644561768, -0.7507853507995605, 0.17742787301540375, 0.8295885324478149, 0.6008156538009644, 0.7434350848197937, 0.031133726239204407, -0.40947431325912476, 0.5786612629890442, 0.21496708691120148, -0.5518674254417419, -0.06961777806282043, 0.31615570187568665, 1.1596096754074097, 0.6475501656532288, -0.08930820226669312, 0.895336925983429, -1.0077121257781982, -0.3652937412261963, 0.6398051977157593, -0.38308829069137573, 0.4865638315677643, 0.42202359437942505, -0.5320329070091248, -0.6071283221244812, -0.24434319138526917, -0.06738580763339996, -0.3581032454967499, -1.0059804916381836, -0.19969835877418518, 0.3600369691848755, 0.18672901391983032, 0.44282346963882446, -0.296598345041275, -0.32643556594848633, -0.168923020362854, -0.38945090770721436, 0.39194077253341675, -0.2324301153421402, 0.4209361672401428, -0.07807242125272751, -0.1651330292224884, 0.4090646803379059, 0.6133414506912231, -0.9030742049217224, 0.40842685103416443, 0.7680414915084839], [-0.754199743270874, -0.04091925173997879, -0.21093088388442993, -0.5510718822479248, -1.2415542602539062, 0.10782011598348618, 0.12124928832054138, -0.027931205928325653, -0.10091311484575272, -0.6432794332504272, -0.6369632482528687, 0.6623658537864685, 1.098237156867981, 0.10688206553459167, -0.050871238112449646, -0.297288715839386, 0.6090244054794312, -1.1782479286193848, 0.8098786473274231, -0.17987772822380066, -1.0396358966827393, 0.01692577451467514, -0.39364463090896606, 0.40717729926109314, 0.0559186153113842, 0.9156891703605652, 1.5321341753005981, 0.2168649286031723, -1.1006020307540894, -1.199242115020752, -0.9414522647857666, -0.015730958431959152, 0.004679580219089985, 0.6157509684562683, 0.5472960472106934, 0.3147388696670532, 0.4034566581249237, -0.8117131590843201, 0.47808200120925903, -0.19596412777900696, -0.8393664956092834, 1.0190106630325317, -0.6614464521408081, 0.6219386458396912, -0.20146895945072174, -0.5177900195121765, 0.07930907607078552, -0.10698007047176361, 0.10967366397380829, 0.2510651648044586, -0.7795004844665527, 0.12243099510669708, 0.0915527492761612, -0.18186384439468384, 0.22939294576644897, 0.6498721837997437, 0.7887111306190491, -0.04820959270000458, -0.6435135006904602, -0.7748964428901672, -0.4751584529876709, 0.8482090830802917, -0.23237672448158264, 0.3751520812511444, -0.11967606097459793, 1.1533833742141724, -0.23248150944709778, 0.08441942185163498, -0.03260229155421257, 0.3633415699005127, 0.743831992149353, 0.515546441078186, 0.3171965181827545, -0.7995901107788086, 0.16436392068862915, 0.047069355845451355, -0.905243992805481, -0.4311322271823883, 0.5822123885154724, -0.6567810773849487, -0.09975215792655945, -0.38171786069869995, -0.4416850805282593, 0.6209403276443481, 1.7051647901535034, -0.11688282340765, 0.8827836513519287, 0.1059018075466156, -0.38145357370376587, 0.6326279640197754, 0.05912336707115173, -0.5596586465835571, -0.39338651299476624, -0.41316327452659607, 0.009378280490636826, 1.679794192314148, 0.17646034061908722, 0.3797413408756256, -0.4720768630504608, 0.11218937486410141, 0.9777904152870178, 0.3695025146007538, 0.5685186386108398, -0.23449482023715973, 0.10622503608465195, 0.09399250894784927, -0.7607733011245728, 0.07221835851669312, -0.20425574481487274, -1.1877741813659668, 0.5740727782249451, -0.45196110010147095, 0.41525065898895264, 0.9041554927825928, -0.5133509635925293, 0.9637027978897095, -0.8703827857971191, 0.8074366450309753, 1.521902322769165, 0.2772832214832306, 0.6567826271057129, -0.6189382076263428, -0.23602907359600067, 0.054919078946113586, 1.0521354675292969, -0.8921195268630981, 1.4162052869796753, -0.36796849966049194]]\n",
    "\n",
    "batch_request = match_service_pb2.BatchMatchRequest()\n",
    "batch_request_ann = match_service_pb2.BatchMatchRequest.BatchMatchRequestPerIndex()\n",
    "batch_request_brute_force = (\n",
    "    match_service_pb2.BatchMatchRequest.BatchMatchRequestPerIndex()\n",
    ")\n",
    "batch_request_ann.deployed_index_id = DEPLOYED_INDEX_ID\n",
    "#batch_request_brute_force.deployed_index_id = DEPLOYED_BRUTE_FORCE_INDEX_ID\n",
    "for query in queries:\n",
    "    batch_request_ann.requests.append(get_request(query, DEPLOYED_INDEX_ID)\n",
    "    #batch_request_brute_force.requests.append(\n",
    "        #get_request(query, DEPLOYED_BRUTE_FORCE_INDEX_ID)\n",
    "    )\n",
    "batch_request.requests.append(batch_request_ann)\n",
    "#batch_request.requests.append(batch_request_brute_force)\n",
    "\n",
    "response = stub.BatchMatch(batch_request)\n",
    "response"
   ]
  },
  {
   "cell_type": "code",
   "execution_count": 26,
   "metadata": {},
   "outputs": [
    {
     "name": "stdout",
     "output_type": "stream",
     "text": [
      "['Mithali Raj', 'Amit Shah', 'Mahendra Singh Dhoni']\n"
     ]
    }
   ],
   "source": [
    "faces = []\n",
    "# dir(response)\n",
    "# for res in response.responses:\n",
    "# for neig in response.responses[0].responses:\n",
    "\n",
    "for neig in response.responses[0].responses:\n",
    "    # print(neig.neighbor[0].id, neig.neighbor[0].distance)\n",
    "    face_id = neig.neighbor[0].id\n",
    "    dist = neig.neighbor[0].distance\n",
    "    if dist < 30.0:\n",
    "        face_name_ = face_id.split('_')[0]\n",
    "        faces.append(face_name_)\n",
    "\n",
    "        \n",
    "print(faces)"
   ]
  },
  {
   "cell_type": "code",
   "execution_count": 69,
   "metadata": {},
   "outputs": [
    {
     "data": {
      "text/plain": [
       "responses {\n",
       "  deployed_index_id: \"ann_living_media_deployed\"\n",
       "  responses {\n",
       "    neighbor {\n",
       "      id: \"Mithali Raj_687\"\n",
       "      distance: 12.278135299682617\n",
       "    }\n",
       "  }\n",
       "  responses {\n",
       "    neighbor {\n",
       "      id: \"Sidharth Malhotra_623\"\n",
       "      distance: 66.82612609863281\n",
       "    }\n",
       "  }\n",
       "  responses {\n",
       "    neighbor {\n",
       "      id: \"Amit Shah_53\"\n",
       "      distance: 17.26312255859375\n",
       "    }\n",
       "  }\n",
       "  responses {\n",
       "    neighbor {\n",
       "      id: \"Mithali Raj_747\"\n",
       "      distance: 44.14092254638672\n",
       "    }\n",
       "  }\n",
       "  responses {\n",
       "    neighbor {\n",
       "      id: \"Mahendra Singh Dhoni_428\"\n",
       "      distance: 23.116268157958984\n",
       "    }\n",
       "  }\n",
       "  responses {\n",
       "    neighbor {\n",
       "      id: \"Mahendra Singh Dhoni_428\"\n",
       "      distance: 49.259498596191406\n",
       "    }\n",
       "  }\n",
       "  status {\n",
       "  }\n",
       "}"
      ]
     },
     "execution_count": 69,
     "metadata": {},
     "output_type": "execute_result"
    }
   ],
   "source": [
    "query=[[1.1782426,1.0406778,-0.44876,-0.7633594,-1.849223,2.2980382\n",
    ",0.43171912,-0.5249385,1.6232405,-0.5861312,-0.71334064,0.6076759\n",
    ",0.14184979,1.3373281,-0.49538466,-0.5900156,-0.9048157,-0.8203462\n",
    ",1.0834305,0.97602504,0.81175625,-1.5748513,0.38024062,-0.78434944\n",
    ",0.07006576,-0.9121722,-0.19874564,-1.4220611,-1.2230803,-0.9197947\n",
    ",-0.7203435,-0.9375914,-0.09938783,0.8080363,-0.754516,-0.17224674\n",
    ",0.53428876,-1.3720698,1.6864536,-0.12772012,1.6394142,1.311719\n",
    ",1.2664603,-0.6348907,-1.5060147,-0.24698094,-1.0028895,-1.5993083\n",
    ",-0.21794772,-0.70590544,-0.99432963,-0.02272956,0.03609939,-1.8941488\n",
    ",0.6971372,-0.33864325,2.17427,1.2251923,1.2888476,-0.14010504\n",
    ",1.5132291,0.95102006,0.5111402,1.2493731,0.6373472,0.993629\n",
    ",1.2477914,-0.46476325,-0.47406006,0.39714545,0.92181164,0.98808897\n",
    ",0.35596132,-0.4125048,1.276678,1.0622914,-0.14278081,0.26561818\n",
    ",0.49647754,-0.4398989,0.6308249,1.5569562,1.766642,-1.63171\n",
    ",-0.17620248,-1.051231,-1.3411899,0.6125753,-1.4611464,0.48370305\n",
    ",-0.15419513,-1.6263596,-0.97733307,1.1078069,-1.0737462,0.16510986\n",
    ",-2.1010196,0.7841323,-0.9470381,1.0418843,-0.41200632,-1.708659\n",
    ",-0.8174982,1.3656204,-0.4826603,-0.89417154,0.28905457,1.0995983\n",
    ",-1.6365868,0.32411125,1.2217121,0.71487683,0.9310758,0.6489747\n",
    ",-1.2615271,-0.2319146,0.4160086,0.17292742,1.4088401,0.7208057\n",
    ",1.6679052,-0.67300296,0.7815629,-0.915559,-0.23436396,-1.5972084\n",
    ",1.0581964,-0.7234948,],\n",
    "\n",
    " ]\n",
    "\n",
    "\n",
    "batch_request = match_service_pb2.BatchMatchRequest()\n",
    "batch_request_ann = match_service_pb2.BatchMatchRequest.BatchMatchRequestPerIndex()\n",
    "batch_request_brute_force = (\n",
    "    match_service_pb2.BatchMatchRequest.BatchMatchRequestPerIndex()\n",
    ")\n",
    "batch_request_ann.deployed_index_id = DEPLOYED_INDEX_ID\n",
    "#batch_request_brute_force.deployed_index_id = DEPLOYED_BRUTE_FORCE_INDEX_ID\n",
    "for query in queries:\n",
    "    batch_request_ann.requests.append(get_request(query, DEPLOYED_INDEX_ID)\n",
    "    #batch_request_brute_force.requests.append(\n",
    "        #get_request(query, DEPLOYED_BRUTE_FORCE_INDEX_ID)\n",
    "    )\n",
    "batch_request.requests.append(batch_request_ann)\n",
    "#batch_request.requests.append(batch_request_brute_force)\n",
    "\n",
    "response = stub.BatchMatch(batch_request)\n",
    "response"
   ]
  },
  {
   "cell_type": "code",
   "execution_count": 40,
   "metadata": {},
   "outputs": [
    {
     "name": "stdout",
     "output_type": "stream",
     "text": [
      "neighbor {\n",
      "  id: \"Amit Shah_92\"\n",
      "  distance: 44.124298095703125\n",
      "}\n",
      "neighbor {\n",
      "  id: \"Amit Shah_80\"\n",
      "  distance: 75.77590942382812\n",
      "}\n",
      "neighbor {\n",
      "  id: \"Amit Shah_19\"\n",
      "  distance: 80.10911560058594\n",
      "}\n",
      "neighbor {\n",
      "  id: \"Amit Shah_45\"\n",
      "  distance: 83.44609069824219\n",
      "}\n",
      "neighbor {\n",
      "  id: \"Amit Shah_12\"\n",
      "  distance: 83.97708892822266\n",
      "}\n",
      "neighbor {\n",
      "  id: \"Amit Shah_3\"\n",
      "  distance: 86.94171905517578\n",
      "}\n",
      "neighbor {\n",
      "  id: \"Amit Shah_37\"\n",
      "  distance: 87.36231994628906\n",
      "}\n",
      "neighbor {\n",
      "  id: \"Amit Shah_58\"\n",
      "  distance: 89.91946411132812\n",
      "}\n",
      "neighbor {\n",
      "  id: \"Amit Shah_67\"\n",
      "  distance: 91.34013366699219\n",
      "}\n",
      "neighbor {\n",
      "  id: \"Amit Shah_53\"\n",
      "  distance: 91.44570922851562\n",
      "}\n",
      "\n"
     ]
    }
   ],
   "source": [
    "print(response)"
   ]
  },
  {
   "cell_type": "code",
   "execution_count": 15,
   "metadata": {},
   "outputs": [
    {
     "name": "stdout",
     "output_type": "stream",
     "text": [
      "<class 'match_service_pb2.BatchMatchResponse'>\n"
     ]
    }
   ],
   "source": [
    "print(type(response))"
   ]
  },
  {
   "cell_type": "markdown",
   "metadata": {
    "id": "_mNwdU9_B_Ez"
   },
   "source": [
    "### Compute Recall\n",
    "\n",
    "Use deployed brute force Index as the ground truth to calculate the recall of ANN Index:"
   ]
  },
  {
   "cell_type": "code",
   "execution_count": 48,
   "metadata": {
    "id": "L55vcqox5cQz"
   },
   "outputs": [],
   "source": [
    "def get_neighbors(embedding, deployed_index_id):\n",
    "    request = match_service_pb2.MatchRequest(num_neighbors=k)\n",
    "    request.deployed_index_id = deployed_index_id\n",
    "    for val in embedding:\n",
    "        request.float_val.append(val)\n",
    "    response = stub.Match(request)\n",
    "    return [int(n.id) for n in response.neighbor]"
   ]
  },
  {
   "cell_type": "code",
   "execution_count": 49,
   "metadata": {
    "id": "2vqQxfD9ufJm"
   },
   "outputs": [
    {
     "ename": "NameError",
     "evalue": "name 'test' is not defined",
     "output_type": "error",
     "traceback": [
      "\u001b[0;31m---------------------------------------------------------------------------\u001b[0m",
      "\u001b[0;31mNameError\u001b[0m                                 Traceback (most recent call last)",
      "\u001b[0;32m/tmp/ipykernel_27073/1740183783.py\u001b[0m in \u001b[0;36m<module>\u001b[0;34m\u001b[0m\n\u001b[1;32m      8\u001b[0m             )\n\u001b[1;32m      9\u001b[0m         )\n\u001b[0;32m---> 10\u001b[0;31m         \u001b[0;32mfor\u001b[0m \u001b[0mi\u001b[0m \u001b[0;32min\u001b[0m \u001b[0mrange\u001b[0m\u001b[0;34m(\u001b[0m\u001b[0mlen\u001b[0m\u001b[0;34m(\u001b[0m\u001b[0mtest\u001b[0m\u001b[0;34m)\u001b[0m\u001b[0;34m)\u001b[0m\u001b[0;34m\u001b[0m\u001b[0;34m\u001b[0m\u001b[0m\n\u001b[0m\u001b[1;32m     11\u001b[0m     ]\n\u001b[1;32m     12\u001b[0m ) / (1.0 * len(test) * k)\n",
      "\u001b[0;31mNameError\u001b[0m: name 'test' is not defined"
     ]
    }
   ],
   "source": [
    "# This will take 5-10 min\n",
    "\n",
    "recall = sum(\n",
    "    [\n",
    "        len(\n",
    "            set(get_neighbors(test[i], DEPLOYED_BRUTE_FORCE_INDEX_ID)).intersection(\n",
    "                set(get_neighbors(test[i], DEPLOYED_INDEX_ID))\n",
    "            )\n",
    "        )\n",
    "        for i in range(len(test))\n",
    "    ]\n",
    ") / (1.0 * len(test) * k)\n",
    "\n",
    "print(\"Recall: {}\".format(recall))"
   ]
  },
  {
   "cell_type": "markdown",
   "metadata": {
    "id": "TpV-iwP9qw9c"
   },
   "source": [
    "## Cleaning up\n",
    "\n",
    "To clean up all Google Cloud resources used in this project, you can [delete the Google Cloud\n",
    "project](https://cloud.google.com/resource-manager/docs/creating-managing-projects#shutting_down_projects) you used for the tutorial.\n",
    "You can also manually delete resources that you created by running the following code."
   ]
  },
  {
   "cell_type": "code",
   "execution_count": null,
   "metadata": {
    "id": "sx_vKniMq9ZX"
   },
   "outputs": [],
   "source": [
    "index_client.delete_index(name=INDEX_RESOURCE_NAME)\n",
    "index_client.delete_index(name=INDEX_BRUTE_FORCE_RESOURCE_NAME)"
   ]
  },
  {
   "cell_type": "code",
   "execution_count": null,
   "metadata": {
    "id": "omj7N9iWv-Tq"
   },
   "outputs": [],
   "source": [
    "index_endpoint_client.delete_index_endpoint(name=INDEX_ENDPOINT_NAME)"
   ]
  }
 ],
 "metadata": {
  "colab": {
   "collapsed_sections": [],
   "name": "matching_engine_for_indexing.ipynb",
   "toc_visible": true
  },
  "environment": {
   "kernel": "python3",
   "name": "common-cpu.m90",
   "type": "gcloud",
   "uri": "gcr.io/deeplearning-platform-release/base-cpu:m90"
  },
  "kernelspec": {
   "display_name": "Python 3",
   "language": "python",
   "name": "python3"
  },
  "language_info": {
   "codemirror_mode": {
    "name": "ipython",
    "version": 3
   },
   "file_extension": ".py",
   "mimetype": "text/x-python",
   "name": "python",
   "nbconvert_exporter": "python",
   "pygments_lexer": "ipython3",
   "version": "3.7.12"
  }
 },
 "nbformat": 4,
 "nbformat_minor": 4
}
