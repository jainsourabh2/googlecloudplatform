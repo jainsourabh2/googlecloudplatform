{
 "cells": [
  {
   "cell_type": "raw",
   "id": "0dc675ca-144a-48e4-a6d0-7479601b7d58",
   "metadata": {},
   "source": [
    "We will first load a normal json file which doesnt have any nested structures.\n",
    "\n",
    "gs://bigquery_json_processing/json_data_raw_1.json\n",
    "\n",
    "{\"id\": 1,\"name\": \"Sourabh\",\"company\": \"company-A\"}\n",
    "{\"id\": 2,\"name\": \"Vikram\",\"company\": \"company-B\"}\n",
    "{\"id\": 3,\"name\": \"Sahil\",\"company\": \"company-C\"}\n",
    "{\"id\": 4,\"name\": \"Gaurav\",\"company\": \"company-D\"}\n",
    "{\"id\": 5,\"name\": \"Hardik\",\"company\": \"company-E\"}"
   ]
  },
  {
   "cell_type": "code",
   "execution_count": 13,
   "id": "bebf6a03-dec5-4fe2-a328-56886d1662d8",
   "metadata": {},
   "outputs": [
    {
     "name": "stdout",
     "output_type": "stream",
     "text": [
      "Waiting on bqjob_r185358b549a9dfe1_0000017e28a2947f_1 ... (1s) Current status: DONE   \n"
     ]
    }
   ],
   "source": [
    "!bq load --source_format NEWLINE_DELIMITED_JSON --autodetect \\\n",
    "--ignore_unknown_values sourabhjainceanalytics:resulticks.customer gs://bigquery_json_processing/json_data_raw_1.json"
   ]
  },
  {
   "cell_type": "code",
   "execution_count": 14,
   "id": "aac4314a-a5e9-4618-b63c-1f02ae32ab64",
   "metadata": {},
   "outputs": [
    {
     "name": "stderr",
     "output_type": "stream",
     "text": [
      "Query complete after 0.00s: 100%|██████████| 1/1 [00:00<00:00, 534.31query/s]                          \n",
      "Downloading: 100%|██████████| 5/5 [00:01<00:00,  3.25rows/s]\n"
     ]
    },
    {
     "data": {
      "text/html": [
       "<div>\n",
       "<style scoped>\n",
       "    .dataframe tbody tr th:only-of-type {\n",
       "        vertical-align: middle;\n",
       "    }\n",
       "\n",
       "    .dataframe tbody tr th {\n",
       "        vertical-align: top;\n",
       "    }\n",
       "\n",
       "    .dataframe thead th {\n",
       "        text-align: right;\n",
       "    }\n",
       "</style>\n",
       "<table border=\"1\" class=\"dataframe\">\n",
       "  <thead>\n",
       "    <tr style=\"text-align: right;\">\n",
       "      <th></th>\n",
       "      <th>name</th>\n",
       "      <th>company</th>\n",
       "      <th>id</th>\n",
       "    </tr>\n",
       "  </thead>\n",
       "  <tbody>\n",
       "    <tr>\n",
       "      <th>0</th>\n",
       "      <td>Sourabh Jain</td>\n",
       "      <td>company-A</td>\n",
       "      <td>1</td>\n",
       "    </tr>\n",
       "    <tr>\n",
       "      <th>1</th>\n",
       "      <td>Sourabh Jain</td>\n",
       "      <td>company-B</td>\n",
       "      <td>2</td>\n",
       "    </tr>\n",
       "    <tr>\n",
       "      <th>2</th>\n",
       "      <td>Sourabh Jain</td>\n",
       "      <td>company-C</td>\n",
       "      <td>3</td>\n",
       "    </tr>\n",
       "    <tr>\n",
       "      <th>3</th>\n",
       "      <td>Sourabh Jain</td>\n",
       "      <td>company-D</td>\n",
       "      <td>4</td>\n",
       "    </tr>\n",
       "    <tr>\n",
       "      <th>4</th>\n",
       "      <td>Sourabh Jain</td>\n",
       "      <td>company-E</td>\n",
       "      <td>5</td>\n",
       "    </tr>\n",
       "  </tbody>\n",
       "</table>\n",
       "</div>"
      ],
      "text/plain": [
       "           name    company  id\n",
       "0  Sourabh Jain  company-A   1\n",
       "1  Sourabh Jain  company-B   2\n",
       "2  Sourabh Jain  company-C   3\n",
       "3  Sourabh Jain  company-D   4\n",
       "4  Sourabh Jain  company-E   5"
      ]
     },
     "execution_count": 14,
     "metadata": {},
     "output_type": "execute_result"
    }
   ],
   "source": [
    "%%bigquery\n",
    "SELECT * FROM `sourabhjainceanalytics.resulticks.customer`"
   ]
  },
  {
   "cell_type": "raw",
   "id": "9b4cf0eb-7b55-4827-97cf-6383a31afd10",
   "metadata": {},
   "source": [
    "Now , we will load additional data which has nested columns and the schema is new. The flags autodetect and schema_update_option enables to load this data.\n",
    "\n",
    "gs://bigquery_json_processing/json_data_raw_2.json\n",
    "\n",
    "\n",
    "{\"id\": 6,\"name\": \"Rajesh\",\"company\": \"company-A\",\"contact_details\":[{\"phone\":\"111111111\",\"type\":\"home\"},{\"phone\":\"2222222222\",\"type\":\"mobile\"}]}\n",
    "{\"id\": 7,\"name\": \"Mandar\",\"company\": \"company-B\",\"contact_details\":[{\"phone\":\"3333333333\",\"type\":\"home\"},{\"phone\":\"4444444444\",\"type\":\"mobile\"}]}\n",
    "{\"id\": 8,\"name\": \"Nishit\",\"company\": \"company-C\",\"contact_details\":[{\"phone\":\"5555555555\",\"type\":\"home\"},{\"phone\":\"6666666666\",\"type\":\"mobile\"}]}\n",
    "{\"id\": 9,\"name\": \"Prasanna\",\"company\": \"company-D\",\"contact_details\":[{\"phone\":\"7777777777\",\"type\":\"home\"},{\"phone\":\"8888888888\",\"type\":\"mobile\"}]}\n",
    "{\"id\": 10,\"name\": \"Rakesh\",\"company\": \"company-E\",\"contact_details\":[{\"phone\":\"9999999999\",\"type\":\"home\"},{\"phone\":\"0000000000\",\"type\":\"mobile\"}]}"
   ]
  },
  {
   "cell_type": "code",
   "execution_count": 15,
   "id": "90feed89-351b-497f-9e9c-9fdb950a3574",
   "metadata": {},
   "outputs": [
    {
     "name": "stdout",
     "output_type": "stream",
     "text": [
      "Waiting on bqjob_r79cf9315cd3feb3_0000017e28a2ac20_1 ... (1s) Current status: DONE   \n"
     ]
    }
   ],
   "source": [
    "!bq load --source_format NEWLINE_DELIMITED_JSON --autodetect \\\n",
    "--ignore_unknown_values --schema_update_option=ALLOW_FIELD_ADDITION \\\n",
    "sourabhjainceanalytics:resulticks.customer gs://bigquery_json_processing/json_data_raw_2.json"
   ]
  },
  {
   "cell_type": "code",
   "execution_count": 16,
   "id": "fd550a5f-303f-43c6-90f1-914f5586a427",
   "metadata": {},
   "outputs": [
    {
     "name": "stderr",
     "output_type": "stream",
     "text": [
      "Query complete after 0.00s: 100%|██████████| 1/1 [00:00<00:00, 611.68query/s]                          \n",
      "Downloading: 100%|██████████| 10/10 [00:01<00:00,  7.25rows/s]\n"
     ]
    },
    {
     "data": {
      "text/html": [
       "<div>\n",
       "<style scoped>\n",
       "    .dataframe tbody tr th:only-of-type {\n",
       "        vertical-align: middle;\n",
       "    }\n",
       "\n",
       "    .dataframe tbody tr th {\n",
       "        vertical-align: top;\n",
       "    }\n",
       "\n",
       "    .dataframe thead th {\n",
       "        text-align: right;\n",
       "    }\n",
       "</style>\n",
       "<table border=\"1\" class=\"dataframe\">\n",
       "  <thead>\n",
       "    <tr style=\"text-align: right;\">\n",
       "      <th></th>\n",
       "      <th>contact_details</th>\n",
       "      <th>name</th>\n",
       "      <th>company</th>\n",
       "      <th>id</th>\n",
       "    </tr>\n",
       "  </thead>\n",
       "  <tbody>\n",
       "    <tr>\n",
       "      <th>0</th>\n",
       "      <td>[{'type': 'home', 'phone': 111111111}, {'type'...</td>\n",
       "      <td>Sourabh Jain</td>\n",
       "      <td>company-A</td>\n",
       "      <td>6</td>\n",
       "    </tr>\n",
       "    <tr>\n",
       "      <th>1</th>\n",
       "      <td>[{'type': 'home', 'phone': 3333333333}, {'type...</td>\n",
       "      <td>Sourabh Jain</td>\n",
       "      <td>company-B</td>\n",
       "      <td>7</td>\n",
       "    </tr>\n",
       "    <tr>\n",
       "      <th>2</th>\n",
       "      <td>[{'type': 'home', 'phone': 5555555555}, {'type...</td>\n",
       "      <td>Sourabh Jain</td>\n",
       "      <td>company-C</td>\n",
       "      <td>8</td>\n",
       "    </tr>\n",
       "    <tr>\n",
       "      <th>3</th>\n",
       "      <td>[{'type': 'home', 'phone': 7777777777}, {'type...</td>\n",
       "      <td>Sourabh Jain</td>\n",
       "      <td>company-D</td>\n",
       "      <td>9</td>\n",
       "    </tr>\n",
       "    <tr>\n",
       "      <th>4</th>\n",
       "      <td>[{'type': 'home', 'phone': 9999999999}, {'type...</td>\n",
       "      <td>Sourabh Jain</td>\n",
       "      <td>company-E</td>\n",
       "      <td>10</td>\n",
       "    </tr>\n",
       "    <tr>\n",
       "      <th>5</th>\n",
       "      <td>[]</td>\n",
       "      <td>Sourabh Jain</td>\n",
       "      <td>company-A</td>\n",
       "      <td>1</td>\n",
       "    </tr>\n",
       "    <tr>\n",
       "      <th>6</th>\n",
       "      <td>[]</td>\n",
       "      <td>Sourabh Jain</td>\n",
       "      <td>company-B</td>\n",
       "      <td>2</td>\n",
       "    </tr>\n",
       "    <tr>\n",
       "      <th>7</th>\n",
       "      <td>[]</td>\n",
       "      <td>Sourabh Jain</td>\n",
       "      <td>company-C</td>\n",
       "      <td>3</td>\n",
       "    </tr>\n",
       "    <tr>\n",
       "      <th>8</th>\n",
       "      <td>[]</td>\n",
       "      <td>Sourabh Jain</td>\n",
       "      <td>company-D</td>\n",
       "      <td>4</td>\n",
       "    </tr>\n",
       "    <tr>\n",
       "      <th>9</th>\n",
       "      <td>[]</td>\n",
       "      <td>Sourabh Jain</td>\n",
       "      <td>company-E</td>\n",
       "      <td>5</td>\n",
       "    </tr>\n",
       "  </tbody>\n",
       "</table>\n",
       "</div>"
      ],
      "text/plain": [
       "                                     contact_details          name    company  \\\n",
       "0  [{'type': 'home', 'phone': 111111111}, {'type'...  Sourabh Jain  company-A   \n",
       "1  [{'type': 'home', 'phone': 3333333333}, {'type...  Sourabh Jain  company-B   \n",
       "2  [{'type': 'home', 'phone': 5555555555}, {'type...  Sourabh Jain  company-C   \n",
       "3  [{'type': 'home', 'phone': 7777777777}, {'type...  Sourabh Jain  company-D   \n",
       "4  [{'type': 'home', 'phone': 9999999999}, {'type...  Sourabh Jain  company-E   \n",
       "5                                                 []  Sourabh Jain  company-A   \n",
       "6                                                 []  Sourabh Jain  company-B   \n",
       "7                                                 []  Sourabh Jain  company-C   \n",
       "8                                                 []  Sourabh Jain  company-D   \n",
       "9                                                 []  Sourabh Jain  company-E   \n",
       "\n",
       "   id  \n",
       "0   6  \n",
       "1   7  \n",
       "2   8  \n",
       "3   9  \n",
       "4  10  \n",
       "5   1  \n",
       "6   2  \n",
       "7   3  \n",
       "8   4  \n",
       "9   5  "
      ]
     },
     "execution_count": 16,
     "metadata": {},
     "output_type": "execute_result"
    }
   ],
   "source": [
    "%%bigquery\n",
    "SELECT * FROM `sourabhjainceanalytics.resulticks.customer`"
   ]
  },
  {
   "cell_type": "raw",
   "id": "5948cded-3b16-4f38-90eb-1bc91a4b98a8",
   "metadata": {},
   "source": [
    "Now, lets say we want to update the nested data to the existing employees (ids 1-5) which did not have the contact details.\n",
    "\n",
    "We will recieve a new json file with only the data for these ids.\n",
    "\n",
    "gs://bigquery_json_processing/json_data_raw_3.json\n",
    "\n",
    "{\"id\": 1,\"contact_details\":[{\"phone\":\"111111111\",\"type\":\"home\"},{\"phone\":\"2222222222\",\"type\":\"mobile\"}]}\n",
    "{\"id\": 2,\"contact_details\":[{\"phone\":\"3333333333\",\"type\":\"home\"},{\"phone\":\"4444444444\",\"type\":\"mobile\"}]}\n",
    "{\"id\": 3,\"contact_details\":[{\"phone\":\"5555555555\",\"type\":\"home\"},{\"phone\":\"6666666666\",\"type\":\"mobile\"}]}\n",
    "{\"id\": 4,\"contact_details\":[{\"phone\":\"7777777777\",\"type\":\"home\"},{\"phone\":\"8888888888\",\"type\":\"mobile\"}]}\n",
    "{\"id\": 5,\"contact_details\":[{\"phone\":\"9999999999\",\"type\":\"home\"},{\"phone\":\"0000000000\",\"type\":\"mobile\"}]}\n",
    "\n",
    "The approach will be to load this data first into a temporary table and then merge it into the main table."
   ]
  },
  {
   "cell_type": "code",
   "execution_count": 17,
   "id": "b248e149-471f-4607-8a09-74176a7c580c",
   "metadata": {},
   "outputs": [
    {
     "name": "stdout",
     "output_type": "stream",
     "text": [
      "Waiting on bqjob_rd0700e7146cfc81_0000017e28a2c2cf_1 ... (1s) Current status: DONE   \n"
     ]
    }
   ],
   "source": [
    "!bq load --source_format NEWLINE_DELIMITED_JSON --autodetect --ignore_unknown_values \\\n",
    "--schema_update_option=ALLOW_FIELD_ADDITION sourabhjainceanalytics:resulticks.customer_change gs://bigquery_json_processing/json_data_raw_3.json"
   ]
  },
  {
   "cell_type": "code",
   "execution_count": 18,
   "id": "c7b79b85-2a09-431d-8266-d93798bd9ffa",
   "metadata": {},
   "outputs": [
    {
     "name": "stderr",
     "output_type": "stream",
     "text": [
      "Query complete after 0.00s: 100%|██████████| 1/1 [00:00<00:00, 532.95query/s]                          \n",
      "Downloading: 100%|██████████| 5/5 [00:01<00:00,  3.23rows/s]\n"
     ]
    },
    {
     "data": {
      "text/html": [
       "<div>\n",
       "<style scoped>\n",
       "    .dataframe tbody tr th:only-of-type {\n",
       "        vertical-align: middle;\n",
       "    }\n",
       "\n",
       "    .dataframe tbody tr th {\n",
       "        vertical-align: top;\n",
       "    }\n",
       "\n",
       "    .dataframe thead th {\n",
       "        text-align: right;\n",
       "    }\n",
       "</style>\n",
       "<table border=\"1\" class=\"dataframe\">\n",
       "  <thead>\n",
       "    <tr style=\"text-align: right;\">\n",
       "      <th></th>\n",
       "      <th>contact_details</th>\n",
       "      <th>id</th>\n",
       "    </tr>\n",
       "  </thead>\n",
       "  <tbody>\n",
       "    <tr>\n",
       "      <th>0</th>\n",
       "      <td>[{'type': 'home', 'phone': 111111111}, {'type'...</td>\n",
       "      <td>1</td>\n",
       "    </tr>\n",
       "    <tr>\n",
       "      <th>1</th>\n",
       "      <td>[{'type': 'home', 'phone': 3333333333}, {'type...</td>\n",
       "      <td>2</td>\n",
       "    </tr>\n",
       "    <tr>\n",
       "      <th>2</th>\n",
       "      <td>[{'type': 'home', 'phone': 5555555555}, {'type...</td>\n",
       "      <td>3</td>\n",
       "    </tr>\n",
       "    <tr>\n",
       "      <th>3</th>\n",
       "      <td>[{'type': 'home', 'phone': 7777777777}, {'type...</td>\n",
       "      <td>4</td>\n",
       "    </tr>\n",
       "    <tr>\n",
       "      <th>4</th>\n",
       "      <td>[{'type': 'home', 'phone': 9999999999}, {'type...</td>\n",
       "      <td>5</td>\n",
       "    </tr>\n",
       "  </tbody>\n",
       "</table>\n",
       "</div>"
      ],
      "text/plain": [
       "                                     contact_details  id\n",
       "0  [{'type': 'home', 'phone': 111111111}, {'type'...   1\n",
       "1  [{'type': 'home', 'phone': 3333333333}, {'type...   2\n",
       "2  [{'type': 'home', 'phone': 5555555555}, {'type...   3\n",
       "3  [{'type': 'home', 'phone': 7777777777}, {'type...   4\n",
       "4  [{'type': 'home', 'phone': 9999999999}, {'type...   5"
      ]
     },
     "execution_count": 18,
     "metadata": {},
     "output_type": "execute_result"
    }
   ],
   "source": [
    "%%bigquery\n",
    "SELECT * FROM `sourabhjainceanalytics.resulticks.customer_change`"
   ]
  },
  {
   "cell_type": "code",
   "execution_count": 19,
   "id": "6b1efa8e-ef41-41a8-9bf0-f5343eda376f",
   "metadata": {},
   "outputs": [
    {
     "name": "stderr",
     "output_type": "stream",
     "text": [
      "Query complete after 0.00s: 100%|██████████| 8/8 [00:00<00:00, 3338.09query/s]                        \n"
     ]
    },
    {
     "data": {
      "text/html": [
       "<div>\n",
       "<style scoped>\n",
       "    .dataframe tbody tr th:only-of-type {\n",
       "        vertical-align: middle;\n",
       "    }\n",
       "\n",
       "    .dataframe tbody tr th {\n",
       "        vertical-align: top;\n",
       "    }\n",
       "\n",
       "    .dataframe thead th {\n",
       "        text-align: right;\n",
       "    }\n",
       "</style>\n",
       "<table border=\"1\" class=\"dataframe\">\n",
       "  <thead>\n",
       "    <tr style=\"text-align: right;\">\n",
       "      <th></th>\n",
       "    </tr>\n",
       "  </thead>\n",
       "  <tbody>\n",
       "  </tbody>\n",
       "</table>\n",
       "</div>"
      ],
      "text/plain": [
       "Empty DataFrame\n",
       "Columns: []\n",
       "Index: []"
      ]
     },
     "execution_count": 19,
     "metadata": {},
     "output_type": "execute_result"
    }
   ],
   "source": [
    "%%bigquery\n",
    "MERGE resulticks.customer T\n",
    "USING (  \n",
    "    SELECT \n",
    "      id,  \n",
    "      ARRAY_AGG(STRUCT(cd.type, cd.phone)) contact_details\n",
    "    FROM resulticks.customer_change,\n",
    "    UNNEST(contact_details) cd\n",
    "    GROUP BY 1) S\n",
    "ON T.id = S.id\n",
    "WHEN MATCHED THEN    \n",
    "UPDATE SET T.contact_details = ARRAY_CONCAT(T.contact_details, S.contact_details);"
   ]
  },
  {
   "cell_type": "code",
   "execution_count": 20,
   "id": "78600627-db0e-4086-ae76-bb18edf5a6d9",
   "metadata": {},
   "outputs": [
    {
     "name": "stderr",
     "output_type": "stream",
     "text": [
      "Query complete after 0.00s: 100%|██████████| 1/1 [00:00<00:00, 496.31query/s]                          \n",
      "Downloading: 100%|██████████| 10/10 [00:01<00:00,  6.87rows/s]\n"
     ]
    },
    {
     "data": {
      "text/html": [
       "<div>\n",
       "<style scoped>\n",
       "    .dataframe tbody tr th:only-of-type {\n",
       "        vertical-align: middle;\n",
       "    }\n",
       "\n",
       "    .dataframe tbody tr th {\n",
       "        vertical-align: top;\n",
       "    }\n",
       "\n",
       "    .dataframe thead th {\n",
       "        text-align: right;\n",
       "    }\n",
       "</style>\n",
       "<table border=\"1\" class=\"dataframe\">\n",
       "  <thead>\n",
       "    <tr style=\"text-align: right;\">\n",
       "      <th></th>\n",
       "      <th>contact_details</th>\n",
       "      <th>name</th>\n",
       "      <th>company</th>\n",
       "      <th>id</th>\n",
       "    </tr>\n",
       "  </thead>\n",
       "  <tbody>\n",
       "    <tr>\n",
       "      <th>0</th>\n",
       "      <td>[{'type': 'home', 'phone': 111111111}, {'type'...</td>\n",
       "      <td>Sourabh Jain</td>\n",
       "      <td>company-A</td>\n",
       "      <td>6</td>\n",
       "    </tr>\n",
       "    <tr>\n",
       "      <th>1</th>\n",
       "      <td>[{'type': 'home', 'phone': 3333333333}, {'type...</td>\n",
       "      <td>Sourabh Jain</td>\n",
       "      <td>company-B</td>\n",
       "      <td>7</td>\n",
       "    </tr>\n",
       "    <tr>\n",
       "      <th>2</th>\n",
       "      <td>[{'type': 'home', 'phone': 5555555555}, {'type...</td>\n",
       "      <td>Sourabh Jain</td>\n",
       "      <td>company-C</td>\n",
       "      <td>8</td>\n",
       "    </tr>\n",
       "    <tr>\n",
       "      <th>3</th>\n",
       "      <td>[{'type': 'home', 'phone': 7777777777}, {'type...</td>\n",
       "      <td>Sourabh Jain</td>\n",
       "      <td>company-D</td>\n",
       "      <td>9</td>\n",
       "    </tr>\n",
       "    <tr>\n",
       "      <th>4</th>\n",
       "      <td>[{'type': 'home', 'phone': 9999999999}, {'type...</td>\n",
       "      <td>Sourabh Jain</td>\n",
       "      <td>company-E</td>\n",
       "      <td>10</td>\n",
       "    </tr>\n",
       "    <tr>\n",
       "      <th>5</th>\n",
       "      <td>[{'type': 'home', 'phone': 5555555555}, {'type...</td>\n",
       "      <td>Sourabh Jain</td>\n",
       "      <td>company-C</td>\n",
       "      <td>3</td>\n",
       "    </tr>\n",
       "    <tr>\n",
       "      <th>6</th>\n",
       "      <td>[{'type': 'home', 'phone': 111111111}, {'type'...</td>\n",
       "      <td>Sourabh Jain</td>\n",
       "      <td>company-A</td>\n",
       "      <td>1</td>\n",
       "    </tr>\n",
       "    <tr>\n",
       "      <th>7</th>\n",
       "      <td>[{'type': 'home', 'phone': 7777777777}, {'type...</td>\n",
       "      <td>Sourabh Jain</td>\n",
       "      <td>company-D</td>\n",
       "      <td>4</td>\n",
       "    </tr>\n",
       "    <tr>\n",
       "      <th>8</th>\n",
       "      <td>[{'type': 'home', 'phone': 3333333333}, {'type...</td>\n",
       "      <td>Sourabh Jain</td>\n",
       "      <td>company-B</td>\n",
       "      <td>2</td>\n",
       "    </tr>\n",
       "    <tr>\n",
       "      <th>9</th>\n",
       "      <td>[{'type': 'home', 'phone': 9999999999}, {'type...</td>\n",
       "      <td>Sourabh Jain</td>\n",
       "      <td>company-E</td>\n",
       "      <td>5</td>\n",
       "    </tr>\n",
       "  </tbody>\n",
       "</table>\n",
       "</div>"
      ],
      "text/plain": [
       "                                     contact_details          name    company  \\\n",
       "0  [{'type': 'home', 'phone': 111111111}, {'type'...  Sourabh Jain  company-A   \n",
       "1  [{'type': 'home', 'phone': 3333333333}, {'type...  Sourabh Jain  company-B   \n",
       "2  [{'type': 'home', 'phone': 5555555555}, {'type...  Sourabh Jain  company-C   \n",
       "3  [{'type': 'home', 'phone': 7777777777}, {'type...  Sourabh Jain  company-D   \n",
       "4  [{'type': 'home', 'phone': 9999999999}, {'type...  Sourabh Jain  company-E   \n",
       "5  [{'type': 'home', 'phone': 5555555555}, {'type...  Sourabh Jain  company-C   \n",
       "6  [{'type': 'home', 'phone': 111111111}, {'type'...  Sourabh Jain  company-A   \n",
       "7  [{'type': 'home', 'phone': 7777777777}, {'type...  Sourabh Jain  company-D   \n",
       "8  [{'type': 'home', 'phone': 3333333333}, {'type...  Sourabh Jain  company-B   \n",
       "9  [{'type': 'home', 'phone': 9999999999}, {'type...  Sourabh Jain  company-E   \n",
       "\n",
       "   id  \n",
       "0   6  \n",
       "1   7  \n",
       "2   8  \n",
       "3   9  \n",
       "4  10  \n",
       "5   3  \n",
       "6   1  \n",
       "7   4  \n",
       "8   2  \n",
       "9   5  "
      ]
     },
     "execution_count": 20,
     "metadata": {},
     "output_type": "execute_result"
    }
   ],
   "source": [
    "%%bigquery\n",
    "SELECT * FROM `sourabhjainceanalytics.resulticks.customer`"
   ]
  },
  {
   "cell_type": "code",
   "execution_count": null,
   "id": "8919a63c-c2d2-4e7d-adda-d5eb1518ee24",
   "metadata": {},
   "outputs": [],
   "source": []
  }
 ],
 "metadata": {
  "environment": {
   "name": "common-cpu.m80",
   "type": "gcloud",
   "uri": "gcr.io/deeplearning-platform-release/base-cpu:m80"
  },
  "kernelspec": {
   "display_name": "Python 3",
   "language": "python",
   "name": "python3"
  },
  "language_info": {
   "codemirror_mode": {
    "name": "ipython",
    "version": 3
   },
   "file_extension": ".py",
   "mimetype": "text/x-python",
   "name": "python",
   "nbconvert_exporter": "python",
   "pygments_lexer": "ipython3",
   "version": "3.7.10"
  }
 },
 "nbformat": 4,
 "nbformat_minor": 5
}
