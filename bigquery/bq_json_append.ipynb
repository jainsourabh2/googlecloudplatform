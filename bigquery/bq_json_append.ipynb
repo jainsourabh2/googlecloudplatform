{
 "cells": [
  {
   "cell_type": "raw",
   "id": "0dc675ca-144a-48e4-a6d0-7479601b7d58",
   "metadata": {},
   "source": [
    "We will first load a normal json file which doesnt have any nested structures.\n",
    "\n",
    "gs://bigquery_json_processing/json_data_raw_1.json\n",
    "\n",
    "{\"id\": 1,\"name\": \"Sourabh\",\"company\": \"company-A\"}\n",
    "{\"id\": 2,\"name\": \"Vikram\",\"company\": \"company-B\"}\n",
    "{\"id\": 3,\"name\": \"Sahil\",\"company\": \"company-C\"}\n",
    "{\"id\": 4,\"name\": \"Gaurav\",\"company\": \"company-D\"}\n",
    "{\"id\": 5,\"name\": \"Hardik\",\"company\": \"company-E\"}"
   ]
  },
  {
   "cell_type": "code",
   "execution_count": null,
   "id": "bebf6a03-dec5-4fe2-a328-56886d1662d8",
   "metadata": {},
   "outputs": [],
   "source": [
    "!bq load --source_format NEWLINE_DELIMITED_JSON --autodetect \\\n",
    "--ignore_unknown_values sourabhjainceanalytics:demo.customer gs://bigquery_json_processing/json_data_raw_1.json"
   ]
  },
  {
   "cell_type": "code",
   "execution_count": null,
   "id": "aac4314a-a5e9-4618-b63c-1f02ae32ab64",
   "metadata": {},
   "outputs": [],
   "source": [
    "%%bigquery\n",
    "SELECT * FROM `sourabhjainceanalytics.demo.customer`"
   ]
  },
  {
   "cell_type": "raw",
   "id": "9b4cf0eb-7b55-4827-97cf-6383a31afd10",
   "metadata": {},
   "source": [
    "Now , we will load additional data which has nested columns and the schema is new. The flags autodetect and schema_update_option enables to load this data.\n",
    "\n",
    "gs://bigquery_json_processing/json_data_raw_2.json\n",
    "\n",
    "{\"id\": 6,\"name\": \"Rajesh\",\"company\": \"company-A\",\"contact_details\":[{\"phone\":\"111111111\",\"type\":\"home\"},{\"phone\":\"2222222222\",\"type\":\"mobile\"}]}\n",
    "{\"id\": 7,\"name\": \"Mandar\",\"company\": \"company-B\",\"contact_details\":[{\"phone\":\"3333333333\",\"type\":\"home\"},{\"phone\":\"4444444444\",\"type\":\"mobile\"}]}\n",
    "{\"id\": 8,\"name\": \"Nishit\",\"company\": \"company-C\",\"contact_details\":[{\"phone\":\"5555555555\",\"type\":\"home\"},{\"phone\":\"6666666666\",\"type\":\"mobile\"}]}\n",
    "{\"id\": 9,\"name\": \"Prasanna\",\"company\": \"company-D\",\"contact_details\":[{\"phone\":\"7777777777\",\"type\":\"home\"},{\"phone\":\"8888888888\",\"type\":\"mobile\"}]}\n",
    "{\"id\": 10,\"name\": \"Rakesh\",\"company\": \"company-E\",\"contact_details\":[{\"phone\":\"9999999999\",\"type\":\"home\"},{\"phone\":\"0000000000\",\"type\":\"mobile\"}]}"
   ]
  },
  {
   "cell_type": "code",
   "execution_count": null,
   "id": "90feed89-351b-497f-9e9c-9fdb950a3574",
   "metadata": {},
   "outputs": [],
   "source": [
    "!bq load --source_format NEWLINE_DELIMITED_JSON --autodetect \\\n",
    "--ignore_unknown_values --schema_update_option=ALLOW_FIELD_ADDITION \\\n",
    "sourabhjainceanalytics:demo.customer gs://bigquery_json_processing/json_data_raw_2.json"
   ]
  },
  {
   "cell_type": "code",
   "execution_count": null,
   "id": "fd550a5f-303f-43c6-90f1-914f5586a427",
   "metadata": {},
   "outputs": [],
   "source": [
    "%%bigquery\n",
    "SELECT * FROM `sourabhjainceanalytics.demo.customer`"
   ]
  },
  {
   "cell_type": "raw",
   "id": "5948cded-3b16-4f38-90eb-1bc91a4b98a8",
   "metadata": {},
   "source": [
    "Now, lets say we want to update the nested data to the existing employees (ids 1-5) which did not have the contact details.\n",
    "\n",
    "We will recieve a new json file with only the data for these ids.\n",
    "\n",
    "gs://bigquery_json_processing/json_data_raw_3.json\n",
    "\n",
    "{\"id\": 1,\"contact_details\":[{\"phone\":\"111111111\",\"type\":\"home\"},{\"phone\":\"2222222222\",\"type\":\"mobile\"}]}\n",
    "{\"id\": 2,\"contact_details\":[{\"phone\":\"3333333333\",\"type\":\"home\"},{\"phone\":\"4444444444\",\"type\":\"mobile\"}]}\n",
    "{\"id\": 3,\"contact_details\":[{\"phone\":\"5555555555\",\"type\":\"home\"},{\"phone\":\"6666666666\",\"type\":\"mobile\"}]}\n",
    "{\"id\": 4,\"contact_details\":[{\"phone\":\"7777777777\",\"type\":\"home\"},{\"phone\":\"8888888888\",\"type\":\"mobile\"}]}\n",
    "{\"id\": 5,\"contact_details\":[{\"phone\":\"9999999999\",\"type\":\"home\"},{\"phone\":\"0000000000\",\"type\":\"mobile\"}]}\n",
    "\n",
    "The approach will be to load this data first into a temporary table and then merge it into the main table."
   ]
  },
  {
   "cell_type": "code",
   "execution_count": null,
   "id": "b248e149-471f-4607-8a09-74176a7c580c",
   "metadata": {},
   "outputs": [],
   "source": [
    "!bq load --source_format NEWLINE_DELIMITED_JSON --autodetect --ignore_unknown_values \\\n",
    "--schema_update_option=ALLOW_FIELD_ADDITION sourabhjainceanalytics:demo.customer_change gs://bigquery_json_processing/json_data_raw_3.json"
   ]
  },
  {
   "cell_type": "code",
   "execution_count": null,
   "id": "c7b79b85-2a09-431d-8266-d93798bd9ffa",
   "metadata": {},
   "outputs": [],
   "source": [
    "%%bigquery\n",
    "SELECT * FROM `sourabhjainceanalytics.demo.customer_change`"
   ]
  },
  {
   "cell_type": "code",
   "execution_count": null,
   "id": "6b1efa8e-ef41-41a8-9bf0-f5343eda376f",
   "metadata": {},
   "outputs": [],
   "source": [
    "%%bigquery\n",
    "MERGE demo.customer T\n",
    "USING (  \n",
    "    SELECT \n",
    "      id,  \n",
    "      ARRAY_AGG(STRUCT(cd.type, cd.phone)) contact_details\n",
    "    FROM demo.customer_change,\n",
    "    UNNEST(contact_details) cd\n",
    "    GROUP BY 1) S\n",
    "ON T.id = S.id\n",
    "WHEN MATCHED THEN    \n",
    "UPDATE SET T.contact_details = ARRAY_CONCAT(T.contact_details, S.contact_details);"
   ]
  },
  {
   "cell_type": "code",
   "execution_count": null,
   "id": "78600627-db0e-4086-ae76-bb18edf5a6d9",
   "metadata": {},
   "outputs": [],
   "source": [
    "%%bigquery\n",
    "SELECT * FROM `sourabhjainceanalytics.demo.customer`"
   ]
  },
  {
   "cell_type": "code",
   "execution_count": null,
   "id": "8919a63c-c2d2-4e7d-adda-d5eb1518ee24",
   "metadata": {},
   "outputs": [],
   "source": []
  }
 ],
 "metadata": {
  "environment": {
   "name": "common-cpu.m80",
   "type": "gcloud",
   "uri": "gcr.io/deeplearning-platform-release/base-cpu:m80"
  },
  "kernelspec": {
   "display_name": "Python 3",
   "language": "python",
   "name": "python3"
  },
  "language_info": {
   "codemirror_mode": {
    "name": "ipython",
    "version": 3
   },
   "file_extension": ".py",
   "mimetype": "text/x-python",
   "name": "python",
   "nbconvert_exporter": "python",
   "pygments_lexer": "ipython3",
   "version": "3.7.10"
  }
 },
 "nbformat": 4,
 "nbformat_minor": 5
}
