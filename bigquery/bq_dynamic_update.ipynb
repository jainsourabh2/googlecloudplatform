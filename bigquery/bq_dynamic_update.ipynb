{
 "cells": [
  {
   "cell_type": "raw",
   "id": "4e44c1b6-9f35-4567-a510-47645d277ad0",
   "metadata": {},
   "source": [
    "Lets load some data into the table via JSON file\n",
    "\n",
    "gs://bigquery_json_processing/target_table.json\n",
    "\n",
    "{\"id\":1,\"name\":\"Sourabh\",\"region\":\"Mumbai\",\"salary\":100}\n",
    "{\"id\":2,\"name\":\"Rajesh\",\"region\":\"Mumbai\",\"salary\":200}\n",
    "{\"id\":3,\"name\":\"Nishit\",\"region\":\"Mumbai\",\"salary\":300}\n",
    "{\"id\":4,\"name\":\"Rakesh\",\"region\":\"Mumbai\",\"salary\":400}\n",
    "{\"id\":5,\"name\":\"Vivek\",\"region\":\"Mumbai\",\"salary\":500}"
   ]
  },
  {
   "cell_type": "code",
   "execution_count": 14,
   "id": "51737d1c-e46c-475c-a538-f23785b72c5a",
   "metadata": {},
   "outputs": [
    {
     "name": "stdout",
     "output_type": "stream",
     "text": [
      "Waiting on bqjob_r51fa21b5c197bbec_0000017e4dfdc7a7_1 ... (1s) Current status: DONE   \n"
     ]
    }
   ],
   "source": [
    "!bq load --source_format NEWLINE_DELIMITED_JSON --autodetect \\\n",
    "--ignore_unknown_values sourabhjainceanalytics:demo.target_table gs://bigquery_json_processing/target_table.json"
   ]
  },
  {
   "cell_type": "code",
   "execution_count": 15,
   "id": "3dbc1520-0bfe-4db0-8228-18a9fcb7f481",
   "metadata": {},
   "outputs": [
    {
     "name": "stderr",
     "output_type": "stream",
     "text": [
      "Query complete after 0.00s: 100%|██████████| 1/1 [00:00<00:00, 320.05query/s]                          \n",
      "Downloading: 100%|██████████| 5/5 [00:00<00:00,  5.79rows/s]\n"
     ]
    },
    {
     "data": {
      "text/html": [
       "<div>\n",
       "<style scoped>\n",
       "    .dataframe tbody tr th:only-of-type {\n",
       "        vertical-align: middle;\n",
       "    }\n",
       "\n",
       "    .dataframe tbody tr th {\n",
       "        vertical-align: top;\n",
       "    }\n",
       "\n",
       "    .dataframe thead th {\n",
       "        text-align: right;\n",
       "    }\n",
       "</style>\n",
       "<table border=\"1\" class=\"dataframe\">\n",
       "  <thead>\n",
       "    <tr style=\"text-align: right;\">\n",
       "      <th></th>\n",
       "      <th>region</th>\n",
       "      <th>name</th>\n",
       "      <th>salary</th>\n",
       "      <th>id</th>\n",
       "    </tr>\n",
       "  </thead>\n",
       "  <tbody>\n",
       "    <tr>\n",
       "      <th>0</th>\n",
       "      <td>Mumbai</td>\n",
       "      <td>Sourabh</td>\n",
       "      <td>100</td>\n",
       "      <td>1</td>\n",
       "    </tr>\n",
       "    <tr>\n",
       "      <th>1</th>\n",
       "      <td>Mumbai</td>\n",
       "      <td>Rajesh</td>\n",
       "      <td>200</td>\n",
       "      <td>2</td>\n",
       "    </tr>\n",
       "    <tr>\n",
       "      <th>2</th>\n",
       "      <td>Mumbai</td>\n",
       "      <td>Nishit</td>\n",
       "      <td>300</td>\n",
       "      <td>3</td>\n",
       "    </tr>\n",
       "    <tr>\n",
       "      <th>3</th>\n",
       "      <td>Mumbai</td>\n",
       "      <td>Rakesh</td>\n",
       "      <td>400</td>\n",
       "      <td>4</td>\n",
       "    </tr>\n",
       "    <tr>\n",
       "      <th>4</th>\n",
       "      <td>Mumbai</td>\n",
       "      <td>Vivek</td>\n",
       "      <td>500</td>\n",
       "      <td>5</td>\n",
       "    </tr>\n",
       "  </tbody>\n",
       "</table>\n",
       "</div>"
      ],
      "text/plain": [
       "   region     name  salary  id\n",
       "0  Mumbai  Sourabh     100   1\n",
       "1  Mumbai   Rajesh     200   2\n",
       "2  Mumbai   Nishit     300   3\n",
       "3  Mumbai   Rakesh     400   4\n",
       "4  Mumbai    Vivek     500   5"
      ]
     },
     "execution_count": 15,
     "metadata": {},
     "output_type": "execute_result"
    }
   ],
   "source": [
    "%%bigquery\n",
    "SELECT * FROM `sourabhjainceanalytics.demo.target_table`"
   ]
  },
  {
   "cell_type": "raw",
   "id": "96a6a2ff-8a59-4748-8be4-380cd976270a",
   "metadata": {},
   "source": [
    "Now let us say that we recieve JSON with records for update to region and salary. Every JSON may not have all the fields that needs to be updated. \n",
    "We will first load this into an interim table and then use it to update our main table.\n",
    "\n",
    "gs://bigquery_json_processing/change_table.json\n",
    "\n",
    "{\"id\":1,\"salary\":1000}\n",
    "{\"id\":2,\"region\":\"Ahmedabad\"}\n",
    "{\"id\":3,\"region\":\"Chennai\",\"salary\":3000}"
   ]
  },
  {
   "cell_type": "code",
   "execution_count": 16,
   "id": "b76aea8d-5f52-41ab-bb37-f0110474f878",
   "metadata": {},
   "outputs": [
    {
     "name": "stdout",
     "output_type": "stream",
     "text": [
      "Waiting on bqjob_r768e0d2f5c15b5b4_0000017e4dfdddd0_1 ... (0s) Current status: DONE   \n"
     ]
    }
   ],
   "source": [
    "!bq load --source_format NEWLINE_DELIMITED_JSON --autodetect \\\n",
    "--ignore_unknown_values sourabhjainceanalytics:demo.change_table gs://bigquery_json_processing/change_table.json"
   ]
  },
  {
   "cell_type": "code",
   "execution_count": 17,
   "id": "fb798f9a-2231-443e-8002-a123193edbae",
   "metadata": {},
   "outputs": [
    {
     "name": "stderr",
     "output_type": "stream",
     "text": [
      "Query complete after 0.00s: 100%|██████████| 1/1 [00:00<00:00, 515.33query/s]                          \n",
      "Downloading: 100%|██████████| 3/3 [00:00<00:00,  3.60rows/s]\n"
     ]
    },
    {
     "data": {
      "text/html": [
       "<div>\n",
       "<style scoped>\n",
       "    .dataframe tbody tr th:only-of-type {\n",
       "        vertical-align: middle;\n",
       "    }\n",
       "\n",
       "    .dataframe tbody tr th {\n",
       "        vertical-align: top;\n",
       "    }\n",
       "\n",
       "    .dataframe thead th {\n",
       "        text-align: right;\n",
       "    }\n",
       "</style>\n",
       "<table border=\"1\" class=\"dataframe\">\n",
       "  <thead>\n",
       "    <tr style=\"text-align: right;\">\n",
       "      <th></th>\n",
       "      <th>region</th>\n",
       "      <th>salary</th>\n",
       "      <th>id</th>\n",
       "    </tr>\n",
       "  </thead>\n",
       "  <tbody>\n",
       "    <tr>\n",
       "      <th>0</th>\n",
       "      <td>None</td>\n",
       "      <td>1000.0</td>\n",
       "      <td>1</td>\n",
       "    </tr>\n",
       "    <tr>\n",
       "      <th>1</th>\n",
       "      <td>Ahmedabad</td>\n",
       "      <td>NaN</td>\n",
       "      <td>2</td>\n",
       "    </tr>\n",
       "    <tr>\n",
       "      <th>2</th>\n",
       "      <td>Chennai</td>\n",
       "      <td>3000.0</td>\n",
       "      <td>3</td>\n",
       "    </tr>\n",
       "  </tbody>\n",
       "</table>\n",
       "</div>"
      ],
      "text/plain": [
       "      region  salary  id\n",
       "0       None  1000.0   1\n",
       "1  Ahmedabad     NaN   2\n",
       "2    Chennai  3000.0   3"
      ]
     },
     "execution_count": 17,
     "metadata": {},
     "output_type": "execute_result"
    }
   ],
   "source": [
    "%%bigquery\n",
    "SELECT * FROM `sourabhjainceanalytics.demo.change_table`"
   ]
  },
  {
   "cell_type": "code",
   "execution_count": 18,
   "id": "738688db-273e-4952-94b2-3b9b3ae906d5",
   "metadata": {},
   "outputs": [
    {
     "name": "stderr",
     "output_type": "stream",
     "text": [
      "Query complete after 0.00s: 100%|██████████| 6/6 [00:00<00:00, 3327.05query/s]                        \n"
     ]
    },
    {
     "data": {
      "text/html": [
       "<div>\n",
       "<style scoped>\n",
       "    .dataframe tbody tr th:only-of-type {\n",
       "        vertical-align: middle;\n",
       "    }\n",
       "\n",
       "    .dataframe tbody tr th {\n",
       "        vertical-align: top;\n",
       "    }\n",
       "\n",
       "    .dataframe thead th {\n",
       "        text-align: right;\n",
       "    }\n",
       "</style>\n",
       "<table border=\"1\" class=\"dataframe\">\n",
       "  <thead>\n",
       "    <tr style=\"text-align: right;\">\n",
       "      <th></th>\n",
       "    </tr>\n",
       "  </thead>\n",
       "  <tbody>\n",
       "  </tbody>\n",
       "</table>\n",
       "</div>"
      ],
      "text/plain": [
       "Empty DataFrame\n",
       "Columns: []\n",
       "Index: []"
      ]
     },
     "execution_count": 18,
     "metadata": {},
     "output_type": "execute_result"
    }
   ],
   "source": [
    "%%bigquery\n",
    "MERGE demo.target_table T\n",
    "USING demo.change_table S\n",
    "ON T.id = S.id\n",
    "WHEN MATCHED THEN \n",
    "        UPDATE SET   T.region = CASE WHEN S.region IS NULL THEN T.region ELSE S.region END\n",
    "                    ,T.salary = CASE WHEN S.salary IS NULL THEN T.salary ELSE S.salary END"
   ]
  },
  {
   "cell_type": "code",
   "execution_count": 19,
   "id": "21738047-8cc3-4ca3-9c92-fc77493d2a84",
   "metadata": {},
   "outputs": [
    {
     "name": "stderr",
     "output_type": "stream",
     "text": [
      "Query complete after 0.00s: 100%|██████████| 1/1 [00:00<00:00, 528.78query/s]                          \n",
      "Downloading: 100%|██████████| 5/5 [00:00<00:00,  5.88rows/s]\n"
     ]
    },
    {
     "data": {
      "text/html": [
       "<div>\n",
       "<style scoped>\n",
       "    .dataframe tbody tr th:only-of-type {\n",
       "        vertical-align: middle;\n",
       "    }\n",
       "\n",
       "    .dataframe tbody tr th {\n",
       "        vertical-align: top;\n",
       "    }\n",
       "\n",
       "    .dataframe thead th {\n",
       "        text-align: right;\n",
       "    }\n",
       "</style>\n",
       "<table border=\"1\" class=\"dataframe\">\n",
       "  <thead>\n",
       "    <tr style=\"text-align: right;\">\n",
       "      <th></th>\n",
       "      <th>region</th>\n",
       "      <th>name</th>\n",
       "      <th>salary</th>\n",
       "      <th>id</th>\n",
       "    </tr>\n",
       "  </thead>\n",
       "  <tbody>\n",
       "    <tr>\n",
       "      <th>0</th>\n",
       "      <td>Mumbai</td>\n",
       "      <td>Sourabh</td>\n",
       "      <td>1000</td>\n",
       "      <td>1</td>\n",
       "    </tr>\n",
       "    <tr>\n",
       "      <th>1</th>\n",
       "      <td>Mumbai</td>\n",
       "      <td>Rakesh</td>\n",
       "      <td>400</td>\n",
       "      <td>4</td>\n",
       "    </tr>\n",
       "    <tr>\n",
       "      <th>2</th>\n",
       "      <td>Mumbai</td>\n",
       "      <td>Vivek</td>\n",
       "      <td>500</td>\n",
       "      <td>5</td>\n",
       "    </tr>\n",
       "    <tr>\n",
       "      <th>3</th>\n",
       "      <td>Chennai</td>\n",
       "      <td>Nishit</td>\n",
       "      <td>3000</td>\n",
       "      <td>3</td>\n",
       "    </tr>\n",
       "    <tr>\n",
       "      <th>4</th>\n",
       "      <td>Ahmedabad</td>\n",
       "      <td>Rajesh</td>\n",
       "      <td>200</td>\n",
       "      <td>2</td>\n",
       "    </tr>\n",
       "  </tbody>\n",
       "</table>\n",
       "</div>"
      ],
      "text/plain": [
       "      region     name  salary  id\n",
       "0     Mumbai  Sourabh    1000   1\n",
       "1     Mumbai   Rakesh     400   4\n",
       "2     Mumbai    Vivek     500   5\n",
       "3    Chennai   Nishit    3000   3\n",
       "4  Ahmedabad   Rajesh     200   2"
      ]
     },
     "execution_count": 19,
     "metadata": {},
     "output_type": "execute_result"
    }
   ],
   "source": [
    "%%bigquery\n",
    "SELECT * FROM `sourabhjainceanalytics.demo.target_table`"
   ]
  },
  {
   "cell_type": "raw",
   "id": "cb4e459e-659c-4872-8293-b8588cc16d27",
   "metadata": {},
   "source": [
    "Now we have seen that the value are updated appropriately. However we will not be sure of the columns that would come in the JSON file and hence we need to make \n",
    "the below clause dynamic based on the attributes in the JSON file.\n",
    "\n",
    " T.region = CASE WHEN S.region IS NULL THEN T.region ELSE S.region END\n",
    ",T.salary = CASE WHEN S.salary IS NULL THEN T.salary ELSE S.salary END\n",
    "\n",
    "BigQuery provides metadata about the tables and we can leverage that to find the columns. In the below query we provide name of the table for which we want to find the columns\n",
    "and also ignore the key column in the output. We can use this information and write a custom script to prepare the clause dynamically."
   ]
  },
  {
   "cell_type": "code",
   "execution_count": 20,
   "id": "b823f3d1-3b9d-4a46-8ca5-8f016db67dc5",
   "metadata": {},
   "outputs": [
    {
     "name": "stderr",
     "output_type": "stream",
     "text": [
      "Query complete after 0.00s: 100%|██████████| 1/1 [00:00<00:00, 552.25query/s]                          \n",
      "Downloading: 100%|██████████| 2/2 [00:00<00:00,  2.44rows/s]\n"
     ]
    },
    {
     "data": {
      "text/html": [
       "<div>\n",
       "<style scoped>\n",
       "    .dataframe tbody tr th:only-of-type {\n",
       "        vertical-align: middle;\n",
       "    }\n",
       "\n",
       "    .dataframe tbody tr th {\n",
       "        vertical-align: top;\n",
       "    }\n",
       "\n",
       "    .dataframe thead th {\n",
       "        text-align: right;\n",
       "    }\n",
       "</style>\n",
       "<table border=\"1\" class=\"dataframe\">\n",
       "  <thead>\n",
       "    <tr style=\"text-align: right;\">\n",
       "      <th></th>\n",
       "      <th>column_name</th>\n",
       "    </tr>\n",
       "  </thead>\n",
       "  <tbody>\n",
       "    <tr>\n",
       "      <th>0</th>\n",
       "      <td>region</td>\n",
       "    </tr>\n",
       "    <tr>\n",
       "      <th>1</th>\n",
       "      <td>salary</td>\n",
       "    </tr>\n",
       "  </tbody>\n",
       "</table>\n",
       "</div>"
      ],
      "text/plain": [
       "  column_name\n",
       "0      region\n",
       "1      salary"
      ]
     },
     "execution_count": 20,
     "metadata": {},
     "output_type": "execute_result"
    }
   ],
   "source": [
    "%%bigquery\n",
    "SELECT column_name \n",
    "FROM sourabhjainceanalytics.demo.INFORMATION_SCHEMA.COLUMNS \n",
    "WHERE table_name IN ('change_table') \n",
    "and column_name NOT IN ('id')"
   ]
  },
  {
   "cell_type": "code",
   "execution_count": 21,
   "id": "aac8de95-5c68-4ed2-b44a-2290a3f2771a",
   "metadata": {},
   "outputs": [
    {
     "name": "stderr",
     "output_type": "stream",
     "text": [
      "Query complete after 0.00s: 100%|██████████| 1/1 [00:00<00:00, 741.31query/s] \n",
      "Downloading: 100%|██████████| 5/5 [00:00<00:00,  6.24rows/s]\n"
     ]
    },
    {
     "data": {
      "text/html": [
       "<div>\n",
       "<style scoped>\n",
       "    .dataframe tbody tr th:only-of-type {\n",
       "        vertical-align: middle;\n",
       "    }\n",
       "\n",
       "    .dataframe tbody tr th {\n",
       "        vertical-align: top;\n",
       "    }\n",
       "\n",
       "    .dataframe thead th {\n",
       "        text-align: right;\n",
       "    }\n",
       "</style>\n",
       "<table border=\"1\" class=\"dataframe\">\n",
       "  <thead>\n",
       "    <tr style=\"text-align: right;\">\n",
       "      <th></th>\n",
       "      <th>region</th>\n",
       "      <th>name</th>\n",
       "      <th>salary</th>\n",
       "      <th>id</th>\n",
       "    </tr>\n",
       "  </thead>\n",
       "  <tbody>\n",
       "    <tr>\n",
       "      <th>0</th>\n",
       "      <td>Mumbai</td>\n",
       "      <td>Sourabh</td>\n",
       "      <td>1000</td>\n",
       "      <td>1</td>\n",
       "    </tr>\n",
       "    <tr>\n",
       "      <th>1</th>\n",
       "      <td>Mumbai</td>\n",
       "      <td>Rakesh</td>\n",
       "      <td>400</td>\n",
       "      <td>4</td>\n",
       "    </tr>\n",
       "    <tr>\n",
       "      <th>2</th>\n",
       "      <td>Mumbai</td>\n",
       "      <td>Vivek</td>\n",
       "      <td>500</td>\n",
       "      <td>5</td>\n",
       "    </tr>\n",
       "    <tr>\n",
       "      <th>3</th>\n",
       "      <td>Chennai</td>\n",
       "      <td>Nishit</td>\n",
       "      <td>3000</td>\n",
       "      <td>3</td>\n",
       "    </tr>\n",
       "    <tr>\n",
       "      <th>4</th>\n",
       "      <td>Ahmedabad</td>\n",
       "      <td>Rajesh</td>\n",
       "      <td>200</td>\n",
       "      <td>2</td>\n",
       "    </tr>\n",
       "  </tbody>\n",
       "</table>\n",
       "</div>"
      ],
      "text/plain": [
       "      region     name  salary  id\n",
       "0     Mumbai  Sourabh    1000   1\n",
       "1     Mumbai   Rakesh     400   4\n",
       "2     Mumbai    Vivek     500   5\n",
       "3    Chennai   Nishit    3000   3\n",
       "4  Ahmedabad   Rajesh     200   2"
      ]
     },
     "execution_count": 21,
     "metadata": {},
     "output_type": "execute_result"
    }
   ],
   "source": [
    "%%bigquery\n",
    "SELECT * FROM `sourabhjainceanalytics.demo.target_table`"
   ]
  },
  {
   "cell_type": "code",
   "execution_count": null,
   "id": "2f404e56-f209-4ba7-ba12-6db63e2f871c",
   "metadata": {},
   "outputs": [],
   "source": []
  }
 ],
 "metadata": {
  "environment": {
   "name": "common-cpu.m80",
   "type": "gcloud",
   "uri": "gcr.io/deeplearning-platform-release/base-cpu:m80"
  },
  "kernelspec": {
   "display_name": "Python 3",
   "language": "python",
   "name": "python3"
  },
  "language_info": {
   "codemirror_mode": {
    "name": "ipython",
    "version": 3
   },
   "file_extension": ".py",
   "mimetype": "text/x-python",
   "name": "python",
   "nbconvert_exporter": "python",
   "pygments_lexer": "ipython3",
   "version": "3.7.10"
  }
 },
 "nbformat": 4,
 "nbformat_minor": 5
}
